{
 "cells": [
  {
   "cell_type": "code",
   "execution_count": 2,
   "metadata": {},
   "outputs": [],
   "source": [
    "from sklearn.model_selection import train_test_split, cross_val_score, GridSearchCV\n",
    "import re\n",
    "import pandas as pd\n",
    "import numpy as np\n",
    "import matplotlib.pyplot as plt\n",
    "import seaborn as sns\n",
    "plt.rcParams['figure.figsize'] = (10, 6)"
   ]
  },
  {
   "cell_type": "markdown",
   "metadata": {},
   "source": [
    "# Acquérir les données et créer le Dataframe  \n",
    "\n",
    "## A) **Scrapping** : \n",
    "- Identification des criteres de recherches afin d'avoir plus d'informations. \n",
    "- Collecter les données necessaires permettant de prédire le prix final de chaque maison.\n",
    "\n",
    "## B) **Description des données**:\n",
    "\n",
    "- Lyon :  239 observations et 29 variables qualitatives. On a 38 observations (pour le site Belle Demeurre) et 201 observations(pour le site SeLoger).\n",
    "\n",
    "\n",
    "\n",
    "    - sl_prix : prix de vente du bien en euros.\n",
    "    - sl_style: le type de logement\n",
    "    - sl_prix :prix de logement en euros (target à predire)\n",
    "    - sl_année :année de construction\n",
    "    - sl_gardien :s'il ya un gardien  ou pas \n",
    "    - sl_taille : la surface \n",
    "    Etc."
   ]
  },
  {
   "cell_type": "code",
   "execution_count": 3,
   "metadata": {},
   "outputs": [
    {
     "data": {
      "text/html": [
       "<div>\n",
       "<style scoped>\n",
       "    .dataframe tbody tr th:only-of-type {\n",
       "        vertical-align: middle;\n",
       "    }\n",
       "\n",
       "    .dataframe tbody tr th {\n",
       "        vertical-align: top;\n",
       "    }\n",
       "\n",
       "    .dataframe thead th {\n",
       "        text-align: right;\n",
       "    }\n",
       "</style>\n",
       "<table border=\"1\" class=\"dataframe\">\n",
       "  <thead>\n",
       "    <tr style=\"text-align: right;\">\n",
       "      <th></th>\n",
       "      <th>sl_style</th>\n",
       "      <th>sl_localisation</th>\n",
       "      <th>sl_nb_chambre</th>\n",
       "      <th>sl_taille</th>\n",
       "      <th>sl_prix</th>\n",
       "      <th>sl_paragraphe</th>\n",
       "      <th>sl_salle_d_eau</th>\n",
       "      <th>sl_salle_de_bain</th>\n",
       "      <th>sl_toilette</th>\n",
       "      <th>sl_annee</th>\n",
       "      <th>...</th>\n",
       "      <th>sl_terrasse</th>\n",
       "      <th>sl_gardien</th>\n",
       "      <th>sl_travaux</th>\n",
       "      <th>sl_neuf</th>\n",
       "      <th>sl_parquet</th>\n",
       "      <th>sl_cuisine</th>\n",
       "      <th>sl_vis_a_vis</th>\n",
       "      <th>sl_jardin</th>\n",
       "      <th>sl_piscine</th>\n",
       "      <th>sl_nb_piece</th>\n",
       "    </tr>\n",
       "  </thead>\n",
       "  <tbody>\n",
       "    <tr>\n",
       "      <th>0</th>\n",
       "      <td>Appartement</td>\n",
       "      <td>NaN</td>\n",
       "      <td>3.0</td>\n",
       "      <td>114.0</td>\n",
       "      <td>440000.0</td>\n",
       "      <td>CALUIRE Face au 6E - T4 - ancien rénové avec c...</td>\n",
       "      <td>NaN</td>\n",
       "      <td>NaN</td>\n",
       "      <td>NaN</td>\n",
       "      <td>Année de construction 1900</td>\n",
       "      <td>...</td>\n",
       "      <td>NaN</td>\n",
       "      <td>NaN</td>\n",
       "      <td>NaN</td>\n",
       "      <td>NaN</td>\n",
       "      <td>NaN</td>\n",
       "      <td>NaN</td>\n",
       "      <td>NaN</td>\n",
       "      <td>NaN</td>\n",
       "      <td>NaN</td>\n",
       "      <td>4.0</td>\n",
       "    </tr>\n",
       "    <tr>\n",
       "      <th>1</th>\n",
       "      <td>Appartement</td>\n",
       "      <td>Quartier Les Brotteaux-Bellecombe-Masséna</td>\n",
       "      <td>2.0</td>\n",
       "      <td>63.0</td>\n",
       "      <td>410000.0</td>\n",
       "      <td>Exclusivité Entrevue Immobilière - T3 Proche P...</td>\n",
       "      <td>NaN</td>\n",
       "      <td>1.0</td>\n",
       "      <td>1.0</td>\n",
       "      <td>Année de construction 1963</td>\n",
       "      <td>...</td>\n",
       "      <td>NaN</td>\n",
       "      <td>NaN</td>\n",
       "      <td>NaN</td>\n",
       "      <td>NaN</td>\n",
       "      <td>NaN</td>\n",
       "      <td>Cuisine équipée</td>\n",
       "      <td>NaN</td>\n",
       "      <td>NaN</td>\n",
       "      <td>NaN</td>\n",
       "      <td>3.0</td>\n",
       "    </tr>\n",
       "    <tr>\n",
       "      <th>2</th>\n",
       "      <td>Appartement</td>\n",
       "      <td>Quartier Les Brotteaux-Bellecombe-Masséna</td>\n",
       "      <td>2.0</td>\n",
       "      <td>73.0</td>\n",
       "      <td>475000.0</td>\n",
       "      <td>T3 de 73 m² offrant un séjour en parquet plein...</td>\n",
       "      <td>NaN</td>\n",
       "      <td>NaN</td>\n",
       "      <td>NaN</td>\n",
       "      <td>NaN</td>\n",
       "      <td>...</td>\n",
       "      <td>NaN</td>\n",
       "      <td>NaN</td>\n",
       "      <td>NaN</td>\n",
       "      <td>NaN</td>\n",
       "      <td>NaN</td>\n",
       "      <td>NaN</td>\n",
       "      <td>NaN</td>\n",
       "      <td>NaN</td>\n",
       "      <td>NaN</td>\n",
       "      <td>3.0</td>\n",
       "    </tr>\n",
       "    <tr>\n",
       "      <th>3</th>\n",
       "      <td>Appartement</td>\n",
       "      <td>NaN</td>\n",
       "      <td>1.0</td>\n",
       "      <td>23.0</td>\n",
       "      <td>237000.0</td>\n",
       "      <td>Coup de coeur pour ce magnifique T2 entièremen...</td>\n",
       "      <td>1.0</td>\n",
       "      <td>NaN</td>\n",
       "      <td>1.0</td>\n",
       "      <td>Année de construction 1960</td>\n",
       "      <td>...</td>\n",
       "      <td>NaN</td>\n",
       "      <td>NaN</td>\n",
       "      <td>NaN</td>\n",
       "      <td>NaN</td>\n",
       "      <td>NaN</td>\n",
       "      <td>Cuisine américaine équipée</td>\n",
       "      <td>NaN</td>\n",
       "      <td>NaN</td>\n",
       "      <td>NaN</td>\n",
       "      <td>2.0</td>\n",
       "    </tr>\n",
       "    <tr>\n",
       "      <th>4</th>\n",
       "      <td>Appartement</td>\n",
       "      <td>Quartier Les Brotteaux-Bellecombe-Masséna</td>\n",
       "      <td>1.0</td>\n",
       "      <td>39.0</td>\n",
       "      <td>179000.0</td>\n",
       "      <td>Spécial investisseurs ! Appartement 2 pièces a...</td>\n",
       "      <td>NaN</td>\n",
       "      <td>NaN</td>\n",
       "      <td>NaN</td>\n",
       "      <td>NaN</td>\n",
       "      <td>...</td>\n",
       "      <td>NaN</td>\n",
       "      <td>NaN</td>\n",
       "      <td>NaN</td>\n",
       "      <td>NaN</td>\n",
       "      <td>NaN</td>\n",
       "      <td>Cuisine aucune</td>\n",
       "      <td>NaN</td>\n",
       "      <td>NaN</td>\n",
       "      <td>NaN</td>\n",
       "      <td>2.0</td>\n",
       "    </tr>\n",
       "  </tbody>\n",
       "</table>\n",
       "<p>5 rows × 29 columns</p>\n",
       "</div>"
      ],
      "text/plain": [
       "      sl_style                            sl_localisation  sl_nb_chambre  \\\n",
       "0  Appartement                                        NaN            3.0   \n",
       "1  Appartement  Quartier Les Brotteaux-Bellecombe-Masséna            2.0   \n",
       "2  Appartement  Quartier Les Brotteaux-Bellecombe-Masséna            2.0   \n",
       "3  Appartement                                        NaN            1.0   \n",
       "4  Appartement  Quartier Les Brotteaux-Bellecombe-Masséna            1.0   \n",
       "\n",
       "   sl_taille   sl_prix                                      sl_paragraphe  \\\n",
       "0      114.0  440000.0  CALUIRE Face au 6E - T4 - ancien rénové avec c...   \n",
       "1       63.0  410000.0  Exclusivité Entrevue Immobilière - T3 Proche P...   \n",
       "2       73.0  475000.0  T3 de 73 m² offrant un séjour en parquet plein...   \n",
       "3       23.0  237000.0  Coup de coeur pour ce magnifique T2 entièremen...   \n",
       "4       39.0  179000.0  Spécial investisseurs ! Appartement 2 pièces a...   \n",
       "\n",
       "   sl_salle_d_eau  sl_salle_de_bain  sl_toilette                    sl_annee  \\\n",
       "0             NaN               NaN          NaN  Année de construction 1900   \n",
       "1             NaN               1.0          1.0  Année de construction 1963   \n",
       "2             NaN               NaN          NaN                         NaN   \n",
       "3             1.0               NaN          1.0  Année de construction 1960   \n",
       "4             NaN               NaN          NaN                         NaN   \n",
       "\n",
       "   ...  sl_terrasse  sl_gardien sl_travaux sl_neuf sl_parquet  \\\n",
       "0  ...          NaN         NaN        NaN     NaN        NaN   \n",
       "1  ...          NaN         NaN        NaN     NaN        NaN   \n",
       "2  ...          NaN         NaN        NaN     NaN        NaN   \n",
       "3  ...          NaN         NaN        NaN     NaN        NaN   \n",
       "4  ...          NaN         NaN        NaN     NaN        NaN   \n",
       "\n",
       "                   sl_cuisine  sl_vis_a_vis sl_jardin sl_piscine  sl_nb_piece  \n",
       "0                         NaN           NaN       NaN        NaN          4.0  \n",
       "1             Cuisine équipée           NaN       NaN        NaN          3.0  \n",
       "2                         NaN           NaN       NaN        NaN          3.0  \n",
       "3  Cuisine américaine équipée           NaN       NaN        NaN          2.0  \n",
       "4              Cuisine aucune           NaN       NaN        NaN          2.0  \n",
       "\n",
       "[5 rows x 29 columns]"
      ]
     },
     "execution_count": 3,
     "metadata": {},
     "output_type": "execute_result"
    }
   ],
   "source": [
    "dfLyonSL = pd.read_csv(\"data_lyon_sl.csv\")\n",
    "dfLyonSL.head()"
   ]
  },
  {
   "cell_type": "code",
   "execution_count": 4,
   "metadata": {},
   "outputs": [
    {
     "data": {
      "text/html": [
       "<div>\n",
       "<style scoped>\n",
       "    .dataframe tbody tr th:only-of-type {\n",
       "        vertical-align: middle;\n",
       "    }\n",
       "\n",
       "    .dataframe tbody tr th {\n",
       "        vertical-align: top;\n",
       "    }\n",
       "\n",
       "    .dataframe thead th {\n",
       "        text-align: right;\n",
       "    }\n",
       "</style>\n",
       "<table border=\"1\" class=\"dataframe\">\n",
       "  <thead>\n",
       "    <tr style=\"text-align: right;\">\n",
       "      <th></th>\n",
       "      <th>bd_style</th>\n",
       "      <th>bd_nb_chambre</th>\n",
       "      <th>bd_nb_piece</th>\n",
       "      <th>bd_paragraphe</th>\n",
       "      <th>bd_salle_d_eau</th>\n",
       "      <th>bd_salle_de_bain</th>\n",
       "      <th>bd_toilette</th>\n",
       "      <th>bd_annee</th>\n",
       "      <th>bd_etage</th>\n",
       "      <th>bd_ascenseur</th>\n",
       "      <th>...</th>\n",
       "      <th>bd_neuf</th>\n",
       "      <th>bd_parking</th>\n",
       "      <th>bd_parquet</th>\n",
       "      <th>bd_piscine</th>\n",
       "      <th>bd_taille</th>\n",
       "      <th>bd_terrasse</th>\n",
       "      <th>bd_travaux</th>\n",
       "      <th>bd_vis_a_vis</th>\n",
       "      <th>bd_vue</th>\n",
       "      <th>prix</th>\n",
       "    </tr>\n",
       "  </thead>\n",
       "  <tbody>\n",
       "    <tr>\n",
       "      <th>0</th>\n",
       "      <td>Appartement</td>\n",
       "      <td>3</td>\n",
       "      <td>4</td>\n",
       "      <td>Lyon 6 - Tête-d'Or - Appartement de 106,16 m² ...</td>\n",
       "      <td>NaN</td>\n",
       "      <td>1.0</td>\n",
       "      <td>1.0</td>\n",
       "      <td>Année de construction 1965</td>\n",
       "      <td>4.0</td>\n",
       "      <td>NaN</td>\n",
       "      <td>...</td>\n",
       "      <td>NaN</td>\n",
       "      <td>NaN</td>\n",
       "      <td>NaN</td>\n",
       "      <td>NaN</td>\n",
       "      <td>106</td>\n",
       "      <td>NaN</td>\n",
       "      <td>NaN</td>\n",
       "      <td>NaN</td>\n",
       "      <td>NaN</td>\n",
       "      <td>795000.0</td>\n",
       "    </tr>\n",
       "    <tr>\n",
       "      <th>1</th>\n",
       "      <td>Appartement</td>\n",
       "      <td>3</td>\n",
       "      <td>4</td>\n",
       "      <td>Appartement 4 pièces de 110.3m² avec balcon ex...</td>\n",
       "      <td>1.0</td>\n",
       "      <td>1.0</td>\n",
       "      <td>2.0</td>\n",
       "      <td>Année de construction 2000</td>\n",
       "      <td>3.0</td>\n",
       "      <td>Ascenseur</td>\n",
       "      <td>...</td>\n",
       "      <td>NaN</td>\n",
       "      <td>NaN</td>\n",
       "      <td>NaN</td>\n",
       "      <td>NaN</td>\n",
       "      <td>110</td>\n",
       "      <td>NaN</td>\n",
       "      <td>NaN</td>\n",
       "      <td>NaN</td>\n",
       "      <td>NaN</td>\n",
       "      <td>850000.0</td>\n",
       "    </tr>\n",
       "    <tr>\n",
       "      <th>2</th>\n",
       "      <td>Appartement</td>\n",
       "      <td>4</td>\n",
       "      <td>5</td>\n",
       "      <td>Boulevard des Belges, au dernier étage avec ac...</td>\n",
       "      <td>NaN</td>\n",
       "      <td>NaN</td>\n",
       "      <td>NaN</td>\n",
       "      <td>Année de construction 1982</td>\n",
       "      <td>3.0</td>\n",
       "      <td>Ascenseur</td>\n",
       "      <td>...</td>\n",
       "      <td>NaN</td>\n",
       "      <td>NaN</td>\n",
       "      <td>NaN</td>\n",
       "      <td>NaN</td>\n",
       "      <td>130</td>\n",
       "      <td>NaN</td>\n",
       "      <td>NaN</td>\n",
       "      <td>NaN</td>\n",
       "      <td>Belle vue</td>\n",
       "      <td>1450000.0</td>\n",
       "    </tr>\n",
       "    <tr>\n",
       "      <th>3</th>\n",
       "      <td>Duplex</td>\n",
       "      <td>3</td>\n",
       "      <td>5</td>\n",
       "      <td>Situé dans le 6ème arrondissement de Lyon, Pla...</td>\n",
       "      <td>1.0</td>\n",
       "      <td>1.0</td>\n",
       "      <td>2.0</td>\n",
       "      <td>NaN</td>\n",
       "      <td>4.0</td>\n",
       "      <td>Ascenseur</td>\n",
       "      <td>...</td>\n",
       "      <td>NaN</td>\n",
       "      <td>NaN</td>\n",
       "      <td>Parquet</td>\n",
       "      <td>NaN</td>\n",
       "      <td>120</td>\n",
       "      <td>NaN</td>\n",
       "      <td>NaN</td>\n",
       "      <td>NaN</td>\n",
       "      <td>NaN</td>\n",
       "      <td>890000.0</td>\n",
       "    </tr>\n",
       "    <tr>\n",
       "      <th>4</th>\n",
       "      <td>Appartement</td>\n",
       "      <td>3</td>\n",
       "      <td>6</td>\n",
       "      <td>A proximité immédiate de l'entrée du Parc de l...</td>\n",
       "      <td>1.0</td>\n",
       "      <td>1.0</td>\n",
       "      <td>1.0</td>\n",
       "      <td>NaN</td>\n",
       "      <td>1.0</td>\n",
       "      <td>Ascenseur</td>\n",
       "      <td>...</td>\n",
       "      <td>NaN</td>\n",
       "      <td>NaN</td>\n",
       "      <td>NaN</td>\n",
       "      <td>NaN</td>\n",
       "      <td>183</td>\n",
       "      <td>NaN</td>\n",
       "      <td>NaN</td>\n",
       "      <td>NaN</td>\n",
       "      <td>NaN</td>\n",
       "      <td>1550000.0</td>\n",
       "    </tr>\n",
       "    <tr>\n",
       "      <th>5</th>\n",
       "      <td>Triplex</td>\n",
       "      <td>4</td>\n",
       "      <td>5</td>\n",
       "      <td>Proximité Place Kléber et crs Franklin Rooseve...</td>\n",
       "      <td>1.0</td>\n",
       "      <td>1.0</td>\n",
       "      <td>3.0</td>\n",
       "      <td>NaN</td>\n",
       "      <td>3.0</td>\n",
       "      <td>NaN</td>\n",
       "      <td>...</td>\n",
       "      <td>NaN</td>\n",
       "      <td>NaN</td>\n",
       "      <td>NaN</td>\n",
       "      <td>NaN</td>\n",
       "      <td>136</td>\n",
       "      <td>NaN</td>\n",
       "      <td>NaN</td>\n",
       "      <td>NaN</td>\n",
       "      <td>NaN</td>\n",
       "      <td>910000.0</td>\n",
       "    </tr>\n",
       "    <tr>\n",
       "      <th>6</th>\n",
       "      <td>Appartement</td>\n",
       "      <td>4</td>\n",
       "      <td>6</td>\n",
       "      <td>Dans l'axe de la Place Puvis de Chavanne idéal...</td>\n",
       "      <td>2.0</td>\n",
       "      <td>2.0</td>\n",
       "      <td>2.0</td>\n",
       "      <td>Année de construction 1965</td>\n",
       "      <td>1.0</td>\n",
       "      <td>Ascenseur</td>\n",
       "      <td>...</td>\n",
       "      <td>NaN</td>\n",
       "      <td>NaN</td>\n",
       "      <td>Parquet</td>\n",
       "      <td>NaN</td>\n",
       "      <td>231</td>\n",
       "      <td>NaN</td>\n",
       "      <td>NaN</td>\n",
       "      <td>NaN</td>\n",
       "      <td>NaN</td>\n",
       "      <td>1495000.0</td>\n",
       "    </tr>\n",
       "    <tr>\n",
       "      <th>7</th>\n",
       "      <td>Appartement</td>\n",
       "      <td>4</td>\n",
       "      <td>6</td>\n",
       "      <td>Venez découvrir ce grand appartement familial ...</td>\n",
       "      <td>NaN</td>\n",
       "      <td>3.0</td>\n",
       "      <td>2.0</td>\n",
       "      <td>Année de construction 1970</td>\n",
       "      <td>6.0</td>\n",
       "      <td>Ascenseur</td>\n",
       "      <td>...</td>\n",
       "      <td>NaN</td>\n",
       "      <td>NaN</td>\n",
       "      <td>NaN</td>\n",
       "      <td>NaN</td>\n",
       "      <td>168</td>\n",
       "      <td>NaN</td>\n",
       "      <td>NaN</td>\n",
       "      <td>NaN</td>\n",
       "      <td>Belle vue</td>\n",
       "      <td>1050000.0</td>\n",
       "    </tr>\n",
       "    <tr>\n",
       "      <th>8</th>\n",
       "      <td>Triplex</td>\n",
       "      <td>4</td>\n",
       "      <td>5</td>\n",
       "      <td>Proximité Place Kléber et crs Franklin Rooseve...</td>\n",
       "      <td>1.0</td>\n",
       "      <td>1.0</td>\n",
       "      <td>3.0</td>\n",
       "      <td>NaN</td>\n",
       "      <td>3.0</td>\n",
       "      <td>NaN</td>\n",
       "      <td>...</td>\n",
       "      <td>NaN</td>\n",
       "      <td>NaN</td>\n",
       "      <td>NaN</td>\n",
       "      <td>NaN</td>\n",
       "      <td>136</td>\n",
       "      <td>NaN</td>\n",
       "      <td>NaN</td>\n",
       "      <td>NaN</td>\n",
       "      <td>NaN</td>\n",
       "      <td>910000.0</td>\n",
       "    </tr>\n",
       "    <tr>\n",
       "      <th>9</th>\n",
       "      <td>Appartement</td>\n",
       "      <td>3</td>\n",
       "      <td>4</td>\n",
       "      <td>Cours Vitton, au métro Masséna, en étage élevé...</td>\n",
       "      <td>1.0</td>\n",
       "      <td>1.0</td>\n",
       "      <td>1.0</td>\n",
       "      <td>Année de construction 1900</td>\n",
       "      <td>4.0</td>\n",
       "      <td>Ascenseur</td>\n",
       "      <td>...</td>\n",
       "      <td>NaN</td>\n",
       "      <td>NaN</td>\n",
       "      <td>Parquet</td>\n",
       "      <td>NaN</td>\n",
       "      <td>88</td>\n",
       "      <td>NaN</td>\n",
       "      <td>NaN</td>\n",
       "      <td>NaN</td>\n",
       "      <td>NaN</td>\n",
       "      <td>690000.0</td>\n",
       "    </tr>\n",
       "    <tr>\n",
       "      <th>10</th>\n",
       "      <td>Appartement</td>\n",
       "      <td>2</td>\n",
       "      <td>5</td>\n",
       "      <td>Exceptionnel, en étage élevé avec une vue pano...</td>\n",
       "      <td>1.0</td>\n",
       "      <td>1.0</td>\n",
       "      <td>2.0</td>\n",
       "      <td>NaN</td>\n",
       "      <td>6.0</td>\n",
       "      <td>NaN</td>\n",
       "      <td>...</td>\n",
       "      <td>NaN</td>\n",
       "      <td>NaN</td>\n",
       "      <td>NaN</td>\n",
       "      <td>NaN</td>\n",
       "      <td>163</td>\n",
       "      <td>NaN</td>\n",
       "      <td>NaN</td>\n",
       "      <td>NaN</td>\n",
       "      <td>Belle vue</td>\n",
       "      <td>1560000.0</td>\n",
       "    </tr>\n",
       "    <tr>\n",
       "      <th>11</th>\n",
       "      <td>Appartement</td>\n",
       "      <td>4</td>\n",
       "      <td>6</td>\n",
       "      <td>Venez découvrir ce grand appartement familial ...</td>\n",
       "      <td>NaN</td>\n",
       "      <td>3.0</td>\n",
       "      <td>2.0</td>\n",
       "      <td>Année de construction 1970</td>\n",
       "      <td>6.0</td>\n",
       "      <td>Ascenseur</td>\n",
       "      <td>...</td>\n",
       "      <td>NaN</td>\n",
       "      <td>NaN</td>\n",
       "      <td>NaN</td>\n",
       "      <td>NaN</td>\n",
       "      <td>168</td>\n",
       "      <td>NaN</td>\n",
       "      <td>NaN</td>\n",
       "      <td>NaN</td>\n",
       "      <td>Belle vue</td>\n",
       "      <td>1050000.0</td>\n",
       "    </tr>\n",
       "    <tr>\n",
       "      <th>12</th>\n",
       "      <td>Appartement</td>\n",
       "      <td>3</td>\n",
       "      <td>4</td>\n",
       "      <td>Lyon 6 - Boulevard des Belges - Appartement de...</td>\n",
       "      <td>1.0</td>\n",
       "      <td>1.0</td>\n",
       "      <td>NaN</td>\n",
       "      <td>Année de construction 1910</td>\n",
       "      <td>1.0</td>\n",
       "      <td>Ascenseur</td>\n",
       "      <td>...</td>\n",
       "      <td>NaN</td>\n",
       "      <td>NaN</td>\n",
       "      <td>NaN</td>\n",
       "      <td>NaN</td>\n",
       "      <td>183</td>\n",
       "      <td>NaN</td>\n",
       "      <td>NaN</td>\n",
       "      <td>NaN</td>\n",
       "      <td>NaN</td>\n",
       "      <td>1550000.0</td>\n",
       "    </tr>\n",
       "    <tr>\n",
       "      <th>13</th>\n",
       "      <td>Appartement</td>\n",
       "      <td>4</td>\n",
       "      <td>5</td>\n",
       "      <td>Situé rue Tronchet, dans le 6ème arrondissemen...</td>\n",
       "      <td>1.0</td>\n",
       "      <td>1.0</td>\n",
       "      <td>2.0</td>\n",
       "      <td>Année de construction 1900</td>\n",
       "      <td>4.0</td>\n",
       "      <td>Ascenseur</td>\n",
       "      <td>...</td>\n",
       "      <td>NaN</td>\n",
       "      <td>NaN</td>\n",
       "      <td>NaN</td>\n",
       "      <td>NaN</td>\n",
       "      <td>164</td>\n",
       "      <td>NaN</td>\n",
       "      <td>NaN</td>\n",
       "      <td>NaN</td>\n",
       "      <td>NaN</td>\n",
       "      <td>1370000.0</td>\n",
       "    </tr>\n",
       "    <tr>\n",
       "      <th>14</th>\n",
       "      <td>Appartement</td>\n",
       "      <td>3</td>\n",
       "      <td>5</td>\n",
       "      <td>Exclusivité. Lyon 6ème, boulevard des Belges. ...</td>\n",
       "      <td>NaN</td>\n",
       "      <td>1.0</td>\n",
       "      <td>2.0</td>\n",
       "      <td>Année de construction 1956</td>\n",
       "      <td>2.0</td>\n",
       "      <td>Ascenseur</td>\n",
       "      <td>...</td>\n",
       "      <td>NaN</td>\n",
       "      <td>NaN</td>\n",
       "      <td>NaN</td>\n",
       "      <td>NaN</td>\n",
       "      <td>173</td>\n",
       "      <td>NaN</td>\n",
       "      <td>NaN</td>\n",
       "      <td>NaN</td>\n",
       "      <td>NaN</td>\n",
       "      <td>NaN</td>\n",
       "    </tr>\n",
       "    <tr>\n",
       "      <th>15</th>\n",
       "      <td>Appartement</td>\n",
       "      <td>3</td>\n",
       "      <td>5</td>\n",
       "      <td>Lyon 6 - Foch - Appartement à vendre de 154 m²...</td>\n",
       "      <td>1.0</td>\n",
       "      <td>1.0</td>\n",
       "      <td>2.0</td>\n",
       "      <td>Année de construction 1950</td>\n",
       "      <td>2.0</td>\n",
       "      <td>Ascenseur</td>\n",
       "      <td>...</td>\n",
       "      <td>NaN</td>\n",
       "      <td>NaN</td>\n",
       "      <td>NaN</td>\n",
       "      <td>NaN</td>\n",
       "      <td>154</td>\n",
       "      <td>NaN</td>\n",
       "      <td>NaN</td>\n",
       "      <td>NaN</td>\n",
       "      <td>Belle vue</td>\n",
       "      <td>1230000.0</td>\n",
       "    </tr>\n",
       "    <tr>\n",
       "      <th>16</th>\n",
       "      <td>Appartement</td>\n",
       "      <td>2</td>\n",
       "      <td>4</td>\n",
       "      <td>boulevard des Belges coté impair avec accès di...</td>\n",
       "      <td>NaN</td>\n",
       "      <td>1.0</td>\n",
       "      <td>1.0</td>\n",
       "      <td>Année de construction 1982</td>\n",
       "      <td>2.0</td>\n",
       "      <td>Ascenseur</td>\n",
       "      <td>...</td>\n",
       "      <td>NaN</td>\n",
       "      <td>NaN</td>\n",
       "      <td>NaN</td>\n",
       "      <td>NaN</td>\n",
       "      <td>105</td>\n",
       "      <td>NaN</td>\n",
       "      <td>NaN</td>\n",
       "      <td>NaN</td>\n",
       "      <td>NaN</td>\n",
       "      <td>895000.0</td>\n",
       "    </tr>\n",
       "    <tr>\n",
       "      <th>17</th>\n",
       "      <td>Appartement</td>\n",
       "      <td>4</td>\n",
       "      <td>5</td>\n",
       "      <td>Au coeur du 6ème arrondissements de Lyon, à 20...</td>\n",
       "      <td>1.0</td>\n",
       "      <td>2.0</td>\n",
       "      <td>2.0</td>\n",
       "      <td>NaN</td>\n",
       "      <td>4.0</td>\n",
       "      <td>Ascenseur</td>\n",
       "      <td>...</td>\n",
       "      <td>NaN</td>\n",
       "      <td>NaN</td>\n",
       "      <td>Parquet</td>\n",
       "      <td>NaN</td>\n",
       "      <td>145</td>\n",
       "      <td>NaN</td>\n",
       "      <td>NaN</td>\n",
       "      <td>NaN</td>\n",
       "      <td>NaN</td>\n",
       "      <td>1050000.0</td>\n",
       "    </tr>\n",
       "    <tr>\n",
       "      <th>18</th>\n",
       "      <td>Appartement</td>\n",
       "      <td>3</td>\n",
       "      <td>4</td>\n",
       "      <td>Lyon 6 - Boulevard des Belges - Appartement de...</td>\n",
       "      <td>1.0</td>\n",
       "      <td>1.0</td>\n",
       "      <td>NaN</td>\n",
       "      <td>Année de construction 1910</td>\n",
       "      <td>1.0</td>\n",
       "      <td>Ascenseur</td>\n",
       "      <td>...</td>\n",
       "      <td>NaN</td>\n",
       "      <td>NaN</td>\n",
       "      <td>Parquet</td>\n",
       "      <td>NaN</td>\n",
       "      <td>183</td>\n",
       "      <td>NaN</td>\n",
       "      <td>NaN</td>\n",
       "      <td>NaN</td>\n",
       "      <td>NaN</td>\n",
       "      <td>1550000.0</td>\n",
       "    </tr>\n",
       "    <tr>\n",
       "      <th>19</th>\n",
       "      <td>Appartement</td>\n",
       "      <td>3</td>\n",
       "      <td>5</td>\n",
       "      <td>Au 3ème étage d'un immeuble ART DÉCO. Appartem...</td>\n",
       "      <td>1.0</td>\n",
       "      <td>1.0</td>\n",
       "      <td>1.0</td>\n",
       "      <td>Année de construction 1930</td>\n",
       "      <td>3.0</td>\n",
       "      <td>Ascenseur</td>\n",
       "      <td>...</td>\n",
       "      <td>NaN</td>\n",
       "      <td>NaN</td>\n",
       "      <td>NaN</td>\n",
       "      <td>NaN</td>\n",
       "      <td>132</td>\n",
       "      <td>NaN</td>\n",
       "      <td>NaN</td>\n",
       "      <td>NaN</td>\n",
       "      <td>NaN</td>\n",
       "      <td>870000.0</td>\n",
       "    </tr>\n",
       "    <tr>\n",
       "      <th>20</th>\n",
       "      <td>Appartement</td>\n",
       "      <td>3</td>\n",
       "      <td>4</td>\n",
       "      <td>EXCLUSIVITÉ - Lyon 6 - Tête d'Or - Appartement...</td>\n",
       "      <td>1.0</td>\n",
       "      <td>2.0</td>\n",
       "      <td>1.0</td>\n",
       "      <td>Année de construction 1800</td>\n",
       "      <td>2.0</td>\n",
       "      <td>NaN</td>\n",
       "      <td>...</td>\n",
       "      <td>NaN</td>\n",
       "      <td>NaN</td>\n",
       "      <td>NaN</td>\n",
       "      <td>NaN</td>\n",
       "      <td>149</td>\n",
       "      <td>NaN</td>\n",
       "      <td>NaN</td>\n",
       "      <td>NaN</td>\n",
       "      <td>Belle vue</td>\n",
       "      <td>1700000.0</td>\n",
       "    </tr>\n",
       "    <tr>\n",
       "      <th>21</th>\n",
       "      <td>Appartement</td>\n",
       "      <td>2</td>\n",
       "      <td>4</td>\n",
       "      <td>Quai Sarrail / Lyautey Exclusivité Emplacement...</td>\n",
       "      <td>1.0</td>\n",
       "      <td>1.0</td>\n",
       "      <td>2.0</td>\n",
       "      <td>Année de construction 1900</td>\n",
       "      <td>4.0</td>\n",
       "      <td>Ascenseur</td>\n",
       "      <td>...</td>\n",
       "      <td>NaN</td>\n",
       "      <td>NaN</td>\n",
       "      <td>Parquet</td>\n",
       "      <td>NaN</td>\n",
       "      <td>181</td>\n",
       "      <td>NaN</td>\n",
       "      <td>NaN</td>\n",
       "      <td>NaN</td>\n",
       "      <td>NaN</td>\n",
       "      <td>NaN</td>\n",
       "    </tr>\n",
       "    <tr>\n",
       "      <th>22</th>\n",
       "      <td>Appartement</td>\n",
       "      <td>3</td>\n",
       "      <td>5</td>\n",
       "      <td>LYON 6 - TÊTE D'OR Une exclusivité Majoux-Viri...</td>\n",
       "      <td>1.0</td>\n",
       "      <td>1.0</td>\n",
       "      <td>2.0</td>\n",
       "      <td>NaN</td>\n",
       "      <td>NaN</td>\n",
       "      <td>NaN</td>\n",
       "      <td>...</td>\n",
       "      <td>NaN</td>\n",
       "      <td>NaN</td>\n",
       "      <td>NaN</td>\n",
       "      <td>NaN</td>\n",
       "      <td>108</td>\n",
       "      <td>NaN</td>\n",
       "      <td>NaN</td>\n",
       "      <td>NaN</td>\n",
       "      <td>NaN</td>\n",
       "      <td>800000.0</td>\n",
       "    </tr>\n",
       "    <tr>\n",
       "      <th>23</th>\n",
       "      <td>Appartement</td>\n",
       "      <td>4</td>\n",
       "      <td>5</td>\n",
       "      <td>Situé au coeur du 6ème arrondissement de Lyon,...</td>\n",
       "      <td>1.0</td>\n",
       "      <td>1.0</td>\n",
       "      <td>2.0</td>\n",
       "      <td>Année de construction 2010</td>\n",
       "      <td>NaN</td>\n",
       "      <td>NaN</td>\n",
       "      <td>...</td>\n",
       "      <td>NaN</td>\n",
       "      <td>NaN</td>\n",
       "      <td>NaN</td>\n",
       "      <td>NaN</td>\n",
       "      <td>136</td>\n",
       "      <td>NaN</td>\n",
       "      <td>NaN</td>\n",
       "      <td>NaN</td>\n",
       "      <td>NaN</td>\n",
       "      <td>910000.0</td>\n",
       "    </tr>\n",
       "    <tr>\n",
       "      <th>24</th>\n",
       "      <td>Appartement</td>\n",
       "      <td>3</td>\n",
       "      <td>5</td>\n",
       "      <td>LYON 6 - TÊTE D'OR Une exclusivité Majoux-Viri...</td>\n",
       "      <td>1.0</td>\n",
       "      <td>1.0</td>\n",
       "      <td>2.0</td>\n",
       "      <td>NaN</td>\n",
       "      <td>NaN</td>\n",
       "      <td>NaN</td>\n",
       "      <td>...</td>\n",
       "      <td>NaN</td>\n",
       "      <td>NaN</td>\n",
       "      <td>NaN</td>\n",
       "      <td>NaN</td>\n",
       "      <td>108</td>\n",
       "      <td>NaN</td>\n",
       "      <td>NaN</td>\n",
       "      <td>NaN</td>\n",
       "      <td>NaN</td>\n",
       "      <td>800000.0</td>\n",
       "    </tr>\n",
       "    <tr>\n",
       "      <th>25</th>\n",
       "      <td>Appartement</td>\n",
       "      <td>2</td>\n",
       "      <td>3</td>\n",
       "      <td>Crillon, proche du parc de la Tête d'or, dans ...</td>\n",
       "      <td>1.0</td>\n",
       "      <td>1.0</td>\n",
       "      <td>1.0</td>\n",
       "      <td>NaN</td>\n",
       "      <td>2.0</td>\n",
       "      <td>Ascenseur</td>\n",
       "      <td>...</td>\n",
       "      <td>NaN</td>\n",
       "      <td>NaN</td>\n",
       "      <td>NaN</td>\n",
       "      <td>NaN</td>\n",
       "      <td>78</td>\n",
       "      <td>NaN</td>\n",
       "      <td>NaN</td>\n",
       "      <td>NaN</td>\n",
       "      <td>NaN</td>\n",
       "      <td>660000.0</td>\n",
       "    </tr>\n",
       "    <tr>\n",
       "      <th>26</th>\n",
       "      <td>Appartement</td>\n",
       "      <td>3</td>\n",
       "      <td>5</td>\n",
       "      <td>RARE: Dans un bel immeuble Haussmannien de la ...</td>\n",
       "      <td>1.0</td>\n",
       "      <td>1.0</td>\n",
       "      <td>2.0</td>\n",
       "      <td>Année de construction 1850</td>\n",
       "      <td>1.0</td>\n",
       "      <td>Ascenseur</td>\n",
       "      <td>...</td>\n",
       "      <td>NaN</td>\n",
       "      <td>NaN</td>\n",
       "      <td>NaN</td>\n",
       "      <td>NaN</td>\n",
       "      <td>140</td>\n",
       "      <td>NaN</td>\n",
       "      <td>NaN</td>\n",
       "      <td>NaN</td>\n",
       "      <td>NaN</td>\n",
       "      <td>1030000.0</td>\n",
       "    </tr>\n",
       "    <tr>\n",
       "      <th>27</th>\n",
       "      <td>Appartement</td>\n",
       "      <td>3</td>\n",
       "      <td>8</td>\n",
       "      <td>2 800 000 €\\nLes honoraires sont à la charge d...</td>\n",
       "      <td>1.0</td>\n",
       "      <td>1.0</td>\n",
       "      <td>3.0</td>\n",
       "      <td>NaN</td>\n",
       "      <td>2.0</td>\n",
       "      <td>NaN</td>\n",
       "      <td>...</td>\n",
       "      <td>NaN</td>\n",
       "      <td>NaN</td>\n",
       "      <td>Parquet</td>\n",
       "      <td>NaN</td>\n",
       "      <td>313</td>\n",
       "      <td>NaN</td>\n",
       "      <td>NaN</td>\n",
       "      <td>NaN</td>\n",
       "      <td>Belle vue</td>\n",
       "      <td>2800000.0</td>\n",
       "    </tr>\n",
       "    <tr>\n",
       "      <th>28</th>\n",
       "      <td>Appartement</td>\n",
       "      <td>2</td>\n",
       "      <td>3</td>\n",
       "      <td>1 350 000 €\\nLes honoraires sont à la charge d...</td>\n",
       "      <td>1.0</td>\n",
       "      <td>1.0</td>\n",
       "      <td>2.0</td>\n",
       "      <td>Année de construction 2017</td>\n",
       "      <td>5.0</td>\n",
       "      <td>Ascenseur</td>\n",
       "      <td>...</td>\n",
       "      <td>NaN</td>\n",
       "      <td>NaN</td>\n",
       "      <td>NaN</td>\n",
       "      <td>Piscine</td>\n",
       "      <td>107</td>\n",
       "      <td>NaN</td>\n",
       "      <td>NaN</td>\n",
       "      <td>Piscine</td>\n",
       "      <td>Belle vue</td>\n",
       "      <td>1350000.0</td>\n",
       "    </tr>\n",
       "    <tr>\n",
       "      <th>29</th>\n",
       "      <td>Appartement</td>\n",
       "      <td>3</td>\n",
       "      <td>4</td>\n",
       "      <td>649 000 €\\nLes honoraires sont à la charge du ...</td>\n",
       "      <td>1.0</td>\n",
       "      <td>1.0</td>\n",
       "      <td>1.0</td>\n",
       "      <td>Année de construction 1890</td>\n",
       "      <td>2.0</td>\n",
       "      <td>NaN</td>\n",
       "      <td>...</td>\n",
       "      <td>NaN</td>\n",
       "      <td>NaN</td>\n",
       "      <td>NaN</td>\n",
       "      <td>NaN</td>\n",
       "      <td>120</td>\n",
       "      <td>NaN</td>\n",
       "      <td>NaN</td>\n",
       "      <td>NaN</td>\n",
       "      <td>NaN</td>\n",
       "      <td>649000.0</td>\n",
       "    </tr>\n",
       "    <tr>\n",
       "      <th>30</th>\n",
       "      <td>Appartement</td>\n",
       "      <td>3</td>\n",
       "      <td>4</td>\n",
       "      <td>558 000 €</td>\n",
       "      <td>NaN</td>\n",
       "      <td>NaN</td>\n",
       "      <td>1.0</td>\n",
       "      <td>NaN</td>\n",
       "      <td>2.0</td>\n",
       "      <td>NaN</td>\n",
       "      <td>...</td>\n",
       "      <td>NaN</td>\n",
       "      <td>NaN</td>\n",
       "      <td>NaN</td>\n",
       "      <td>NaN</td>\n",
       "      <td>93</td>\n",
       "      <td>NaN</td>\n",
       "      <td>NaN</td>\n",
       "      <td>NaN</td>\n",
       "      <td>NaN</td>\n",
       "      <td>558000.0</td>\n",
       "    </tr>\n",
       "    <tr>\n",
       "      <th>31</th>\n",
       "      <td>Appartement</td>\n",
       "      <td>3</td>\n",
       "      <td>5</td>\n",
       "      <td>1 080 000 €\\nLes honoraires sont à la charge d...</td>\n",
       "      <td>1.0</td>\n",
       "      <td>1.0</td>\n",
       "      <td>1.0</td>\n",
       "      <td>NaN</td>\n",
       "      <td>3.0</td>\n",
       "      <td>Ascenseur</td>\n",
       "      <td>...</td>\n",
       "      <td>NaN</td>\n",
       "      <td>NaN</td>\n",
       "      <td>Parquet</td>\n",
       "      <td>NaN</td>\n",
       "      <td>142</td>\n",
       "      <td>NaN</td>\n",
       "      <td>NaN</td>\n",
       "      <td>NaN</td>\n",
       "      <td>NaN</td>\n",
       "      <td>1080000.0</td>\n",
       "    </tr>\n",
       "    <tr>\n",
       "      <th>32</th>\n",
       "      <td>Appartement</td>\n",
       "      <td>4</td>\n",
       "      <td>6</td>\n",
       "      <td>1 560 000 €\\nLes honoraires TTC sont inclus à ...</td>\n",
       "      <td>2.0</td>\n",
       "      <td>2.0</td>\n",
       "      <td>3.0</td>\n",
       "      <td>Année de construction 1952</td>\n",
       "      <td>1.0</td>\n",
       "      <td>Ascenseur</td>\n",
       "      <td>...</td>\n",
       "      <td>NaN</td>\n",
       "      <td>NaN</td>\n",
       "      <td>NaN</td>\n",
       "      <td>NaN</td>\n",
       "      <td>194</td>\n",
       "      <td>NaN</td>\n",
       "      <td>NaN</td>\n",
       "      <td>NaN</td>\n",
       "      <td>Belle vue</td>\n",
       "      <td>1560000.0</td>\n",
       "    </tr>\n",
       "    <tr>\n",
       "      <th>33</th>\n",
       "      <td>Appartement</td>\n",
       "      <td>2</td>\n",
       "      <td>3</td>\n",
       "      <td>565 000 €\\nLes honoraires sont à la charge du ...</td>\n",
       "      <td>NaN</td>\n",
       "      <td>NaN</td>\n",
       "      <td>1.0</td>\n",
       "      <td>Année de construction 1950</td>\n",
       "      <td>7.0</td>\n",
       "      <td>Ascenseur</td>\n",
       "      <td>...</td>\n",
       "      <td>NaN</td>\n",
       "      <td>NaN</td>\n",
       "      <td>NaN</td>\n",
       "      <td>NaN</td>\n",
       "      <td>80</td>\n",
       "      <td>NaN</td>\n",
       "      <td>NaN</td>\n",
       "      <td>NaN</td>\n",
       "      <td>Belle vue</td>\n",
       "      <td>565000.0</td>\n",
       "    </tr>\n",
       "    <tr>\n",
       "      <th>34</th>\n",
       "      <td>Villa</td>\n",
       "      <td>4</td>\n",
       "      <td>6</td>\n",
       "      <td>2 250 000 €\\nLes honoraires sont à la charge d...</td>\n",
       "      <td>NaN</td>\n",
       "      <td>NaN</td>\n",
       "      <td>3.0</td>\n",
       "      <td>Année de construction 1990</td>\n",
       "      <td>NaN</td>\n",
       "      <td>NaN</td>\n",
       "      <td>...</td>\n",
       "      <td>NaN</td>\n",
       "      <td>NaN</td>\n",
       "      <td>NaN</td>\n",
       "      <td>Piscine</td>\n",
       "      <td>300</td>\n",
       "      <td>NaN</td>\n",
       "      <td>NaN</td>\n",
       "      <td>Piscine</td>\n",
       "      <td>NaN</td>\n",
       "      <td>2250000.0</td>\n",
       "    </tr>\n",
       "    <tr>\n",
       "      <th>35</th>\n",
       "      <td>Appartement</td>\n",
       "      <td>2</td>\n",
       "      <td>3</td>\n",
       "      <td>570 000 €\\nLes honoraires sont à la charge du ...</td>\n",
       "      <td>NaN</td>\n",
       "      <td>NaN</td>\n",
       "      <td>1.0</td>\n",
       "      <td>NaN</td>\n",
       "      <td>2.0</td>\n",
       "      <td>NaN</td>\n",
       "      <td>...</td>\n",
       "      <td>NaN</td>\n",
       "      <td>NaN</td>\n",
       "      <td>NaN</td>\n",
       "      <td>NaN</td>\n",
       "      <td>68</td>\n",
       "      <td>NaN</td>\n",
       "      <td>NaN</td>\n",
       "      <td>NaN</td>\n",
       "      <td>NaN</td>\n",
       "      <td>570000.0</td>\n",
       "    </tr>\n",
       "    <tr>\n",
       "      <th>36</th>\n",
       "      <td>Appartement</td>\n",
       "      <td>4</td>\n",
       "      <td>5</td>\n",
       "      <td>1 890 000 €\\nLes honoraires sont à la charge d...</td>\n",
       "      <td>2.0</td>\n",
       "      <td>2.0</td>\n",
       "      <td>3.0</td>\n",
       "      <td>Année de construction 1994</td>\n",
       "      <td>7.0</td>\n",
       "      <td>Ascenseur</td>\n",
       "      <td>...</td>\n",
       "      <td>NaN</td>\n",
       "      <td>NaN</td>\n",
       "      <td>NaN</td>\n",
       "      <td>NaN</td>\n",
       "      <td>200</td>\n",
       "      <td>NaN</td>\n",
       "      <td>NaN</td>\n",
       "      <td>NaN</td>\n",
       "      <td>Belle vue</td>\n",
       "      <td>1890000.0</td>\n",
       "    </tr>\n",
       "    <tr>\n",
       "      <th>37</th>\n",
       "      <td>Appartement</td>\n",
       "      <td>3</td>\n",
       "      <td>4</td>\n",
       "      <td>590 000 €\\nLes honoraires sont à la charge du ...</td>\n",
       "      <td>NaN</td>\n",
       "      <td>NaN</td>\n",
       "      <td>1.0</td>\n",
       "      <td>Année de construction 1954</td>\n",
       "      <td>1.0</td>\n",
       "      <td>Ascenseur</td>\n",
       "      <td>...</td>\n",
       "      <td>NaN</td>\n",
       "      <td>NaN</td>\n",
       "      <td>NaN</td>\n",
       "      <td>NaN</td>\n",
       "      <td>100</td>\n",
       "      <td>NaN</td>\n",
       "      <td>NaN</td>\n",
       "      <td>NaN</td>\n",
       "      <td>NaN</td>\n",
       "      <td>590000.0</td>\n",
       "    </tr>\n",
       "  </tbody>\n",
       "</table>\n",
       "<p>38 rows × 29 columns</p>\n",
       "</div>"
      ],
      "text/plain": [
       "       bd_style  bd_nb_chambre  bd_nb_piece  \\\n",
       "0   Appartement              3            4   \n",
       "1   Appartement              3            4   \n",
       "2   Appartement              4            5   \n",
       "3        Duplex              3            5   \n",
       "4   Appartement              3            6   \n",
       "5       Triplex              4            5   \n",
       "6   Appartement              4            6   \n",
       "7   Appartement              4            6   \n",
       "8       Triplex              4            5   \n",
       "9   Appartement              3            4   \n",
       "10  Appartement              2            5   \n",
       "11  Appartement              4            6   \n",
       "12  Appartement              3            4   \n",
       "13  Appartement              4            5   \n",
       "14  Appartement              3            5   \n",
       "15  Appartement              3            5   \n",
       "16  Appartement              2            4   \n",
       "17  Appartement              4            5   \n",
       "18  Appartement              3            4   \n",
       "19  Appartement              3            5   \n",
       "20  Appartement              3            4   \n",
       "21  Appartement              2            4   \n",
       "22  Appartement              3            5   \n",
       "23  Appartement              4            5   \n",
       "24  Appartement              3            5   \n",
       "25  Appartement              2            3   \n",
       "26  Appartement              3            5   \n",
       "27  Appartement              3            8   \n",
       "28  Appartement              2            3   \n",
       "29  Appartement              3            4   \n",
       "30  Appartement              3            4   \n",
       "31  Appartement              3            5   \n",
       "32  Appartement              4            6   \n",
       "33  Appartement              2            3   \n",
       "34        Villa              4            6   \n",
       "35  Appartement              2            3   \n",
       "36  Appartement              4            5   \n",
       "37  Appartement              3            4   \n",
       "\n",
       "                                        bd_paragraphe  bd_salle_d_eau  \\\n",
       "0   Lyon 6 - Tête-d'Or - Appartement de 106,16 m² ...             NaN   \n",
       "1   Appartement 4 pièces de 110.3m² avec balcon ex...             1.0   \n",
       "2   Boulevard des Belges, au dernier étage avec ac...             NaN   \n",
       "3   Situé dans le 6ème arrondissement de Lyon, Pla...             1.0   \n",
       "4   A proximité immédiate de l'entrée du Parc de l...             1.0   \n",
       "5   Proximité Place Kléber et crs Franklin Rooseve...             1.0   \n",
       "6   Dans l'axe de la Place Puvis de Chavanne idéal...             2.0   \n",
       "7   Venez découvrir ce grand appartement familial ...             NaN   \n",
       "8   Proximité Place Kléber et crs Franklin Rooseve...             1.0   \n",
       "9   Cours Vitton, au métro Masséna, en étage élevé...             1.0   \n",
       "10  Exceptionnel, en étage élevé avec une vue pano...             1.0   \n",
       "11  Venez découvrir ce grand appartement familial ...             NaN   \n",
       "12  Lyon 6 - Boulevard des Belges - Appartement de...             1.0   \n",
       "13  Situé rue Tronchet, dans le 6ème arrondissemen...             1.0   \n",
       "14  Exclusivité. Lyon 6ème, boulevard des Belges. ...             NaN   \n",
       "15  Lyon 6 - Foch - Appartement à vendre de 154 m²...             1.0   \n",
       "16  boulevard des Belges coté impair avec accès di...             NaN   \n",
       "17  Au coeur du 6ème arrondissements de Lyon, à 20...             1.0   \n",
       "18  Lyon 6 - Boulevard des Belges - Appartement de...             1.0   \n",
       "19  Au 3ème étage d'un immeuble ART DÉCO. Appartem...             1.0   \n",
       "20  EXCLUSIVITÉ - Lyon 6 - Tête d'Or - Appartement...             1.0   \n",
       "21  Quai Sarrail / Lyautey Exclusivité Emplacement...             1.0   \n",
       "22  LYON 6 - TÊTE D'OR Une exclusivité Majoux-Viri...             1.0   \n",
       "23  Situé au coeur du 6ème arrondissement de Lyon,...             1.0   \n",
       "24  LYON 6 - TÊTE D'OR Une exclusivité Majoux-Viri...             1.0   \n",
       "25  Crillon, proche du parc de la Tête d'or, dans ...             1.0   \n",
       "26  RARE: Dans un bel immeuble Haussmannien de la ...             1.0   \n",
       "27  2 800 000 €\\nLes honoraires sont à la charge d...             1.0   \n",
       "28  1 350 000 €\\nLes honoraires sont à la charge d...             1.0   \n",
       "29  649 000 €\\nLes honoraires sont à la charge du ...             1.0   \n",
       "30                                          558 000 €             NaN   \n",
       "31  1 080 000 €\\nLes honoraires sont à la charge d...             1.0   \n",
       "32  1 560 000 €\\nLes honoraires TTC sont inclus à ...             2.0   \n",
       "33  565 000 €\\nLes honoraires sont à la charge du ...             NaN   \n",
       "34  2 250 000 €\\nLes honoraires sont à la charge d...             NaN   \n",
       "35  570 000 €\\nLes honoraires sont à la charge du ...             NaN   \n",
       "36  1 890 000 €\\nLes honoraires sont à la charge d...             2.0   \n",
       "37  590 000 €\\nLes honoraires sont à la charge du ...             NaN   \n",
       "\n",
       "    bd_salle_de_bain  bd_toilette                    bd_annee  bd_etage  \\\n",
       "0                1.0          1.0  Année de construction 1965       4.0   \n",
       "1                1.0          2.0  Année de construction 2000       3.0   \n",
       "2                NaN          NaN  Année de construction 1982       3.0   \n",
       "3                1.0          2.0                         NaN       4.0   \n",
       "4                1.0          1.0                         NaN       1.0   \n",
       "5                1.0          3.0                         NaN       3.0   \n",
       "6                2.0          2.0  Année de construction 1965       1.0   \n",
       "7                3.0          2.0  Année de construction 1970       6.0   \n",
       "8                1.0          3.0                         NaN       3.0   \n",
       "9                1.0          1.0  Année de construction 1900       4.0   \n",
       "10               1.0          2.0                         NaN       6.0   \n",
       "11               3.0          2.0  Année de construction 1970       6.0   \n",
       "12               1.0          NaN  Année de construction 1910       1.0   \n",
       "13               1.0          2.0  Année de construction 1900       4.0   \n",
       "14               1.0          2.0  Année de construction 1956       2.0   \n",
       "15               1.0          2.0  Année de construction 1950       2.0   \n",
       "16               1.0          1.0  Année de construction 1982       2.0   \n",
       "17               2.0          2.0                         NaN       4.0   \n",
       "18               1.0          NaN  Année de construction 1910       1.0   \n",
       "19               1.0          1.0  Année de construction 1930       3.0   \n",
       "20               2.0          1.0  Année de construction 1800       2.0   \n",
       "21               1.0          2.0  Année de construction 1900       4.0   \n",
       "22               1.0          2.0                         NaN       NaN   \n",
       "23               1.0          2.0  Année de construction 2010       NaN   \n",
       "24               1.0          2.0                         NaN       NaN   \n",
       "25               1.0          1.0                         NaN       2.0   \n",
       "26               1.0          2.0  Année de construction 1850       1.0   \n",
       "27               1.0          3.0                         NaN       2.0   \n",
       "28               1.0          2.0  Année de construction 2017       5.0   \n",
       "29               1.0          1.0  Année de construction 1890       2.0   \n",
       "30               NaN          1.0                         NaN       2.0   \n",
       "31               1.0          1.0                         NaN       3.0   \n",
       "32               2.0          3.0  Année de construction 1952       1.0   \n",
       "33               NaN          1.0  Année de construction 1950       7.0   \n",
       "34               NaN          3.0  Année de construction 1990       NaN   \n",
       "35               NaN          1.0                         NaN       2.0   \n",
       "36               2.0          3.0  Année de construction 1994       7.0   \n",
       "37               NaN          1.0  Année de construction 1954       1.0   \n",
       "\n",
       "   bd_ascenseur  ... bd_neuf bd_parking  bd_parquet  bd_piscine  bd_taille  \\\n",
       "0           NaN  ...     NaN        NaN         NaN         NaN        106   \n",
       "1     Ascenseur  ...     NaN        NaN         NaN         NaN        110   \n",
       "2     Ascenseur  ...     NaN        NaN         NaN         NaN        130   \n",
       "3     Ascenseur  ...     NaN        NaN     Parquet         NaN        120   \n",
       "4     Ascenseur  ...     NaN        NaN         NaN         NaN        183   \n",
       "5           NaN  ...     NaN        NaN         NaN         NaN        136   \n",
       "6     Ascenseur  ...     NaN        NaN     Parquet         NaN        231   \n",
       "7     Ascenseur  ...     NaN        NaN         NaN         NaN        168   \n",
       "8           NaN  ...     NaN        NaN         NaN         NaN        136   \n",
       "9     Ascenseur  ...     NaN        NaN     Parquet         NaN         88   \n",
       "10          NaN  ...     NaN        NaN         NaN         NaN        163   \n",
       "11    Ascenseur  ...     NaN        NaN         NaN         NaN        168   \n",
       "12    Ascenseur  ...     NaN        NaN         NaN         NaN        183   \n",
       "13    Ascenseur  ...     NaN        NaN         NaN         NaN        164   \n",
       "14    Ascenseur  ...     NaN        NaN         NaN         NaN        173   \n",
       "15    Ascenseur  ...     NaN        NaN         NaN         NaN        154   \n",
       "16    Ascenseur  ...     NaN        NaN         NaN         NaN        105   \n",
       "17    Ascenseur  ...     NaN        NaN     Parquet         NaN        145   \n",
       "18    Ascenseur  ...     NaN        NaN     Parquet         NaN        183   \n",
       "19    Ascenseur  ...     NaN        NaN         NaN         NaN        132   \n",
       "20          NaN  ...     NaN        NaN         NaN         NaN        149   \n",
       "21    Ascenseur  ...     NaN        NaN     Parquet         NaN        181   \n",
       "22          NaN  ...     NaN        NaN         NaN         NaN        108   \n",
       "23          NaN  ...     NaN        NaN         NaN         NaN        136   \n",
       "24          NaN  ...     NaN        NaN         NaN         NaN        108   \n",
       "25    Ascenseur  ...     NaN        NaN         NaN         NaN         78   \n",
       "26    Ascenseur  ...     NaN        NaN         NaN         NaN        140   \n",
       "27          NaN  ...     NaN        NaN     Parquet         NaN        313   \n",
       "28    Ascenseur  ...     NaN        NaN         NaN     Piscine        107   \n",
       "29          NaN  ...     NaN        NaN         NaN         NaN        120   \n",
       "30          NaN  ...     NaN        NaN         NaN         NaN         93   \n",
       "31    Ascenseur  ...     NaN        NaN     Parquet         NaN        142   \n",
       "32    Ascenseur  ...     NaN        NaN         NaN         NaN        194   \n",
       "33    Ascenseur  ...     NaN        NaN         NaN         NaN         80   \n",
       "34          NaN  ...     NaN        NaN         NaN     Piscine        300   \n",
       "35          NaN  ...     NaN        NaN         NaN         NaN         68   \n",
       "36    Ascenseur  ...     NaN        NaN         NaN         NaN        200   \n",
       "37    Ascenseur  ...     NaN        NaN         NaN         NaN        100   \n",
       "\n",
       "   bd_terrasse  bd_travaux  bd_vis_a_vis     bd_vue       prix  \n",
       "0          NaN         NaN           NaN        NaN   795000.0  \n",
       "1          NaN         NaN           NaN        NaN   850000.0  \n",
       "2          NaN         NaN           NaN  Belle vue  1450000.0  \n",
       "3          NaN         NaN           NaN        NaN   890000.0  \n",
       "4          NaN         NaN           NaN        NaN  1550000.0  \n",
       "5          NaN         NaN           NaN        NaN   910000.0  \n",
       "6          NaN         NaN           NaN        NaN  1495000.0  \n",
       "7          NaN         NaN           NaN  Belle vue  1050000.0  \n",
       "8          NaN         NaN           NaN        NaN   910000.0  \n",
       "9          NaN         NaN           NaN        NaN   690000.0  \n",
       "10         NaN         NaN           NaN  Belle vue  1560000.0  \n",
       "11         NaN         NaN           NaN  Belle vue  1050000.0  \n",
       "12         NaN         NaN           NaN        NaN  1550000.0  \n",
       "13         NaN         NaN           NaN        NaN  1370000.0  \n",
       "14         NaN         NaN           NaN        NaN        NaN  \n",
       "15         NaN         NaN           NaN  Belle vue  1230000.0  \n",
       "16         NaN         NaN           NaN        NaN   895000.0  \n",
       "17         NaN         NaN           NaN        NaN  1050000.0  \n",
       "18         NaN         NaN           NaN        NaN  1550000.0  \n",
       "19         NaN         NaN           NaN        NaN   870000.0  \n",
       "20         NaN         NaN           NaN  Belle vue  1700000.0  \n",
       "21         NaN         NaN           NaN        NaN        NaN  \n",
       "22         NaN         NaN           NaN        NaN   800000.0  \n",
       "23         NaN         NaN           NaN        NaN   910000.0  \n",
       "24         NaN         NaN           NaN        NaN   800000.0  \n",
       "25         NaN         NaN           NaN        NaN   660000.0  \n",
       "26         NaN         NaN           NaN        NaN  1030000.0  \n",
       "27         NaN         NaN           NaN  Belle vue  2800000.0  \n",
       "28         NaN         NaN       Piscine  Belle vue  1350000.0  \n",
       "29         NaN         NaN           NaN        NaN   649000.0  \n",
       "30         NaN         NaN           NaN        NaN   558000.0  \n",
       "31         NaN         NaN           NaN        NaN  1080000.0  \n",
       "32         NaN         NaN           NaN  Belle vue  1560000.0  \n",
       "33         NaN         NaN           NaN  Belle vue   565000.0  \n",
       "34         NaN         NaN       Piscine        NaN  2250000.0  \n",
       "35         NaN         NaN           NaN        NaN   570000.0  \n",
       "36         NaN         NaN           NaN  Belle vue  1890000.0  \n",
       "37         NaN         NaN           NaN        NaN   590000.0  \n",
       "\n",
       "[38 rows x 29 columns]"
      ]
     },
     "execution_count": 4,
     "metadata": {},
     "output_type": "execute_result"
    }
   ],
   "source": [
    "dfLyonBD = pd.read_csv(\"data_lyon_bd.csv\")\n",
    "dfLyonBD "
   ]
  },
  {
   "cell_type": "code",
   "execution_count": 5,
   "metadata": {},
   "outputs": [],
   "source": [
    "dfLyonBD= dfLyonBD.rename(index=str, columns= {'bd_style': 'sl_style', 'bd_localisation': 'sl_localisation', 'bd_nb_chambre': 'sl_nb_chambre','bd_nb_piece':'sl_nb_piece','bd_paragraphe':'sl_paragraphe', 'bd_salle_d_eau': 'sl_salle_d_eau', 'bd_salle_de_bain':'sl_salle_de_bain', 'bd_toilette':'sl_toilette',\n",
    "'bd_annee': 'sl_annee', 'bd_etage': 'sl_etage', 'bd_hauteur':'sl_hauteur', 'bd_ascenseur': 'sl_ascenseur', 'bd_vue': 'sl_vue',\n",
    "       'bd_cave': 'sl_cave', 'bd_parking': 'sl_parking', 'bd_chemine': 'sl_chemine', 'bd_exposition': 'sl_exposition', 'bd_balcon': 'sl_balcon',\n",
    "       'bd_terrasse':'sl_terrasse', 'bd_gardien':'sl_gardien', 'bd_travaux':'sl_travaux' , 'bd_neuf':'sl_neuf', 'bd_parquet':'sl_parquet',\n",
    "       'bd_cuisine': 'sl_cuisine', 'bd_vis_a_vis':'sl_vis_a_vis', 'bd_jardin':'sl_jardin', 'bd_piscine':'sl_piscine', 'bd_taille':'sl_taille',\n",
    "       'prix':'sl_prix'})"
   ]
  },
  {
   "cell_type": "code",
   "execution_count": 6,
   "metadata": {},
   "outputs": [
    {
     "data": {
      "text/plain": [
       "(38, 29)"
      ]
     },
     "execution_count": 6,
     "metadata": {},
     "output_type": "execute_result"
    }
   ],
   "source": [
    "dfLyonBD.shape"
   ]
  },
  {
   "cell_type": "code",
   "execution_count": 7,
   "metadata": {},
   "outputs": [
    {
     "data": {
      "text/plain": [
       "(201, 29)"
      ]
     },
     "execution_count": 7,
     "metadata": {},
     "output_type": "execute_result"
    }
   ],
   "source": [
    "dfLyonSL.shape"
   ]
  },
  {
   "cell_type": "code",
   "execution_count": 8,
   "metadata": {},
   "outputs": [],
   "source": [
    "df = pd.concat([dfLyonSL, dfLyonBD])"
   ]
  },
  {
   "cell_type": "code",
   "execution_count": 9,
   "metadata": {},
   "outputs": [
    {
     "data": {
      "text/plain": [
       "(239, 29)"
      ]
     },
     "execution_count": 9,
     "metadata": {},
     "output_type": "execute_result"
    }
   ],
   "source": [
    "df.shape"
   ]
  },
  {
   "cell_type": "code",
   "execution_count": 10,
   "metadata": {},
   "outputs": [
    {
     "name": "stdout",
     "output_type": "stream",
     "text": [
      "<class 'pandas.core.frame.DataFrame'>\n",
      "Index: 239 entries, 0 to 37\n",
      "Data columns (total 29 columns):\n",
      " #   Column            Non-Null Count  Dtype  \n",
      "---  ------            --------------  -----  \n",
      " 0   sl_style          237 non-null    object \n",
      " 1   sl_localisation   153 non-null    object \n",
      " 2   sl_nb_chambre     221 non-null    float64\n",
      " 3   sl_taille         235 non-null    float64\n",
      " 4   sl_prix           235 non-null    float64\n",
      " 5   sl_paragraphe     239 non-null    object \n",
      " 6   sl_salle_d_eau    116 non-null    float64\n",
      " 7   sl_salle_de_bain  152 non-null    float64\n",
      " 8   sl_toilette       194 non-null    float64\n",
      " 9   sl_annee          133 non-null    object \n",
      " 10  sl_etage          185 non-null    float64\n",
      " 11  sl_hauteur        162 non-null    float64\n",
      " 12  sl_ascenseur      143 non-null    object \n",
      " 13  sl_vue            54 non-null     object \n",
      " 14  sl_cave           160 non-null    object \n",
      " 15  sl_parking        19 non-null     float64\n",
      " 16  sl_chemine        0 non-null      float64\n",
      " 17  sl_exposition     113 non-null    object \n",
      " 18  sl_balcon         54 non-null     object \n",
      " 19  sl_terrasse       20 non-null     float64\n",
      " 20  sl_gardien        42 non-null     object \n",
      " 21  sl_travaux        0 non-null      float64\n",
      " 22  sl_neuf           14 non-null     object \n",
      " 23  sl_parquet        64 non-null     object \n",
      " 24  sl_cuisine        147 non-null    object \n",
      " 25  sl_vis_a_vis      2 non-null      object \n",
      " 26  sl_jardin         0 non-null      float64\n",
      " 27  sl_piscine        2 non-null      object \n",
      " 28  sl_nb_piece       237 non-null    float64\n",
      "dtypes: float64(14), object(15)\n",
      "memory usage: 56.0+ KB\n"
     ]
    }
   ],
   "source": [
    "df.info()"
   ]
  },
  {
   "cell_type": "markdown",
   "metadata": {},
   "source": [
    "# Visualiser les valuers nulles  \n",
    "\n"
   ]
  },
  {
   "cell_type": "markdown",
   "metadata": {},
   "source": [
    "A) Gestion des valeurs nulles \n",
    "\n",
    "dans les graphiques ci-dessous : nous remarquons que les valeurs non nulles sont supérieures aux valeurs nulles et que certaines  colonnes ne contiennent que des NAN. Supprimons des colonnes qui ne contiennent que des NAN. \n"
   ]
  },
  {
   "cell_type": "code",
   "execution_count": 11,
   "metadata": {},
   "outputs": [
    {
     "data": {
      "text/plain": [
       "<matplotlib.axes._subplots.AxesSubplot at 0x27946a48048>"
      ]
     },
     "execution_count": 11,
     "metadata": {},
     "output_type": "execute_result"
    },
    {
     "data": {
      "image/png": "[encoded data removed]",
      "text/plain": [
       "<Figure size 720x432 with 1 Axes>"
      ]
     },
     "metadata": {
      "needs_background": "light"
     },
     "output_type": "display_data"
    }
   ],
   "source": [
    "def viz_na(df):\n",
    "    return sns.heatmap(df.isna(), cbar=False)\n",
    "\n",
    "viz_na(df)\n",
    "\n",
    "# on a pas beaucoup de valeur manquante, les features ont des relations en communs "
   ]
  },
  {
   "cell_type": "code",
   "execution_count": 12,
   "metadata": {
    "scrolled": true
   },
   "outputs": [
    {
     "data": {
      "text/html": [
       "<div>\n",
       "<style scoped>\n",
       "    .dataframe tbody tr th:only-of-type {\n",
       "        vertical-align: middle;\n",
       "    }\n",
       "\n",
       "    .dataframe tbody tr th {\n",
       "        vertical-align: top;\n",
       "    }\n",
       "\n",
       "    .dataframe thead th {\n",
       "        text-align: right;\n",
       "    }\n",
       "</style>\n",
       "<table border=\"1\" class=\"dataframe\">\n",
       "  <thead>\n",
       "    <tr style=\"text-align: right;\">\n",
       "      <th></th>\n",
       "      <th>Total</th>\n",
       "      <th>Percent</th>\n",
       "    </tr>\n",
       "  </thead>\n",
       "  <tbody>\n",
       "    <tr>\n",
       "      <th>sl_travaux</th>\n",
       "      <td>239</td>\n",
       "      <td>1.000000</td>\n",
       "    </tr>\n",
       "    <tr>\n",
       "      <th>sl_jardin</th>\n",
       "      <td>239</td>\n",
       "      <td>1.000000</td>\n",
       "    </tr>\n",
       "    <tr>\n",
       "      <th>sl_chemine</th>\n",
       "      <td>239</td>\n",
       "      <td>1.000000</td>\n",
       "    </tr>\n",
       "    <tr>\n",
       "      <th>sl_vis_a_vis</th>\n",
       "      <td>237</td>\n",
       "      <td>0.991632</td>\n",
       "    </tr>\n",
       "    <tr>\n",
       "      <th>sl_piscine</th>\n",
       "      <td>237</td>\n",
       "      <td>0.991632</td>\n",
       "    </tr>\n",
       "    <tr>\n",
       "      <th>sl_neuf</th>\n",
       "      <td>225</td>\n",
       "      <td>0.941423</td>\n",
       "    </tr>\n",
       "    <tr>\n",
       "      <th>sl_parking</th>\n",
       "      <td>220</td>\n",
       "      <td>0.920502</td>\n",
       "    </tr>\n",
       "    <tr>\n",
       "      <th>sl_terrasse</th>\n",
       "      <td>219</td>\n",
       "      <td>0.916318</td>\n",
       "    </tr>\n",
       "    <tr>\n",
       "      <th>sl_gardien</th>\n",
       "      <td>197</td>\n",
       "      <td>0.824268</td>\n",
       "    </tr>\n",
       "    <tr>\n",
       "      <th>sl_balcon</th>\n",
       "      <td>185</td>\n",
       "      <td>0.774059</td>\n",
       "    </tr>\n",
       "    <tr>\n",
       "      <th>sl_vue</th>\n",
       "      <td>185</td>\n",
       "      <td>0.774059</td>\n",
       "    </tr>\n",
       "    <tr>\n",
       "      <th>sl_parquet</th>\n",
       "      <td>175</td>\n",
       "      <td>0.732218</td>\n",
       "    </tr>\n",
       "    <tr>\n",
       "      <th>sl_exposition</th>\n",
       "      <td>126</td>\n",
       "      <td>0.527197</td>\n",
       "    </tr>\n",
       "    <tr>\n",
       "      <th>sl_salle_d_eau</th>\n",
       "      <td>123</td>\n",
       "      <td>0.514644</td>\n",
       "    </tr>\n",
       "    <tr>\n",
       "      <th>sl_annee</th>\n",
       "      <td>106</td>\n",
       "      <td>0.443515</td>\n",
       "    </tr>\n",
       "    <tr>\n",
       "      <th>sl_ascenseur</th>\n",
       "      <td>96</td>\n",
       "      <td>0.401674</td>\n",
       "    </tr>\n",
       "    <tr>\n",
       "      <th>sl_cuisine</th>\n",
       "      <td>92</td>\n",
       "      <td>0.384937</td>\n",
       "    </tr>\n",
       "    <tr>\n",
       "      <th>sl_salle_de_bain</th>\n",
       "      <td>87</td>\n",
       "      <td>0.364017</td>\n",
       "    </tr>\n",
       "    <tr>\n",
       "      <th>sl_localisation</th>\n",
       "      <td>86</td>\n",
       "      <td>0.359833</td>\n",
       "    </tr>\n",
       "    <tr>\n",
       "      <th>sl_cave</th>\n",
       "      <td>79</td>\n",
       "      <td>0.330544</td>\n",
       "    </tr>\n",
       "  </tbody>\n",
       "</table>\n",
       "</div>"
      ],
      "text/plain": [
       "                  Total   Percent\n",
       "sl_travaux          239  1.000000\n",
       "sl_jardin           239  1.000000\n",
       "sl_chemine          239  1.000000\n",
       "sl_vis_a_vis        237  0.991632\n",
       "sl_piscine          237  0.991632\n",
       "sl_neuf             225  0.941423\n",
       "sl_parking          220  0.920502\n",
       "sl_terrasse         219  0.916318\n",
       "sl_gardien          197  0.824268\n",
       "sl_balcon           185  0.774059\n",
       "sl_vue              185  0.774059\n",
       "sl_parquet          175  0.732218\n",
       "sl_exposition       126  0.527197\n",
       "sl_salle_d_eau      123  0.514644\n",
       "sl_annee            106  0.443515\n",
       "sl_ascenseur         96  0.401674\n",
       "sl_cuisine           92  0.384937\n",
       "sl_salle_de_bain     87  0.364017\n",
       "sl_localisation      86  0.359833\n",
       "sl_cave              79  0.330544"
      ]
     },
     "execution_count": 12,
     "metadata": {},
     "output_type": "execute_result"
    }
   ],
   "source": [
    "#missing data\n",
    "def nan_description(df):\n",
    "    total = df.isnull().sum().sort_values(ascending=False)\n",
    "    percent = (df.isnull().sum()/df.isnull().count()).sort_values(ascending=False)\n",
    "    missing_data = pd.concat([total, percent], axis=1, keys=['Total', 'Percent'])\n",
    "    return missing_data.head(20)\n",
    "\n",
    "nan_description(df)  \n"
   ]
  },
  {
   "cell_type": "code",
   "execution_count": 13,
   "metadata": {},
   "outputs": [],
   "source": [
    "df = df.drop([\"sl_chemine\",\"sl_jardin\", \"sl_vis_a_vis\",\"sl_travaux\", \"sl_piscine\", \"sl_paragraphe\"], axis=1)"
   ]
  },
  {
   "cell_type": "code",
   "execution_count": 14,
   "metadata": {},
   "outputs": [
    {
     "data": {
      "image/png": "[encoded data removed]",
      "text/plain": [
       "<Figure size 720x432 with 1 Axes>"
      ]
     },
     "metadata": {},
     "output_type": "display_data"
    }
   ],
   "source": [
    "df.dtypes.value_counts().plot.pie()\n",
    "plt.show()"
   ]
  },
  {
   "cell_type": "markdown",
   "metadata": {},
   "source": [
    "#  Analyse des données  "
   ]
  },
  {
   "cell_type": "code",
   "execution_count": 15,
   "metadata": {},
   "outputs": [
    {
     "data": {
      "text/html": [
       "<div>\n",
       "<style scoped>\n",
       "    .dataframe tbody tr th:only-of-type {\n",
       "        vertical-align: middle;\n",
       "    }\n",
       "\n",
       "    .dataframe tbody tr th {\n",
       "        vertical-align: top;\n",
       "    }\n",
       "\n",
       "    .dataframe thead th {\n",
       "        text-align: right;\n",
       "    }\n",
       "</style>\n",
       "<table border=\"1\" class=\"dataframe\">\n",
       "  <thead>\n",
       "    <tr style=\"text-align: right;\">\n",
       "      <th></th>\n",
       "      <th>sl_style</th>\n",
       "      <th>sl_localisation</th>\n",
       "      <th>sl_annee</th>\n",
       "      <th>sl_ascenseur</th>\n",
       "      <th>sl_vue</th>\n",
       "      <th>sl_cave</th>\n",
       "      <th>sl_exposition</th>\n",
       "      <th>sl_balcon</th>\n",
       "      <th>sl_gardien</th>\n",
       "      <th>sl_neuf</th>\n",
       "      <th>sl_parquet</th>\n",
       "      <th>sl_cuisine</th>\n",
       "    </tr>\n",
       "  </thead>\n",
       "  <tbody>\n",
       "    <tr>\n",
       "      <th>count</th>\n",
       "      <td>237</td>\n",
       "      <td>153</td>\n",
       "      <td>133</td>\n",
       "      <td>143</td>\n",
       "      <td>54</td>\n",
       "      <td>160</td>\n",
       "      <td>113</td>\n",
       "      <td>54</td>\n",
       "      <td>42</td>\n",
       "      <td>14</td>\n",
       "      <td>64</td>\n",
       "      <td>147</td>\n",
       "    </tr>\n",
       "    <tr>\n",
       "      <th>unique</th>\n",
       "      <td>5</td>\n",
       "      <td>3</td>\n",
       "      <td>51</td>\n",
       "      <td>1</td>\n",
       "      <td>2</td>\n",
       "      <td>11</td>\n",
       "      <td>8</td>\n",
       "      <td>16</td>\n",
       "      <td>1</td>\n",
       "      <td>1</td>\n",
       "      <td>1</td>\n",
       "      <td>8</td>\n",
       "    </tr>\n",
       "    <tr>\n",
       "      <th>top</th>\n",
       "      <td>Appartement</td>\n",
       "      <td>Quartier Les Brotteaux-Bellecombe-Masséna</td>\n",
       "      <td>Année de construction 1900</td>\n",
       "      <td>Ascenseur</td>\n",
       "      <td>Vue</td>\n",
       "      <td>Cave</td>\n",
       "      <td>Orientation Est</td>\n",
       "      <td>1 Balcon</td>\n",
       "      <td>Gardien</td>\n",
       "      <td>Refait à neuf</td>\n",
       "      <td>Parquet</td>\n",
       "      <td>Cuisine séparée</td>\n",
       "    </tr>\n",
       "    <tr>\n",
       "      <th>freq</th>\n",
       "      <td>226</td>\n",
       "      <td>61</td>\n",
       "      <td>27</td>\n",
       "      <td>143</td>\n",
       "      <td>43</td>\n",
       "      <td>148</td>\n",
       "      <td>38</td>\n",
       "      <td>27</td>\n",
       "      <td>42</td>\n",
       "      <td>14</td>\n",
       "      <td>64</td>\n",
       "      <td>45</td>\n",
       "    </tr>\n",
       "  </tbody>\n",
       "</table>\n",
       "</div>"
      ],
      "text/plain": [
       "           sl_style                            sl_localisation  \\\n",
       "count           237                                        153   \n",
       "unique            5                                          3   \n",
       "top     Appartement  Quartier Les Brotteaux-Bellecombe-Masséna   \n",
       "freq            226                                         61   \n",
       "\n",
       "                          sl_annee sl_ascenseur sl_vue sl_cave  \\\n",
       "count                          133          143     54     160   \n",
       "unique                          51            1      2      11   \n",
       "top     Année de construction 1900    Ascenseur    Vue    Cave   \n",
       "freq                            27          143     43     148   \n",
       "\n",
       "          sl_exposition sl_balcon sl_gardien        sl_neuf sl_parquet  \\\n",
       "count               113        54         42             14         64   \n",
       "unique                8        16          1              1          1   \n",
       "top     Orientation Est  1 Balcon    Gardien  Refait à neuf    Parquet   \n",
       "freq                 38        27         42             14         64   \n",
       "\n",
       "             sl_cuisine  \n",
       "count               147  \n",
       "unique                8  \n",
       "top     Cuisine séparée  \n",
       "freq                 45  "
      ]
     },
     "execution_count": 15,
     "metadata": {},
     "output_type": "execute_result"
    }
   ],
   "source": [
    "categoricals_Lyon = df.select_dtypes(exclude = [np.number])\n",
    "categoricals_Lyon.describe()"
   ]
  },
  {
   "cell_type": "markdown",
   "metadata": {},
   "source": [
    "##  Analyse des données Target"
   ]
  },
  {
   "cell_type": "markdown",
   "metadata": {},
   "source": [
    "Lyon : the average sale price of a house is close to 665000€, with most of the values falling within the 340000 to 865000€.\n"
   ]
  },
  {
   "cell_type": "code",
   "execution_count": 16,
   "metadata": {},
   "outputs": [
    {
     "data": {
      "text/plain": [
       "count    2.350000e+02\n",
       "mean     6.649261e+05\n",
       "std      4.428601e+05\n",
       "min      8.000000e+04\n",
       "25%      3.400000e+05\n",
       "50%      5.650000e+05\n",
       "75%      8.650000e+05\n",
       "max      2.990000e+06\n",
       "Name: sl_prix, dtype: float64"
      ]
     },
     "execution_count": 16,
     "metadata": {},
     "output_type": "execute_result"
    }
   ],
   "source": [
    "df.sl_prix.describe()"
   ]
  },
  {
   "cell_type": "markdown",
   "metadata": {},
   "source": [
    "Dans le graphique ci dessous, nous remarquons que la distribution est asymetrique vers la droite. Afin d'ameliorer la linéarité des données, appliquons \"np.log () sur le target\"(N.B : np.exp() permet d'inverser la transformation)."
   ]
  },
  {
   "cell_type": "code",
   "execution_count": 17,
   "metadata": {},
   "outputs": [
    {
     "name": "stderr",
     "output_type": "stream",
     "text": [
      "C:\\Users\\utilisateur\\Anaconda3\\lib\\site-packages\\numpy\\lib\\histograms.py:839: RuntimeWarning: invalid value encountered in greater_equal\n",
      "  keep = (tmp_a >= first_edge)\n",
      "C:\\Users\\utilisateur\\Anaconda3\\lib\\site-packages\\numpy\\lib\\histograms.py:840: RuntimeWarning: invalid value encountered in less_equal\n",
      "  keep &= (tmp_a <= last_edge)\n"
     ]
    },
    {
     "name": "stdout",
     "output_type": "stream",
     "text": [
      "skew= 1.7572680252316262\n"
     ]
    },
    {
     "data": {
      "image/png": "[encoded data removed]",
      "text/plain": [
       "<Figure size 720x432 with 1 Axes>"
      ]
     },
     "metadata": {
      "needs_background": "light"
     },
     "output_type": "display_data"
    }
   ],
   "source": [
    "plt.hist(df.sl_prix, color = 'blue')\n",
    "print (\"skew=\", df.sl_prix.skew())\n"
   ]
  },
  {
   "cell_type": "markdown",
   "metadata": {},
   "source": [
    "D'après les résultats précédents, on remarque que le prix de vente moyen d’une maison est proche de 665000 euros, avec la plupart des valeurs tombant entre 340000 à 865000 euros."
   ]
  },
  {
   "cell_type": "code",
   "execution_count": 18,
   "metadata": {},
   "outputs": [
    {
     "name": "stderr",
     "output_type": "stream",
     "text": [
      "C:\\Users\\utilisateur\\Anaconda3\\lib\\site-packages\\numpy\\lib\\histograms.py:839: RuntimeWarning: invalid value encountered in greater_equal\n",
      "  keep = (tmp_a >= first_edge)\n",
      "C:\\Users\\utilisateur\\Anaconda3\\lib\\site-packages\\numpy\\lib\\histograms.py:840: RuntimeWarning: invalid value encountered in less_equal\n",
      "  keep &= (tmp_a <= last_edge)\n"
     ]
    },
    {
     "name": "stdout",
     "output_type": "stream",
     "text": [
      "skew= -0.2848637677800953\n"
     ]
    },
    {
     "data": {
      "image/png": "[encoded data removed]",
      "text/plain": [
       "<Figure size 720x432 with 1 Axes>"
      ]
     },
     "metadata": {
      "needs_background": "light"
     },
     "output_type": "display_data"
    }
   ],
   "source": [
    "target = np.log(df.sl_prix)\n",
    "plt.hist(target, color = 'blue')\n",
    "print (\"skew=\", target.skew())"
   ]
  },
  {
   "cell_type": "markdown",
   "metadata": {},
   "source": [
    "   ##  Relation between target and numeric Features"
   ]
  },
  {
   "cell_type": "markdown",
   "metadata": {},
   "source": [
    "Les 2 premières features sont les plus positivement corrélées avec le prix, tandis que les 2 derniers  sont les plus négativement corrélées."
   ]
  },
  {
   "cell_type": "code",
   "execution_count": 19,
   "metadata": {},
   "outputs": [
    {
     "name": "stdout",
     "output_type": "stream",
     "text": [
      "Correlation Lyon \n",
      " sl_prix             1.000000\n",
      "sl_taille           0.854806\n",
      "sl_nb_piece         0.768152\n",
      "sl_nb_chambre       0.678260\n",
      "sl_toilette         0.566119\n",
      "sl_salle_de_bain    0.365244\n",
      "Name: sl_prix, dtype: float64 \n",
      "\n",
      "sl_toilette         0.566119\n",
      "sl_salle_de_bain    0.365244\n",
      "sl_salle_d_eau      0.158617\n",
      "sl_terrasse         0.040754\n",
      "sl_hauteur         -0.079730\n",
      "sl_etage           -0.087254\n",
      "sl_parking         -0.153559\n",
      "Name: sl_prix, dtype: float64\n"
     ]
    }
   ],
   "source": [
    "numeric_features_l = df.select_dtypes(include=[np.number]).corr()\n",
    "\n",
    "print (\"Correlation Lyon\", '\\n', numeric_features_l['sl_prix'].sort_values(ascending=False)[:6], '\\n')\n",
    "print (numeric_features_l['sl_prix'].sort_values(ascending=False)[-7:])\n"
   ]
  },
  {
   "cell_type": "code",
   "execution_count": 19,
   "metadata": {},
   "outputs": [
    {
     "data": {
      "image/png": "[encoded data removed]",
      "text/plain": [
       "<Figure size 720x432 with 2 Axes>"
      ]
     },
     "metadata": {
      "needs_background": "light"
     },
     "output_type": "display_data"
    }
   ],
   "source": [
    "sns.heatmap(numeric_features_l, annot=True)\n",
    "plt.show()"
   ]
  },
  {
   "cell_type": "markdown",
   "metadata": {},
   "source": [
    "## Relation between target and no-numeric Features"
   ]
  },
  {
   "cell_type": "markdown",
   "metadata": {},
   "source": [
    "**count** indique le nombre d'observations non nulles. \n",
    "\n",
    "**unique** : indique le nombre de valeurs uniques.\n",
    "\n",
    "**top** : indique la valeur la plus courante.\n",
    "\n",
    "**freq** : la fréquence de la valeur maximale indiquée"
   ]
  },
  {
   "cell_type": "code",
   "execution_count": 20,
   "metadata": {},
   "outputs": [
    {
     "data": {
      "text/html": [
       "<div>\n",
       "<style scoped>\n",
       "    .dataframe tbody tr th:only-of-type {\n",
       "        vertical-align: middle;\n",
       "    }\n",
       "\n",
       "    .dataframe tbody tr th {\n",
       "        vertical-align: top;\n",
       "    }\n",
       "\n",
       "    .dataframe thead th {\n",
       "        text-align: right;\n",
       "    }\n",
       "</style>\n",
       "<table border=\"1\" class=\"dataframe\">\n",
       "  <thead>\n",
       "    <tr style=\"text-align: right;\">\n",
       "      <th></th>\n",
       "      <th>sl_style</th>\n",
       "      <th>sl_localisation</th>\n",
       "      <th>sl_annee</th>\n",
       "      <th>sl_ascenseur</th>\n",
       "      <th>sl_vue</th>\n",
       "      <th>sl_cave</th>\n",
       "      <th>sl_exposition</th>\n",
       "      <th>sl_balcon</th>\n",
       "      <th>sl_gardien</th>\n",
       "      <th>sl_neuf</th>\n",
       "      <th>sl_parquet</th>\n",
       "      <th>sl_cuisine</th>\n",
       "    </tr>\n",
       "  </thead>\n",
       "  <tbody>\n",
       "    <tr>\n",
       "      <th>count</th>\n",
       "      <td>237</td>\n",
       "      <td>153</td>\n",
       "      <td>133</td>\n",
       "      <td>143</td>\n",
       "      <td>54</td>\n",
       "      <td>160</td>\n",
       "      <td>113</td>\n",
       "      <td>54</td>\n",
       "      <td>42</td>\n",
       "      <td>14</td>\n",
       "      <td>64</td>\n",
       "      <td>147</td>\n",
       "    </tr>\n",
       "    <tr>\n",
       "      <th>unique</th>\n",
       "      <td>5</td>\n",
       "      <td>3</td>\n",
       "      <td>51</td>\n",
       "      <td>1</td>\n",
       "      <td>2</td>\n",
       "      <td>11</td>\n",
       "      <td>8</td>\n",
       "      <td>16</td>\n",
       "      <td>1</td>\n",
       "      <td>1</td>\n",
       "      <td>1</td>\n",
       "      <td>8</td>\n",
       "    </tr>\n",
       "    <tr>\n",
       "      <th>top</th>\n",
       "      <td>Appartement</td>\n",
       "      <td>Quartier Les Brotteaux-Bellecombe-Masséna</td>\n",
       "      <td>Année de construction 1900</td>\n",
       "      <td>Ascenseur</td>\n",
       "      <td>Vue</td>\n",
       "      <td>Cave</td>\n",
       "      <td>Orientation Est</td>\n",
       "      <td>1 Balcon</td>\n",
       "      <td>Gardien</td>\n",
       "      <td>Refait à neuf</td>\n",
       "      <td>Parquet</td>\n",
       "      <td>Cuisine séparée</td>\n",
       "    </tr>\n",
       "    <tr>\n",
       "      <th>freq</th>\n",
       "      <td>226</td>\n",
       "      <td>61</td>\n",
       "      <td>27</td>\n",
       "      <td>143</td>\n",
       "      <td>43</td>\n",
       "      <td>148</td>\n",
       "      <td>38</td>\n",
       "      <td>27</td>\n",
       "      <td>42</td>\n",
       "      <td>14</td>\n",
       "      <td>64</td>\n",
       "      <td>45</td>\n",
       "    </tr>\n",
       "  </tbody>\n",
       "</table>\n",
       "</div>"
      ],
      "text/plain": [
       "           sl_style                            sl_localisation  \\\n",
       "count           237                                        153   \n",
       "unique            5                                          3   \n",
       "top     Appartement  Quartier Les Brotteaux-Bellecombe-Masséna   \n",
       "freq            226                                         61   \n",
       "\n",
       "                          sl_annee sl_ascenseur sl_vue sl_cave  \\\n",
       "count                          133          143     54     160   \n",
       "unique                          51            1      2      11   \n",
       "top     Année de construction 1900    Ascenseur    Vue    Cave   \n",
       "freq                            27          143     43     148   \n",
       "\n",
       "          sl_exposition sl_balcon sl_gardien        sl_neuf sl_parquet  \\\n",
       "count               113        54         42             14         64   \n",
       "unique                8        16          1              1          1   \n",
       "top     Orientation Est  1 Balcon    Gardien  Refait à neuf    Parquet   \n",
       "freq                 38        27         42             14         64   \n",
       "\n",
       "             sl_cuisine  \n",
       "count               147  \n",
       "unique                8  \n",
       "top     Cuisine séparée  \n",
       "freq                 45  "
      ]
     },
     "execution_count": 20,
     "metadata": {},
     "output_type": "execute_result"
    }
   ],
   "source": [
    "categoricals = df.select_dtypes(exclude= [np.number])\n",
    "categoricals.describe()"
   ]
  },
  {
   "cell_type": "code",
   "execution_count": 21,
   "metadata": {},
   "outputs": [
    {
     "data": {
      "image/png": "[encoded data removed]",
      "text/plain": [
       "<Figure size 720x720 with 1 Axes>"
      ]
     },
     "metadata": {
      "needs_background": "light"
     },
     "output_type": "display_data"
    },
    {
     "data": {
      "image/png": "[encoded data removed]",
      "text/plain": [
       "<Figure size 720x720 with 1 Axes>"
      ]
     },
     "metadata": {
      "needs_background": "light"
     },
     "output_type": "display_data"
    },
    {
     "data": {
      "image/png": "[encoded data removed]",
      "text/plain": [
       "<Figure size 720x720 with 1 Axes>"
      ]
     },
     "metadata": {
      "needs_background": "light"
     },
     "output_type": "display_data"
    },
    {
     "data": {
      "image/png": "[encoded data removed]",
      "text/plain": [
       "<Figure size 720x720 with 1 Axes>"
      ]
     },
     "metadata": {
      "needs_background": "light"
     },
     "output_type": "display_data"
    },
    {
     "data": {
      "image/png": "[encoded data removed]",
      "text/plain": [
       "<Figure size 720x720 with 1 Axes>"
      ]
     },
     "metadata": {
      "needs_background": "light"
     },
     "output_type": "display_data"
    },
    {
     "data": {
      "image/png": "[encoded data removed]",
      "text/plain": [
       "<Figure size 720x720 with 1 Axes>"
      ]
     },
     "metadata": {
      "needs_background": "light"
     },
     "output_type": "display_data"
    },
    {
     "data": {
      "image/png": "[encoded data removed]",
      "text/plain": [
       "<Figure size 720x720 with 1 Axes>"
      ]
     },
     "metadata": {
      "needs_background": "light"
     },
     "output_type": "display_data"
    },
    {
     "data": {
      "image/png": "[encoded data removed]",
      "text/plain": [
       "<Figure size 720x720 with 1 Axes>"
      ]
     },
     "metadata": {
      "needs_background": "light"
     },
     "output_type": "display_data"
    },
    {
     "data": {
      "image/png": "[encoded data removed]",
      "text/plain": [
       "<Figure size 720x720 with 1 Axes>"
      ]
     },
     "metadata": {
      "needs_background": "light"
     },
     "output_type": "display_data"
    },
    {
     "data": {
      "image/png": "[encoded data removed]",
      "text/plain": [
       "<Figure size 720x720 with 1 Axes>"
      ]
     },
     "metadata": {
      "needs_background": "light"
     },
     "output_type": "display_data"
    },
    {
     "data": {
      "image/png": "[encoded data removed]",
      "text/plain": [
       "<Figure size 720x720 with 1 Axes>"
      ]
     },
     "metadata": {
      "needs_background": "light"
     },
     "output_type": "display_data"
    },
    {
     "data": {
      "image/png": "[encoded data removed]",
      "text/plain": [
       "<Figure size 720x720 with 1 Axes>"
      ]
     },
     "metadata": {
      "needs_background": "light"
     },
     "output_type": "display_data"
    }
   ],
   "source": [
    "df_non_numeric = df.select_dtypes(exclude=[np.number])\n",
    "df_non_numeric_cols = df_non_numeric.columns.values\n",
    "\n",
    "for col in df_non_numeric_cols:\n",
    "    df[col].value_counts().plot(kind='bar',figsize=(10,10),title=col) \n",
    "    plt.show()"
   ]
  },
  {
   "cell_type": "markdown",
   "metadata": {},
   "source": [
    "Lyon : Notons que le prix d'achat médiane de la cuisine_américaine_équipée est nettement plus élevé que les autres. "
   ]
  },
  {
   "cell_type": "code",
   "execution_count": 21,
   "metadata": {},
   "outputs": [
    {
     "name": "stdout",
     "output_type": "stream",
     "text": [
      "                              sl_prix\n",
      "sl_cuisine                           \n",
      "Cuisine américaine           435000.0\n",
      "Cuisine américaine équipée   649500.0\n",
      "Cuisine aucune               525000.0\n",
      "Cuisine coin cuisine         112000.0\n",
      "Cuisine coin cuisine équipé  210000.0\n",
      "Cuisine séparée              560000.0\n",
      "Cuisine séparée équipée      646500.0\n",
      "Cuisine équipée              474000.0\n"
     ]
    },
    {
     "data": {
      "image/png": "[encoded data removed]",
      "text/plain": [
       "<Figure size 720x432 with 1 Axes>"
      ]
     },
     "metadata": {
      "needs_background": "light"
     },
     "output_type": "display_data"
    }
   ],
   "source": [
    "cuisine_pivot = df.pivot_table(index='sl_cuisine', values = 'sl_prix', aggfunc = np.median)\n",
    "print(cuisine_pivot)\n",
    "\n",
    "cuisine_pivot.plot(kind='bar', color='blue')\n",
    "plt.xlabel('Cuisine')\n",
    "plt.ylabel('Median Prix')\n",
    "plt.title('Lyon')\n",
    "plt.show()"
   ]
  },
  {
   "cell_type": "code",
   "execution_count": 22,
   "metadata": {},
   "outputs": [
    {
     "name": "stdout",
     "output_type": "stream",
     "text": [
      "                                             sl_prix\n",
      "sl_localisation                                     \n",
      "Lyon 6ème                                  1040000.0\n",
      "Quartier Les Brotteaux-Bellecombe-Masséna   460000.0\n",
      "Quartier Tête d'Or-Foch-Vitton              630000.0\n"
     ]
    },
    {
     "data": {
      "image/png": "[encoded data removed]",
      "text/plain": [
       "<Figure size 720x432 with 1 Axes>"
      ]
     },
     "metadata": {
      "needs_background": "light"
     },
     "output_type": "display_data"
    },
    {
     "name": "stdout",
     "output_type": "stream",
     "text": [
      "None\n"
     ]
    }
   ],
   "source": [
    "localisation = df.pivot_table(index='sl_localisation', values = 'sl_prix', aggfunc = np.median)\n",
    "print(localisation)\n",
    "localisation.plot(kind='bar', color='blue')\n",
    "plt.xlabel('Localisation')\n",
    "plt.ylabel('Median Prix')\n",
    "plt.title('Lyon')\n",
    "print(plt.show())\n"
   ]
  },
  {
   "cell_type": "markdown",
   "metadata": {},
   "source": [
    "Concernant la localisation, on remarque que c'est Lyon 6ème qui possède le tarif le plus élevé, par rapport aux 2 autres quartiers."
   ]
  },
  {
   "cell_type": "code",
   "execution_count": 89,
   "metadata": {},
   "outputs": [
    {
     "name": "stdout",
     "output_type": "stream",
     "text": [
      "                         sl_prix\n",
      "sl_exposition                   \n",
      "Orientation Est         446500.0\n",
      "Orientation Nord        410000.0\n",
      "Orientation Nord-Est    910000.0\n",
      "Orientation Nord-Ouest  920000.0\n",
      "Orientation Ouest       277990.0\n",
      "Orientation Sud         570000.0\n",
      "Orientation Sud-Est     839000.0\n",
      "Orientation Sud-Ouest   525000.0\n"
     ]
    },
    {
     "data": {
      "image/png": "[encoded data removed]",
      "text/plain": [
       "<Figure size 720x432 with 1 Axes>"
      ]
     },
     "metadata": {
      "needs_background": "light"
     },
     "output_type": "display_data"
    },
    {
     "name": "stdout",
     "output_type": "stream",
     "text": [
      "None\n"
     ]
    }
   ],
   "source": [
    "exposition = df.pivot_table(index='sl_exposition', values = 'sl_prix', aggfunc = np.median)\n",
    "print(exposition)\n",
    "\n",
    "exposition.plot(kind='bar', color='blue')\n",
    "plt.xlabel('Expositon')\n",
    "plt.ylabel('Median Prix')\n",
    "plt.title('Lyon')\n",
    "plt.legend()\n",
    "print(plt.show())"
   ]
  },
  {
   "cell_type": "markdown",
   "metadata": {},
   "source": [
    "D'après les résultats, on remarque que les logements se situant au Nord-Ouest ont le tarif le plus élevé (suivi de ceux se situant au Nord-Est et au Sud-Est)."
   ]
  },
  {
   "cell_type": "markdown",
   "metadata": {},
   "source": [
    "# Encoding Categorical Features"
   ]
  },
  {
   "cell_type": "code",
   "execution_count": 92,
   "metadata": {},
   "outputs": [
    {
     "data": {
      "text/plain": [
       "Quartier Les Brotteaux-Bellecombe-Masséna    61\n",
       "Quartier Tête d'Or-Foch-Vitton               54\n",
       "Lyon 6ème                                    38\n",
       "Name: sl_localisation, dtype: int64"
      ]
     },
     "execution_count": 92,
     "metadata": {},
     "output_type": "execute_result"
    }
   ],
   "source": [
    "df.sl_localisation.value_counts()"
   ]
  },
  {
   "cell_type": "markdown",
   "metadata": {},
   "source": [
    "Contrairement à ce qui a été dit précédemment, et d'après ces résultats: le quartier \"Les Brotteaux-Bellecombe-Masséna\" possède le plus grand nombre de logements."
   ]
  },
  {
   "cell_type": "code",
   "execution_count": 20,
   "metadata": {},
   "outputs": [],
   "source": [
    "def encode(x):\n",
    "    return 1 if x ==\"Lyon 6ème\" else 0\n",
    "\n",
    "\n",
    "df['sl_localisation_enc'] = df.sl_localisation.apply(encode)\n"
   ]
  },
  {
   "cell_type": "code",
   "execution_count": 94,
   "metadata": {},
   "outputs": [
    {
     "data": {
      "text/plain": [
       "Cuisine séparée                45\n",
       "Cuisine américaine équipée     27\n",
       "Cuisine aucune                 19\n",
       "Cuisine séparée équipée        16\n",
       "Cuisine équipée                16\n",
       "Cuisine américaine             12\n",
       "Cuisine coin cuisine           11\n",
       "Cuisine coin cuisine équipé     1\n",
       "Name: sl_cuisine, dtype: int64"
      ]
     },
     "execution_count": 94,
     "metadata": {},
     "output_type": "execute_result"
    }
   ],
   "source": [
    "df.sl_cuisine.value_counts()"
   ]
  },
  {
   "cell_type": "markdown",
   "metadata": {},
   "source": [
    "Contrairement à ce qui a été dit précédemment, et d'après ces résultats: la cuisine séparée est dominante par rapport aux autres types de cuisines, quelques soient le logement et le tarif."
   ]
  },
  {
   "cell_type": "code",
   "execution_count": 21,
   "metadata": {},
   "outputs": [],
   "source": [
    "def encode(x):\n",
    "    return 1 if x =='Cuisine américaine équipée' else 0\n",
    "\n",
    "\n",
    "df['sl_cuisine_enc'] = df.sl_cuisine.apply(encode)\n"
   ]
  },
  {
   "cell_type": "code",
   "execution_count": 22,
   "metadata": {},
   "outputs": [],
   "source": [
    "def encode(x):\n",
    "    return 1 if x =='Orientation Nord-Ouest' else 0\n",
    "\n",
    "df['sl_exposition_enc'] = df.sl_exposition.apply(encode)"
   ]
  },
  {
   "cell_type": "code",
   "execution_count": 97,
   "metadata": {},
   "outputs": [
    {
     "data": {
      "text/plain": [
       "Orientation Est           38\n",
       "Orientation Sud           32\n",
       "Orientation Sud-Ouest     13\n",
       "Orientation Sud-Est       12\n",
       "Orientation Ouest          9\n",
       "Orientation Nord-Est       5\n",
       "Orientation Nord-Ouest     3\n",
       "Orientation Nord           1\n",
       "Name: sl_exposition, dtype: int64"
      ]
     },
     "execution_count": 97,
     "metadata": {},
     "output_type": "execute_result"
    }
   ],
   "source": [
    "df.sl_exposition.value_counts()"
   ]
  },
  {
   "cell_type": "markdown",
   "metadata": {},
   "source": [
    "Contrairement à ce qui a été dit précédemment, et d'après ces résultats: il y a plus de logements se situant à l'est de Lyon (quelque soit le prix de ces derniers)."
   ]
  },
  {
   "cell_type": "code",
   "execution_count": 23,
   "metadata": {},
   "outputs": [],
   "source": [
    "def encode(x):\n",
    "    return 1 if x =='Belle vue' else 0\n",
    "\n",
    "\n",
    "df['sl_vue_enc'] = df.sl_vue.apply(encode)\n"
   ]
  },
  {
   "cell_type": "code",
   "execution_count": 24,
   "metadata": {},
   "outputs": [],
   "source": [
    "def encode(x):\n",
    "    return 1 if x =='Ascenseur' else 0\n",
    "\n",
    "\n",
    "df['sl_ascenseur_enc'] = df.sl_ascenseur.apply(encode)"
   ]
  },
  {
   "cell_type": "code",
   "execution_count": 25,
   "metadata": {},
   "outputs": [],
   "source": [
    "def encode(x):\n",
    "    return 1 if x =='Refait à neuf' else 0\n",
    "\n",
    "\n",
    "df['sl_neuf_enc'] = df.sl_neuf.apply(encode)"
   ]
  },
  {
   "cell_type": "code",
   "execution_count": 26,
   "metadata": {},
   "outputs": [],
   "source": [
    "def encode(x):\n",
    "    return 1 if x =='Cave' else 0\n",
    "\n",
    "\n",
    "df['sl_cave_enc'] = df.sl_cave.apply(encode)"
   ]
  },
  {
   "cell_type": "code",
   "execution_count": 102,
   "metadata": {},
   "outputs": [
    {
     "data": {
      "text/plain": [
       "Année de construction 1900    27\n",
       "Année de construction 1960    11\n",
       "Année de construction 1970     8\n",
       "Année de construction 1950     6\n",
       "Année de construction 1930     6\n",
       "Année de construction 1890     5\n",
       "Année de construction 1965     4\n",
       "Année de construction 1980     3\n",
       "Année de construction 1880     3\n",
       "Année de construction 1987     3\n",
       "Année de construction 1982     3\n",
       "Année de construction 1920     3\n",
       "Année de construction 1990     2\n",
       "Année de construction 2021     2\n",
       "Année de construction 1956     2\n",
       "Année de construction 1969     2\n",
       "Année de construction 2010     2\n",
       "Année de construction 1979     2\n",
       "Année de construction 1800     2\n",
       "Année de construction 1850     2\n",
       "Année de construction 1945     2\n",
       "Année de construction 1928     2\n",
       "Année de construction 1910     2\n",
       "Année de construction 1971     2\n",
       "Année de construction 1975     1\n",
       "Année de construction 1997     1\n",
       "Année de construction 1988     1\n",
       "Année de construction 2011     1\n",
       "Année de construction 1940     1\n",
       "Année de construction 1973     1\n",
       "Année de construction 2017     1\n",
       "Année de construction 1974     1\n",
       "Année de construction 1954     1\n",
       "Année de construction 1936     1\n",
       "Année de construction 1978     1\n",
       "Année de construction 1994     1\n",
       "Année de construction 1937     1\n",
       "Année de construction 1925     1\n",
       "Année de construction 1953     1\n",
       "Année de construction 1952     1\n",
       "Année de construction 2000     1\n",
       "Année de construction 1948     1\n",
       "Année de construction 1972     1\n",
       "Année de construction 1995     1\n",
       "Année de construction 1984     1\n",
       "Année de construction 1887     1\n",
       "Année de construction 1911     1\n",
       "Année de construction 2002     1\n",
       "Année de construction 1968     1\n",
       "Année de construction 1942     1\n",
       "Année de construction 1963     1\n",
       "Name: sl_annee, dtype: int64"
      ]
     },
     "execution_count": 102,
     "metadata": {},
     "output_type": "execute_result"
    }
   ],
   "source": [
    "annee_pivot = df.pivot_table(index='sl_annee', values = 'sl_prix', aggfunc = np.median)\n",
    "df.sl_annee.value_counts()"
   ]
  },
  {
   "cell_type": "markdown",
   "metadata": {},
   "source": [
    "D'après ces résultats, on remarque qu'il y a plus de logements construits en 1900."
   ]
  },
  {
   "cell_type": "code",
   "execution_count": 27,
   "metadata": {},
   "outputs": [],
   "source": [
    "def encode(x):\n",
    "    return 1 if x == 'Année de construction 1900' else 0\n",
    "\n",
    "\n",
    "df['sl_annee_enc'] = df.sl_annee.apply(encode)\n"
   ]
  },
  {
   "cell_type": "code",
   "execution_count": 28,
   "metadata": {},
   "outputs": [],
   "source": [
    "def encode(x):\n",
    "    return 1 if x =='1 Balcon' else 0\n",
    "\n",
    "\n",
    "df['sl_balcon_enc'] = df.sl_balcon.apply(encode)"
   ]
  },
  {
   "cell_type": "code",
   "execution_count": 29,
   "metadata": {},
   "outputs": [],
   "source": [
    "def encode(x):\n",
    "    return 1 if x =='Parquet' else 0\n",
    "\n",
    "\n",
    "df['sl_parquet_enc'] = df.sl_parquet.apply(encode)"
   ]
  },
  {
   "cell_type": "code",
   "execution_count": 106,
   "metadata": {},
   "outputs": [
    {
     "data": {
      "text/plain": [
       "Appartement       226\n",
       "Maison / Villa      7\n",
       "Triplex             2\n",
       "Duplex              1\n",
       "Villa               1\n",
       "Name: sl_style, dtype: int64"
      ]
     },
     "execution_count": 106,
     "metadata": {},
     "output_type": "execute_result"
    }
   ],
   "source": [
    "df.sl_style.value_counts()"
   ]
  },
  {
   "cell_type": "markdown",
   "metadata": {},
   "source": [
    "D'après ces résultats, les appartements sont dominants par rapport aux autres types de logements. "
   ]
  },
  {
   "cell_type": "code",
   "execution_count": 30,
   "metadata": {},
   "outputs": [],
   "source": [
    "def encode(x):\n",
    "    return 1 if x =='Maison / Villa' else 0\n",
    "\n",
    "\n",
    "df['sl_style_enc'] = df.sl_style.apply(encode)"
   ]
  },
  {
   "cell_type": "code",
   "execution_count": 31,
   "metadata": {},
   "outputs": [],
   "source": [
    "def encode(x):\n",
    "    return 1 if x =='Gardien' else 0\n",
    "\n",
    "\n",
    "df['sl_gardien_enc'] = df.sl_gardien.apply(encode)"
   ]
  },
  {
   "cell_type": "markdown",
   "metadata": {},
   "source": [
    "# Missing data : Interpolation \n",
    "\n",
    "Cela permet de remplir les valeurs manquantes par une valeur moyenne.\n",
    "\n"
   ]
  },
  {
   "cell_type": "code",
   "execution_count": 32,
   "metadata": {},
   "outputs": [],
   "source": [
    "\n",
    "data_Lyon= df.select_dtypes(include=[np.number]).interpolate().dropna()\n",
    "#data_Lyon.to_csv(\"dataLyon_sl_bd.csv\", index=False)"
   ]
  },
  {
   "cell_type": "markdown",
   "metadata": {},
   "source": [
    "# Modèle Linéaire"
   ]
  },
  {
   "cell_type": "code",
   "execution_count": 36,
   "metadata": {},
   "outputs": [],
   "source": [
    "from sklearn.model_selection import train_test_split\n",
    "\n",
    "X =  data_Lyon.drop(['sl_prix'], axis=1)\n",
    "y = np.log(data_Lyon.sl_prix)\n",
    "\n",
    "X_train, X_test, y_train, y_test = train_test_split(X, y, test_size=0.3, random_state=42)\n"
   ]
  },
  {
   "cell_type": "markdown",
   "metadata": {},
   "source": [
    "## Score: R2"
   ]
  },
  {
   "cell_type": "code",
   "execution_count": 37,
   "metadata": {},
   "outputs": [
    {
     "data": {
      "text/plain": [
       "0.7080302267473337"
      ]
     },
     "execution_count": 37,
     "metadata": {},
     "output_type": "execute_result"
    }
   ],
   "source": [
    "from sklearn import linear_model\n",
    "lr = linear_model.LinearRegression()\n",
    "model = lr.fit(X_train, y_train)\n",
    "model.score(X_test, y_test)"
   ]
  },
  {
   "cell_type": "code",
   "execution_count": 38,
   "metadata": {},
   "outputs": [],
   "source": [
    "y_pred = model.predict(X_test)"
   ]
  },
  {
   "cell_type": "markdown",
   "metadata": {},
   "source": [
    "## RMSE "
   ]
  },
  {
   "cell_type": "code",
   "execution_count": 39,
   "metadata": {},
   "outputs": [
    {
     "data": {
      "text/plain": [
       "0.1163234082357537"
      ]
     },
     "execution_count": 39,
     "metadata": {},
     "output_type": "execute_result"
    }
   ],
   "source": [
    "from sklearn.metrics import mean_squared_error\n",
    "def RMSE (y_test, y_pred):\n",
    "    return mean_squared_error(y_test, y_pred)\n",
    "# la distance entre nos valeurs prévues et les valeurs réelles.\n",
    "RMSE(y_test, y_pred)"
   ]
  },
  {
   "cell_type": "markdown",
   "metadata": {},
   "source": [
    "On remarque que le RMSE est proche de 0. On en déduit que la distance entre les valuers réelles et les valeurs prévues est quasi nulle."
   ]
  },
  {
   "cell_type": "code",
   "execution_count": 60,
   "metadata": {},
   "outputs": [
    {
     "data": {
      "image/png": "[encoded data removed]",
      "text/plain": [
       "<Figure size 720x432 with 1 Axes>"
      ]
     },
     "metadata": {
      "needs_background": "light"
     },
     "output_type": "display_data"
    }
   ],
   "source": [
    "plt.scatter(y_pred, y_test, alpha=0.9)\n",
    "plt.xlabel('Prédiction Prix')\n",
    "plt.ylabel('Prix actuel')\n",
    "plt.title('Régression linéaire')\n",
    "plt.show()\n"
   ]
  },
  {
   "cell_type": "markdown",
   "metadata": {},
   "source": [
    "# Cross-validation et gridsearch\n"
   ]
  },
  {
   "cell_type": "code",
   "execution_count": 40,
   "metadata": {},
   "outputs": [],
   "source": [
    "from sklearn.linear_model import LinearRegression, Lasso, Ridge, ElasticNet, SGDClassifier\n",
    "from sklearn.model_selection import train_test_split, cross_val_score, GridSearchCV\n",
    "from sklearn import ensemble\n",
    "\n",
    "\n",
    "\n",
    "models = {'LR': LinearRegression(),\n",
    "          'Lasso': Lasso(),\n",
    "          'Ridge': Ridge(),\n",
    "          'Elastic_net' :  ElasticNet()}\n",
    "\n",
    " \n",
    "\n",
    "\n",
    "params= {\n",
    "    'LR': {'fit_intercept': [True, False]},\n",
    "    'Lasso' : {'alpha': [0.001,0.01,0.02,0.025,0.05,0.25,0.5,1,5,10]},\n",
    "    'Ridge' : {'alpha': [100,50,25,10,4,2,1.0,0.8,0.5,0.3,0.2,0.1,0.05,0.02,0.01,0.001]},\n",
    "    'Elastic_net': {'alpha' : [0.001, 0.01, 0.1, 1, 10, 100, 1000], \n",
    "                     'l1_ratio' : [0, 0.1, 0.2, 0.3, 0.4, 0.5, 0.6, 0.7, 0.8, 0.9, 1] }     \n",
    "}\n",
    "\n",
    "\n",
    "\n",
    " \n",
    "\n",
    "def gridCV_fit(X_train,y_train):\n",
    "    Evaluation_CV_result={}\n",
    "    \n",
    "    for model_name in models.keys():\n",
    "        print(model_name)\n",
    "        grid=GridSearchCV(estimator=models[model_name], param_grid=params[model_name], cv=5, n_jobs=4,verbose=10,return_train_score=True)\n",
    "        grid.fit(X_train,y_train)  \n",
    "        print(\"best estimator are: {}\".format(grid.best_params_))\n",
    "        print(\"best parameters are: {}\".format(grid.best_estimator_))\n",
    "        print(\"best scores are: {}\".format(grid.best_score_))\n",
    "        Evaluation_CV_result[model_name]=[grid.best_score_]\n",
    "    df_CV_result=pd.DataFrame(Evaluation_CV_result, index =['CV_score']) \n",
    "    return  df_CV_result"
   ]
  },
  {
   "cell_type": "code",
   "execution_count": 41,
   "metadata": {},
   "outputs": [
    {
     "name": "stdout",
     "output_type": "stream",
     "text": [
      "LR\n",
      "Fitting 5 folds for each of 2 candidates, totalling 10 fits\n"
     ]
    },
    {
     "name": "stderr",
     "output_type": "stream",
     "text": [
      "[Parallel(n_jobs=4)]: Using backend LokyBackend with 4 concurrent workers.\n",
      "[Parallel(n_jobs=4)]: Done   5 out of  10 | elapsed:    2.8s remaining:    2.8s\n",
      "[Parallel(n_jobs=4)]: Done   7 out of  10 | elapsed:    2.8s remaining:    1.2s\n",
      "[Parallel(n_jobs=4)]: Done  10 out of  10 | elapsed:    3.1s finished\n",
      "[Parallel(n_jobs=4)]: Using backend LokyBackend with 4 concurrent workers.\n",
      "[Parallel(n_jobs=4)]: Batch computation too fast (0.0190s.) Setting batch_size=2.\n",
      "[Parallel(n_jobs=4)]: Done   5 tasks      | elapsed:    0.0s\n",
      "[Parallel(n_jobs=4)]: Batch computation too fast (0.0750s.) Setting batch_size=4.\n",
      "[Parallel(n_jobs=4)]: Done  12 tasks      | elapsed:    0.0s\n",
      "[Parallel(n_jobs=4)]: Done  28 tasks      | elapsed:    0.1s\n",
      "[Parallel(n_jobs=4)]: Batch computation too fast (0.0510s.) Setting batch_size=8.\n",
      "[Parallel(n_jobs=4)]: Done  50 out of  50 | elapsed:    0.1s finished\n"
     ]
    },
    {
     "name": "stdout",
     "output_type": "stream",
     "text": [
      "best estimator are: {'fit_intercept': True}\n",
      "best parameters are: LinearRegression(copy_X=True, fit_intercept=True, n_jobs=None, normalize=False)\n",
      "best scores are: 0.38524812933999464\n",
      "Lasso\n",
      "Fitting 5 folds for each of 10 candidates, totalling 50 fits\n"
     ]
    },
    {
     "name": "stderr",
     "output_type": "stream",
     "text": [
      "[Parallel(n_jobs=4)]: Using backend LokyBackend with 4 concurrent workers.\n",
      "[Parallel(n_jobs=4)]: Batch computation too fast (0.0190s.) Setting batch_size=2.\n",
      "[Parallel(n_jobs=4)]: Done   5 tasks      | elapsed:    0.0s\n",
      "[Parallel(n_jobs=4)]: Batch computation too fast (0.0560s.) Setting batch_size=4.\n",
      "[Parallel(n_jobs=4)]: Done  12 tasks      | elapsed:    0.0s\n",
      "[Parallel(n_jobs=4)]: Done  28 tasks      | elapsed:    0.0s\n",
      "[Parallel(n_jobs=4)]: Batch computation too fast (0.0370s.) Setting batch_size=8.\n"
     ]
    },
    {
     "name": "stdout",
     "output_type": "stream",
     "text": [
      "best estimator are: {'alpha': 0.01}\n",
      "best parameters are: Lasso(alpha=0.01, copy_X=True, fit_intercept=True, max_iter=1000,\n",
      "      normalize=False, positive=False, precompute=False, random_state=None,\n",
      "      selection='cyclic', tol=0.0001, warm_start=False)\n",
      "best scores are: 0.5732843741584206\n",
      "Ridge\n",
      "Fitting 5 folds for each of 16 candidates, totalling 80 fits\n"
     ]
    },
    {
     "name": "stderr",
     "output_type": "stream",
     "text": [
      "[Parallel(n_jobs=4)]: Done  53 tasks      | elapsed:    0.1s\n",
      "[Parallel(n_jobs=4)]: Done  62 tasks      | elapsed:    0.2s\n",
      "[Parallel(n_jobs=4)]: Done  80 out of  80 | elapsed:    0.2s finished\n",
      "[Parallel(n_jobs=4)]: Using backend LokyBackend with 4 concurrent workers.\n",
      "[Parallel(n_jobs=4)]: Batch computation too fast (0.0480s.) Setting batch_size=2.\n",
      "[Parallel(n_jobs=4)]: Done   5 tasks      | elapsed:    0.0s\n"
     ]
    },
    {
     "name": "stdout",
     "output_type": "stream",
     "text": [
      "best estimator are: {'alpha': 10}\n",
      "best parameters are: Ridge(alpha=10, copy_X=True, fit_intercept=True, max_iter=None, normalize=False,\n",
      "      random_state=None, solver='auto', tol=0.001)\n",
      "best scores are: 0.5801822587481575\n",
      "Elastic_net\n",
      "Fitting 5 folds for each of 77 candidates, totalling 385 fits\n"
     ]
    },
    {
     "name": "stderr",
     "output_type": "stream",
     "text": [
      "[Parallel(n_jobs=4)]: Batch computation too fast (0.0360s.) Setting batch_size=4.\n",
      "[Parallel(n_jobs=4)]: Done  14 tasks      | elapsed:    0.0s\n",
      "[Parallel(n_jobs=4)]: Done  28 tasks      | elapsed:    0.1s\n",
      "[Parallel(n_jobs=4)]: Batch computation too fast (0.0730s.) Setting batch_size=8.\n",
      "[Parallel(n_jobs=4)]: Done  56 tasks      | elapsed:    0.3s\n",
      "[Parallel(n_jobs=4)]: Done 128 tasks      | elapsed:    0.6s\n",
      "[Parallel(n_jobs=4)]: Done 200 tasks      | elapsed:    0.8s\n",
      "[Parallel(n_jobs=4)]: Batch computation too fast (0.1950s.) Setting batch_size=16.\n",
      "[Parallel(n_jobs=4)]: Done 296 tasks      | elapsed:    1.2s\n",
      "[Parallel(n_jobs=4)]: Done 337 tasks      | elapsed:    1.3s\n",
      "[Parallel(n_jobs=4)]: Done 350 tasks      | elapsed:    1.3s\n",
      "[Parallel(n_jobs=4)]: Done 363 tasks      | elapsed:    1.4s\n"
     ]
    },
    {
     "name": "stdout",
     "output_type": "stream",
     "text": [
      "best estimator are: {'alpha': 0.1, 'l1_ratio': 0}\n",
      "best parameters are: ElasticNet(alpha=0.1, copy_X=True, fit_intercept=True, l1_ratio=0,\n",
      "           max_iter=1000, normalize=False, positive=False, precompute=False,\n",
      "           random_state=None, selection='cyclic', tol=0.0001, warm_start=False)\n",
      "best scores are: 0.5818923190605689\n"
     ]
    },
    {
     "name": "stderr",
     "output_type": "stream",
     "text": [
      "[Parallel(n_jobs=4)]: Done 385 out of 385 | elapsed:    1.4s finished\n",
      "C:\\Users\\utilisateur\\Anaconda3\\lib\\site-packages\\sklearn\\linear_model\\_coordinate_descent.py:476: ConvergenceWarning: Objective did not converge. You might want to increase the number of iterations. Duality gap: 10.87074652034285, tolerance: 0.007437274659585142\n",
      "  positive)\n"
     ]
    },
    {
     "data": {
      "text/html": [
       "<div>\n",
       "<style scoped>\n",
       "    .dataframe tbody tr th:only-of-type {\n",
       "        vertical-align: middle;\n",
       "    }\n",
       "\n",
       "    .dataframe tbody tr th {\n",
       "        vertical-align: top;\n",
       "    }\n",
       "\n",
       "    .dataframe thead th {\n",
       "        text-align: right;\n",
       "    }\n",
       "</style>\n",
       "<table border=\"1\" class=\"dataframe\">\n",
       "  <thead>\n",
       "    <tr style=\"text-align: right;\">\n",
       "      <th></th>\n",
       "      <th>LR</th>\n",
       "      <th>Lasso</th>\n",
       "      <th>Ridge</th>\n",
       "      <th>Elastic_net</th>\n",
       "    </tr>\n",
       "  </thead>\n",
       "  <tbody>\n",
       "    <tr>\n",
       "      <th>CV_score</th>\n",
       "      <td>0.385248</td>\n",
       "      <td>0.573284</td>\n",
       "      <td>0.580182</td>\n",
       "      <td>0.581892</td>\n",
       "    </tr>\n",
       "  </tbody>\n",
       "</table>\n",
       "</div>"
      ],
      "text/plain": [
       "                LR     Lasso     Ridge  Elastic_net\n",
       "CV_score  0.385248  0.573284  0.580182     0.581892"
      ]
     },
     "execution_count": 41,
     "metadata": {},
     "output_type": "execute_result"
    }
   ],
   "source": [
    "gridCV_fit(X_train,y_train)"
   ]
  },
  {
   "cell_type": "markdown",
   "metadata": {},
   "source": [
    "## Prediction Prix avec Elastic_net"
   ]
  },
  {
   "cell_type": "code",
   "execution_count": 65,
   "metadata": {},
   "outputs": [
    {
     "name": "stderr",
     "output_type": "stream",
     "text": [
      "C:\\Users\\utilisateur\\Anaconda3\\lib\\site-packages\\sklearn\\linear_model\\_coordinate_descent.py:476: ConvergenceWarning: Objective did not converge. You might want to increase the number of iterations. Duality gap: 10.851932335230217, tolerance: 0.007437274659585142\n",
      "  positive)\n"
     ]
    }
   ],
   "source": [
    "my_best_model= ElasticNet(alpha=0.1, copy_X=True, fit_intercept=True, l1_ratio=0,\n",
    "           max_iter=1000, normalize=False, positive=False, precompute=False,\n",
    "           random_state=None, selection='cyclic', tol=0.0001, warm_start=False).fit(X_train,y_train)\n",
    "# Use the model to make predictions\n",
    "predicted_prices = my_best_model.predict(X_test)"
   ]
  },
  {
   "cell_type": "markdown",
   "metadata": {},
   "source": [
    "## RMSE"
   ]
  },
  {
   "cell_type": "code",
   "execution_count": 66,
   "metadata": {},
   "outputs": [
    {
     "data": {
      "text/plain": [
       "0.11840435582915768"
      ]
     },
     "execution_count": 66,
     "metadata": {},
     "output_type": "execute_result"
    }
   ],
   "source": [
    "mean_squared_error(y_test, predicted_prices )"
   ]
  },
  {
   "cell_type": "markdown",
   "metadata": {},
   "source": [
    "On remarque que le RMSE est proche de 0."
   ]
  },
  {
   "cell_type": "code",
   "execution_count": 67,
   "metadata": {},
   "outputs": [],
   "source": [
    "final_predictions = np.exp(predicted_prices)\n"
   ]
  },
  {
   "cell_type": "code",
   "execution_count": 68,
   "metadata": {},
   "outputs": [
    {
     "name": "stdout",
     "output_type": "stream",
     "text": [
      "Original predictions are: \n",
      " [13.27971428 13.19104005 13.28573259 13.44303566 13.06020753] \n",
      "\n",
      "Final predictions are: \n",
      " [585203.11825967 535544.92007856 588735.6742378  689026.94680743\n",
      " 469868.21180579]\n"
     ]
    }
   ],
   "source": [
    "print (\"Original predictions are: \\n\", predicted_prices[:5], \"\\n\")\n",
    "print (\"Final predictions are: \\n\", final_predictions[:5])"
   ]
  },
  {
   "cell_type": "markdown",
   "metadata": {},
   "source": [
    "On remarque une différence significative entre les prédictions originales et les prédictions finales."
   ]
  },
  {
   "cell_type": "code",
   "execution_count": 69,
   "metadata": {},
   "outputs": [
    {
     "data": {
      "image/png": "[encoded data removed]",
      "text/plain": [
       "<Figure size 720x432 with 1 Axes>"
      ]
     },
     "metadata": {
      "needs_background": "light"
     },
     "output_type": "display_data"
    }
   ],
   "source": [
    "plt.scatter(predicted_prices, y_test, alpha=1)\n",
    "plt.xlabel('Prédiction Prix')\n",
    "plt.ylabel('Prix actuel')\n",
    "plt.title('Régression linéaire')\n",
    "plt.show()\n"
   ]
  },
  {
   "cell_type": "markdown",
   "metadata": {},
   "source": [
    "# GradientBoostingRegressor"
   ]
  },
  {
   "cell_type": "code",
   "execution_count": 70,
   "metadata": {},
   "outputs": [
    {
     "data": {
      "text/plain": [
       "0.8875240140897246"
      ]
     },
     "execution_count": 70,
     "metadata": {},
     "output_type": "execute_result"
    }
   ],
   "source": [
    "from sklearn import ensemble\n",
    "clf = ensemble.GradientBoostingRegressor(n_estimators = 400, max_depth = 5, min_samples_split = 2,\n",
    "          learning_rate = 0.1, loss = 'ls')\n",
    "\n",
    "clf.fit(X_train, y_train)\n",
    "\n",
    "clf.score(X_test,y_test)"
   ]
  },
  {
   "cell_type": "markdown",
   "metadata": {},
   "source": [
    "## RMSE GradientBoostingRegressor"
   ]
  },
  {
   "cell_type": "code",
   "execution_count": 71,
   "metadata": {},
   "outputs": [
    {
     "data": {
      "text/plain": [
       "0.044811453870731696"
      ]
     },
     "execution_count": 71,
     "metadata": {},
     "output_type": "execute_result"
    }
   ],
   "source": [
    "y_predic = clf.predict(X_test)\n",
    "mean_squared_error(y_test, y_predic)"
   ]
  },
  {
   "cell_type": "markdown",
   "metadata": {},
   "source": [
    "## Prediction Prices "
   ]
  },
  {
   "cell_type": "code",
   "execution_count": 74,
   "metadata": {},
   "outputs": [],
   "source": [
    "predict_prices = clf.predict(X_test)\n",
    "predict_final = np.exp(predict_prices)\n",
    "y_test = np.exp(y_test)"
   ]
  },
  {
   "cell_type": "code",
   "execution_count": 75,
   "metadata": {},
   "outputs": [
    {
     "data": {
      "image/png": "[encoded data removed]",
      "text/plain": [
       "<Figure size 720x432 with 1 Axes>"
      ]
     },
     "metadata": {
      "needs_background": "light"
     },
     "output_type": "display_data"
    }
   ],
   "source": [
    "plt.scatter(predict_final, y_test, alpha=1)\n",
    "plt.xlabel('Prédiction Prix')\n",
    "plt.ylabel('Prix actuel')\n",
    "plt.title('Régression linéaire')\n",
    "plt.show()"
   ]
  },
  {
   "cell_type": "code",
   "execution_count": null,
   "metadata": {},
   "outputs": [],
   "source": []
  }
 ],
 "metadata": {
  "hide_input": false,
  "kernelspec": {
   "display_name": "Python 3",
   "language": "python",
   "name": "python3"
  },
  "language_info": {
   "codemirror_mode": {
    "name": "ipython",
    "version": 3
   },
   "file_extension": ".py",
   "mimetype": "text/x-python",
   "name": "python",
   "nbconvert_exporter": "python",
   "pygments_lexer": "ipython3",
   "version": "3.7.7"
  },
  "toc": {
   "base_numbering": 1,
   "nav_menu": {},
   "number_sections": true,
   "sideBar": true,
   "skip_h1_title": false,
   "title_cell": "Table of Contents",
   "title_sidebar": "Contents",
   "toc_cell": false,
   "toc_position": {
    "height": "calc(100% - 180px)",
    "left": "10px",
    "top": "150px",
    "width": "165px"
   },
   "toc_section_display": true,
   "toc_window_display": false
  },
  "varInspector": {
   "cols": {
    "lenName": 16,
    "lenType": 16,
    "lenVar": 40
   },
   "kernels_config": {
    "python": {
     "delete_cmd_postfix": "",
     "delete_cmd_prefix": "del ",
     "library": "var_list.py",
     "varRefreshCmd": "print(var_dic_list())"
    },
    "r": {
     "delete_cmd_postfix": ") ",
     "delete_cmd_prefix": "rm(",
     "library": "var_list.r",
     "varRefreshCmd": "cat(var_dic_list()) "
    }
   },
   "types_to_exclude": [
    "module",
    "function",
    "builtin_function_or_method",
    "instance",
    "_Feature"
   ],
   "window_display": false
  }
 },
 "nbformat": 4,
 "nbformat_minor": 4
}
