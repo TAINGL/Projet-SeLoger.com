{
 "cells": [
  {
   "cell_type": "code",
   "execution_count": 1,
   "metadata": {
    "ExecuteTime": {
     "end_time": "2020-05-27T15:36:07.472645Z",
     "start_time": "2020-05-27T15:36:06.386792Z"
    }
   },
   "outputs": [],
   "source": [
    "from selenium import webdriver\n",
    "from selenium.webdriver.common.keys import Keys\n",
    "from selenium.webdriver.common.action_chains import ActionChains\n",
    "import pandas as pd"
   ]
  },
  {
   "cell_type": "code",
   "execution_count": 2,
   "metadata": {},
   "outputs": [
    {
     "name": "stdout",
     "output_type": "stream",
     "text": [
      "Current Page Title is : 248 annonces de vente d'appartements ou de maisons à Lyon 6ème (69), Seloger.com\n",
      "Current Page Title is : 248 annonces de vente d'appartements ou de maisons à Lyon 6ème (69), Seloger.com\n"
     ]
    },
    {
     "name": "stderr",
     "output_type": "stream",
     "text": [
      "C:\\Users\\utilisateur\\Anaconda3\\lib\\site-packages\\ipykernel_launcher.py:27: DeprecationWarning: use driver.switch_to.window instead\n"
     ]
    }
   ],
   "source": [
    "from time import sleep   \n",
    "# Connection à la page web\n",
    "browser = webdriver.Chrome()\n",
    "browser.get('https://www.seloger.com/list.htm?projects=2&types=1,2&natures=1,2&places=[{ci:690386}]&sort=a_px&enterprise=0&qsVersion=1.0')\n",
    "browser.maximize_window()\n",
    "print(\"Current Page Title is : %s\" %browser.title)# Open a new window\n",
    "# Save the window opener (current window, do not mistaken with tab... not the same)\n",
    "main_window = browser.current_window_handle\n",
    "list_ad = browser.find_element_by_name('classified-link')\n",
    "actions = ActionChains(browser)\n",
    "actions.move_to_element(list_ad).perform()\n",
    "# Open the link in a new tab by sending key strokes on the element\n",
    "# Use: Keys.CONTROL + Keys.SHIFT + Keys.RETURN to open tab on top of the stack \n",
    "list_ad.send_keys(Keys.CONTROL + Keys.RETURN)\n",
    "# Switch tab to the new tab, which we will assume is the next one on the right\n",
    "#browser.find_element_by_tag_name('body').send_keys(Keys.COMMAND + Keys.NUMPAD2)\n",
    "browser.find_element_by_tag_name('body').send_keys(Keys.CONTROL + Keys.TAB)\n",
    "# do whatever you have to do on this page, we will just got to sleep for now\n",
    "sleep(2)\n",
    "# Close current tab\n",
    "#browser.find_element_by_tag_name('body').send_keys(Keys.COMMAND+ 't')\n",
    "print(\"Current Page Title is : %s\" %browser.title)# Close the tab with URL B\n",
    "browser.switch_to.window(browser.window_handles[1])\n",
    "browser.close()# Switch back to the first tab with URL A\n",
    "\n",
    "# Close current tab\n",
    "browser.switch_to_window(main_window)"
   ]
  },
  {
   "cell_type": "code",
   "execution_count": 2,
   "metadata": {
    "ExecuteTime": {
     "end_time": "2020-05-27T15:36:37.314759Z",
     "start_time": "2020-05-27T15:36:37.302038Z"
    }
   },
   "outputs": [],
   "source": [
    "import time\n",
    "from selenium.common.exceptions import NoSuchElementException\n",
    "import pandas as pd"
   ]
  },
  {
   "cell_type": "code",
   "execution_count": 33,
   "metadata": {},
   "outputs": [
    {
     "ename": "NoSuchElementException",
     "evalue": "Message: no such element: Unable to locate element: {\"method\":\"css selector\",\"selector\":\".SimplePagination__SimplePaginationContainer-sc-1xh27g4-0 bREhzg\"}\n  (Session info: chrome=81.0.4044.138)\n",
     "output_type": "error",
     "traceback": [
      "\u001b[1;31m---------------------------------------------------------------------------\u001b[0m",
      "\u001b[1;31mNoSuchElementException\u001b[0m                    Traceback (most recent call last)",
      "\u001b[1;32m<ipython-input-33-69ce67f96a13>\u001b[0m in \u001b[0;36m<module>\u001b[1;34m\u001b[0m\n\u001b[0;32m      6\u001b[0m \u001b[1;31m#get number of pages\u001b[0m\u001b[1;33m\u001b[0m\u001b[1;33m\u001b[0m\u001b[1;33m\u001b[0m\u001b[0m\n\u001b[0;32m      7\u001b[0m \u001b[1;33m\u001b[0m\u001b[0m\n\u001b[1;32m----> 8\u001b[1;33m \u001b[0mpage_numbers\u001b[0m \u001b[1;33m=\u001b[0m \u001b[0mbrowser\u001b[0m\u001b[1;33m.\u001b[0m\u001b[0mfind_element_by_class_name\u001b[0m\u001b[1;33m(\u001b[0m\u001b[1;34m'SimplePagination__SimplePaginationContainer-sc-1xh27g4-0 bREhzg'\u001b[0m\u001b[1;33m)\u001b[0m\u001b[1;33m.\u001b[0m\u001b[0mtext\u001b[0m\u001b[1;33m\u001b[0m\u001b[1;33m\u001b[0m\u001b[0m\n\u001b[0m\u001b[0;32m      9\u001b[0m \u001b[0mpage_numbers\u001b[0m \u001b[1;33m=\u001b[0m \u001b[0mpage_numbers\u001b[0m\u001b[1;33m.\u001b[0m\u001b[0msplit\u001b[0m\u001b[1;33m(\u001b[0m\u001b[1;34m\"\\n\"\u001b[0m\u001b[1;33m)\u001b[0m\u001b[1;33m\u001b[0m\u001b[1;33m\u001b[0m\u001b[0m\n\u001b[0;32m     10\u001b[0m \u001b[0mpage_numbers\u001b[0m\u001b[1;33m.\u001b[0m\u001b[0mremove\u001b[0m\u001b[1;33m(\u001b[0m\u001b[1;34m'...'\u001b[0m\u001b[1;33m)\u001b[0m\u001b[1;33m\u001b[0m\u001b[1;33m\u001b[0m\u001b[0m\n",
      "\u001b[1;32m~\\Anaconda3\\lib\\site-packages\\selenium\\webdriver\\remote\\webdriver.py\u001b[0m in \u001b[0;36mfind_element_by_class_name\u001b[1;34m(self, name)\u001b[0m\n\u001b[0;32m    562\u001b[0m             \u001b[0melement\u001b[0m \u001b[1;33m=\u001b[0m \u001b[0mdriver\u001b[0m\u001b[1;33m.\u001b[0m\u001b[0mfind_element_by_class_name\u001b[0m\u001b[1;33m(\u001b[0m\u001b[1;34m'foo'\u001b[0m\u001b[1;33m)\u001b[0m\u001b[1;33m\u001b[0m\u001b[1;33m\u001b[0m\u001b[0m\n\u001b[0;32m    563\u001b[0m         \"\"\"\n\u001b[1;32m--> 564\u001b[1;33m         \u001b[1;32mreturn\u001b[0m \u001b[0mself\u001b[0m\u001b[1;33m.\u001b[0m\u001b[0mfind_element\u001b[0m\u001b[1;33m(\u001b[0m\u001b[0mby\u001b[0m\u001b[1;33m=\u001b[0m\u001b[0mBy\u001b[0m\u001b[1;33m.\u001b[0m\u001b[0mCLASS_NAME\u001b[0m\u001b[1;33m,\u001b[0m \u001b[0mvalue\u001b[0m\u001b[1;33m=\u001b[0m\u001b[0mname\u001b[0m\u001b[1;33m)\u001b[0m\u001b[1;33m\u001b[0m\u001b[1;33m\u001b[0m\u001b[0m\n\u001b[0m\u001b[0;32m    565\u001b[0m \u001b[1;33m\u001b[0m\u001b[0m\n\u001b[0;32m    566\u001b[0m     \u001b[1;32mdef\u001b[0m \u001b[0mfind_elements_by_class_name\u001b[0m\u001b[1;33m(\u001b[0m\u001b[0mself\u001b[0m\u001b[1;33m,\u001b[0m \u001b[0mname\u001b[0m\u001b[1;33m)\u001b[0m\u001b[1;33m:\u001b[0m\u001b[1;33m\u001b[0m\u001b[1;33m\u001b[0m\u001b[0m\n",
      "\u001b[1;32m~\\Anaconda3\\lib\\site-packages\\selenium\\webdriver\\remote\\webdriver.py\u001b[0m in \u001b[0;36mfind_element\u001b[1;34m(self, by, value)\u001b[0m\n\u001b[0;32m    976\u001b[0m         return self.execute(Command.FIND_ELEMENT, {\n\u001b[0;32m    977\u001b[0m             \u001b[1;34m'using'\u001b[0m\u001b[1;33m:\u001b[0m \u001b[0mby\u001b[0m\u001b[1;33m,\u001b[0m\u001b[1;33m\u001b[0m\u001b[1;33m\u001b[0m\u001b[0m\n\u001b[1;32m--> 978\u001b[1;33m             'value': value})['value']\n\u001b[0m\u001b[0;32m    979\u001b[0m \u001b[1;33m\u001b[0m\u001b[0m\n\u001b[0;32m    980\u001b[0m     \u001b[1;32mdef\u001b[0m \u001b[0mfind_elements\u001b[0m\u001b[1;33m(\u001b[0m\u001b[0mself\u001b[0m\u001b[1;33m,\u001b[0m \u001b[0mby\u001b[0m\u001b[1;33m=\u001b[0m\u001b[0mBy\u001b[0m\u001b[1;33m.\u001b[0m\u001b[0mID\u001b[0m\u001b[1;33m,\u001b[0m \u001b[0mvalue\u001b[0m\u001b[1;33m=\u001b[0m\u001b[1;32mNone\u001b[0m\u001b[1;33m)\u001b[0m\u001b[1;33m:\u001b[0m\u001b[1;33m\u001b[0m\u001b[1;33m\u001b[0m\u001b[0m\n",
      "\u001b[1;32m~\\Anaconda3\\lib\\site-packages\\selenium\\webdriver\\remote\\webdriver.py\u001b[0m in \u001b[0;36mexecute\u001b[1;34m(self, driver_command, params)\u001b[0m\n\u001b[0;32m    319\u001b[0m         \u001b[0mresponse\u001b[0m \u001b[1;33m=\u001b[0m \u001b[0mself\u001b[0m\u001b[1;33m.\u001b[0m\u001b[0mcommand_executor\u001b[0m\u001b[1;33m.\u001b[0m\u001b[0mexecute\u001b[0m\u001b[1;33m(\u001b[0m\u001b[0mdriver_command\u001b[0m\u001b[1;33m,\u001b[0m \u001b[0mparams\u001b[0m\u001b[1;33m)\u001b[0m\u001b[1;33m\u001b[0m\u001b[1;33m\u001b[0m\u001b[0m\n\u001b[0;32m    320\u001b[0m         \u001b[1;32mif\u001b[0m \u001b[0mresponse\u001b[0m\u001b[1;33m:\u001b[0m\u001b[1;33m\u001b[0m\u001b[1;33m\u001b[0m\u001b[0m\n\u001b[1;32m--> 321\u001b[1;33m             \u001b[0mself\u001b[0m\u001b[1;33m.\u001b[0m\u001b[0merror_handler\u001b[0m\u001b[1;33m.\u001b[0m\u001b[0mcheck_response\u001b[0m\u001b[1;33m(\u001b[0m\u001b[0mresponse\u001b[0m\u001b[1;33m)\u001b[0m\u001b[1;33m\u001b[0m\u001b[1;33m\u001b[0m\u001b[0m\n\u001b[0m\u001b[0;32m    322\u001b[0m             response['value'] = self._unwrap_value(\n\u001b[0;32m    323\u001b[0m                 response.get('value', None))\n",
      "\u001b[1;32m~\\Anaconda3\\lib\\site-packages\\selenium\\webdriver\\remote\\errorhandler.py\u001b[0m in \u001b[0;36mcheck_response\u001b[1;34m(self, response)\u001b[0m\n\u001b[0;32m    240\u001b[0m                 \u001b[0malert_text\u001b[0m \u001b[1;33m=\u001b[0m \u001b[0mvalue\u001b[0m\u001b[1;33m[\u001b[0m\u001b[1;34m'alert'\u001b[0m\u001b[1;33m]\u001b[0m\u001b[1;33m.\u001b[0m\u001b[0mget\u001b[0m\u001b[1;33m(\u001b[0m\u001b[1;34m'text'\u001b[0m\u001b[1;33m)\u001b[0m\u001b[1;33m\u001b[0m\u001b[1;33m\u001b[0m\u001b[0m\n\u001b[0;32m    241\u001b[0m             \u001b[1;32mraise\u001b[0m \u001b[0mexception_class\u001b[0m\u001b[1;33m(\u001b[0m\u001b[0mmessage\u001b[0m\u001b[1;33m,\u001b[0m \u001b[0mscreen\u001b[0m\u001b[1;33m,\u001b[0m \u001b[0mstacktrace\u001b[0m\u001b[1;33m,\u001b[0m \u001b[0malert_text\u001b[0m\u001b[1;33m)\u001b[0m\u001b[1;33m\u001b[0m\u001b[1;33m\u001b[0m\u001b[0m\n\u001b[1;32m--> 242\u001b[1;33m         \u001b[1;32mraise\u001b[0m \u001b[0mexception_class\u001b[0m\u001b[1;33m(\u001b[0m\u001b[0mmessage\u001b[0m\u001b[1;33m,\u001b[0m \u001b[0mscreen\u001b[0m\u001b[1;33m,\u001b[0m \u001b[0mstacktrace\u001b[0m\u001b[1;33m)\u001b[0m\u001b[1;33m\u001b[0m\u001b[1;33m\u001b[0m\u001b[0m\n\u001b[0m\u001b[0;32m    243\u001b[0m \u001b[1;33m\u001b[0m\u001b[0m\n\u001b[0;32m    244\u001b[0m     \u001b[1;32mdef\u001b[0m \u001b[0m_value_or_default\u001b[0m\u001b[1;33m(\u001b[0m\u001b[0mself\u001b[0m\u001b[1;33m,\u001b[0m \u001b[0mobj\u001b[0m\u001b[1;33m,\u001b[0m \u001b[0mkey\u001b[0m\u001b[1;33m,\u001b[0m \u001b[0mdefault\u001b[0m\u001b[1;33m)\u001b[0m\u001b[1;33m:\u001b[0m\u001b[1;33m\u001b[0m\u001b[1;33m\u001b[0m\u001b[0m\n",
      "\u001b[1;31mNoSuchElementException\u001b[0m: Message: no such element: Unable to locate element: {\"method\":\"css selector\",\"selector\":\".SimplePagination__SimplePaginationContainer-sc-1xh27g4-0 bREhzg\"}\n  (Session info: chrome=81.0.4044.138)\n"
     ]
    }
   ],
   "source": [
    "import time\n",
    "from selenium.common.exceptions import NoSuchElementException\n",
    "import pandas as pd\n",
    "browser = webdriver.Chrome()\n",
    "browser.get('https://www.seloger.com/list.htm?projects=2&types=1,2&natures=1,2&places=[{ci:690386}]&sort=a_px&enterprise=0&qsVersion=1.0')\n",
    "browser.maximize_window()\n",
    "\n",
    "\n",
    "#get number of pages\n",
    "\n",
    "#page_numbers = browser.find_element_by_class_name('SimplePagination__SimplePaginationContainer-sc-1xh27g4-0 bREhzg').text\n",
    "#page_numbers = page_numbers.split(\"\\n\")\n",
    "#page_numbers.remove('...')\n",
    "#page_numbers = list(map(int, page_numbers))\n",
    "#nb_pages = max(page_numbers)\n",
    "\n",
    "#time.sleep(1)\n",
    "masterdf = pd.DataFrame(columns = [\"Type\", \"Nb_chambre\", \"Surface\", \"Prix_m2\", \"Prix\", ])\n",
    "\n",
    "for page in range(1, 2):\n",
    "    browser.get('https://www.seloger.com/list.htm?projects=2&types=1,2&natures=1,2&places=[{ci:690386}]&sort=a_px&enterprise=0&qsVersion=1.0')\n",
    "    time.sleep(2)\n",
    "    page_url = browser.current_url\n",
    "    type_logement = browser.find_elements_by_xpath('//*[@id=\"root\"]/div/main/div[3]/div[2]/div[1]/div[1]/div[3]/div[2]/div[1]/div[1]')\n",
    "    for style in range(len(type_logement)):\n",
    "        tempdf=pd.DataFrame()\n",
    "        style_log = browser.find_elements_by_class_name('Summarystyled__Title-tzuaot-3 bQVvuG')\n",
    "        element = style_log[style]\n",
    "        if element.text not in masterdf.Type:\n",
    "            browser.execute_script(\"arguments[0].click();\", element)\n",
    "            time.sleep(1.5)\n",
    "    \n",
    "            try:  \n",
    "                nb_chambre = browser.find_element_by_xpath('//*[@id=\"root\"]/div/main/div[3]/div[2]/div[1]/div[1]/div[3]/div[2]/div[3]/div[2]/div[2]').text\n",
    "                tempdf.loc[0,\"Nb_chambre\"] = nb_chambre.replace('\\n','')\n",
    "            except NoSuchElementException:\n",
    "                pass \n",
    "            try:\n",
    "                taille = browser.find_element_by_xpath('//*[@id=\"root\"]/div/main/div[3]/div[2]/div[1]/div[1]/div[3]/div[2]/div[3]/div[3]/div[2]').text\n",
    "                tempdf.loc[0,\"Surface\"] = taille.replace('\\n','')\n",
    "            except NoSuchElementException:\n",
    "                pass\n",
    "            try:\n",
    "                prix_m2 = browser.find_element_by_xpath('//*[@id=\"root\"]/div/main/div[3]/div[2]/div[1]/div[1]/div[3]/div[2]/div[3]/div[4]/div[2]').text\n",
    "                empdf.loc[0,\"Prix_m2\"] = prix_m2\n",
    "            except NoSuchElementException:\n",
    "                pass             \n",
    "            try:\n",
    "                prix = browser.find_element_by_xpath('//*[@id=\"root\"]/div/main/div[3]/div[2]/div[1]/div[1]/div[3]/div[2]/div[2]/div/span/span').text\n",
    "                empdf.loc[0,\"Prix\"] = prix\n",
    "            except NoSuchElementException:\n",
    "                pass\n",
    "                \n",
    "            masterdf = masterdf.append(tempdf)\n",
    "            browser.get(page_url)\n",
    "            time.sleep(1.5)\n",
    "        else: \n",
    "            pass\n",
    "masterdf.to_csv(\"scrape_results.csv\")\n",
    "display(masterdf)\n"
   ]
  },
  {
   "cell_type": "code",
   "execution_count": null,
   "metadata": {},
   "outputs": [],
   "source": []
  }
 ],
 "metadata": {
  "hide_input": false,
  "kernelspec": {
   "display_name": "Python 3",
   "language": "python",
   "name": "python3"
  },
  "language_info": {
   "codemirror_mode": {
    "name": "ipython",
    "version": 3
   },
   "file_extension": ".py",
   "mimetype": "text/x-python",
   "name": "python",
   "nbconvert_exporter": "python",
   "pygments_lexer": "ipython3",
   "version": "3.6.0"
  },
  "toc": {
   "base_numbering": 1,
   "nav_menu": {},
   "number_sections": true,
   "sideBar": true,
   "skip_h1_title": false,
   "title_cell": "Table of Contents",
   "title_sidebar": "Contents",
   "toc_cell": false,
   "toc_position": {},
   "toc_section_display": true,
   "toc_window_display": false
  },
  "varInspector": {
   "cols": {
    "lenName": 16,
    "lenType": 16,
    "lenVar": 40
   },
   "kernels_config": {
    "python": {
     "delete_cmd_postfix": "",
     "delete_cmd_prefix": "del ",
     "library": "var_list.py",
     "varRefreshCmd": "print(var_dic_list())"
    },
    "r": {
     "delete_cmd_postfix": ") ",
     "delete_cmd_prefix": "rm(",
     "library": "var_list.r",
     "varRefreshCmd": "cat(var_dic_list()) "
    }
   },
   "types_to_exclude": [
    "module",
    "function",
    "builtin_function_or_method",
    "instance",
    "_Feature"
   ],
   "window_display": false
  }
 },
 "nbformat": 4,
 "nbformat_minor": 4
}
