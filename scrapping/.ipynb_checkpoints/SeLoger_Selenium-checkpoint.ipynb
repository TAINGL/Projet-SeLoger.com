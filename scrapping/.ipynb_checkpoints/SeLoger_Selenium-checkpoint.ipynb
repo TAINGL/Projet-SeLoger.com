{
 "cells": [
  {
   "cell_type": "code",
   "execution_count": 1,
   "metadata": {
    "ExecuteTime": {
     "end_time": "2020-05-28T09:20:12.785284Z",
     "start_time": "2020-05-28T09:20:10.556957Z"
    }
   },
   "outputs": [],
   "source": [
    "# import the required packages\n",
    "from selenium import webdriver\n",
    "from selenium.webdriver.common.keys import Keys\n",
    "from selenium.webdriver.common.action_chains import ActionChains\n",
    "from selenium.common.exceptions import NoSuchElementException\n",
    "from selenium.webdriver.support.ui import WebDriverWait\n",
    "from selenium.webdriver.support import expected_conditions as EC\n",
    "from selenium.webdriver.common.by import By\n",
    "import selenium.webdriver.support.ui as ui\n",
    "import time\n",
    "import pandas as pd\n",
    "import os\n",
    "from time import sleep  "
   ]
  },
  {
   "cell_type": "code",
   "execution_count": null,
   "metadata": {},
   "outputs": [],
   "source": [
    "\"\"\"\n",
    "MBP-de-Johanna:~ Johanna$ cd Documents\n",
    "MBP-de-Johanna:Documents Johanna$ cd SIMPLON\\ DATA\\ IA\n",
    "MBP-de-Johanna:SIMPLON DATA IA Johanna$ cd IA\n",
    "MBP-de-Johanna:IA Johanna$ cd ML\\ PROJET/\n",
    "MBP-de-Johanna:ML PROJET Johanna$ cd PROJET\\ SELOGER/\n",
    "\"\"\""
   ]
  },
  {
   "cell_type": "code",
   "execution_count": null,
   "metadata": {},
   "outputs": [],
   "source": [
    "#SCROLLING\n",
    "\n",
    "# Get scroll height\n",
    "#last_height = browser.execute_script(\"return document.body.scrollHeight\")\n",
    "# Scroll down to bottom\n",
    "#browser.execute_script(\"window.scrollTo(0, document.body.scrollHeight);\")\n",
    "#element = browser.find_element_by_class_name(\"Summarystyled__Title-tzuaot-3 bQVvuG\")\n",
    "#browser.execute_script(\"arguments[0].click();\", element)\n",
    "\n",
    "#browser.execute_script(\"window.scrollTo(0, 8287);\")\n",
    "#time.sleep(1) # Attention à la vitesse: sinon pop up de pub instantané\n",
    "#print(last_height)\n",
    "\n",
    "#browser.execute_script(\"window.scrollBy(0,document.body.scrollHeight);\")\n",
    "#browser.execute_script(\"arguments[0].scrollIntoView(true);\", style)"
   ]
  },
  {
   "cell_type": "code",
   "execution_count": 3,
   "metadata": {
    "ExecuteTime": {
     "end_time": "2020-05-28T12:34:35.035273Z",
     "start_time": "2020-05-28T12:34:22.194840Z"
    }
   },
   "outputs": [
    {
     "name": "stdout",
     "output_type": "stream",
     "text": [
      "Current Page Title is : 30 annonces de vente et viager d'hotels particuliers à Paris 16ème (75), Seloger.com\n"
     ]
    }
   ],
   "source": [
    "browser = webdriver.Chrome()\n",
    "browser.get('https://www.seloger.com/list.htm?projects=2,5&types=14&natures=1,2,4&places=[{ci:750116}]&enterprise=0&qsVersion=1.0')\n",
    "browser.maximize_window()\n",
    "print(\"Current Page Title is : %s\" %browser.title)# Open a new window"
   ]
  },
  {
   "cell_type": "code",
   "execution_count": null,
   "metadata": {},
   "outputs": [],
   "source": [
    "import BeautifulSoup\n",
    "soup = BeautifulSoup.BeautifulSoup(html)\n",
    "for link in soup.findAll(\"a\"):\n",
    "    print link.get(\"href\")"
   ]
  },
  {
   "cell_type": "code",
   "execution_count": null,
   "metadata": {},
   "outputs": [],
   "source": [
    "# Aller d'annonce à annonce (tab to tab) et page en page\n",
    "# Aller sur la 1ère annonce et fermer la fenètre pour revenir sur la liste principale (tab to tab)\n",
    "\n",
    "# Connection à la page web\n",
    "browser = webdriver.Chrome()\n",
    "browser.get('https://www.seloger.com/list.htm?projects=2,5&types=10&natures=1,2,4&places=[{div:2238}]&enterprise=0&qsVersion=1.0')\n",
    "browser.maximize_window()\n",
    "print(\"Current Page Title is : %s\" %browser.title)# Open a new window\n",
    "\n",
    "# Save the window opener (current window, do not mistaken with tab... not the same)\n",
    "main_window = browser.current_window_handle\n",
    "\n",
    "page = True\n",
    "\n",
    "while page: \n",
    "    list_ad = browser.find_elements_by_name('classified-link')\n",
    "    for i in range(len(list_ad)):\n",
    "        list_ad = browser.find_elements_by_name('classified-link')\n",
    "        if i <= len(list_ad):\n",
    "            actions = ActionChains(browser)\n",
    "            actions.move_to_element(list_ad[i])\n",
    "            time.sleep(10) # Attention à la vitesse: sinon pop up de pub instantané\n",
    "            actions.perform()\n",
    "\n",
    "            # Open the link in a new tab by sending key strokes on the element\n",
    "            # Use: Keys.CONTROL + Keys.SHIFT + Keys.RETURN to open tab on top of the stack \n",
    "            list_ad[i].send_keys(Keys.CONTROL + Keys.RETURN)\n",
    "\n",
    "            # Switch tab to the new tab, which we will assume is the next one on the right\n",
    "            browser.find_element_by_tag_name('body').send_keys(Keys.CONTROL + Keys.TAB)\n",
    "            time.sleep(10)\n",
    "\n",
    "            # Close current tab\n",
    "            #browser.find_element_by_tag_name('body').send_keys(Keys.COMMAND+ 't')\n",
    "            print(\"Current Page Title is : %s\" %browser.title)# Close the tab with URL B\n",
    "            browser.switch_to.window(browser.window_handles[1])\n",
    "            browser.close()# Switch back to the first tab with URL A\n",
    "\n",
    "            # Close current tab\n",
    "            browser.switch_to_window(main_window)\n",
    "            \n",
    "    try:\n",
    "        next_page = browser.find_element_by_link_text('Suivant')\n",
    "        actions = ActionChains(browser)\n",
    "        actions.move_to_element(next_page)\n",
    "        time.sleep(10)\n",
    "        actions.perform()\n",
    "        next_page.click()\n",
    "        time.sleep(10)\n",
    "        browser.back()\n",
    "        \n",
    "    except:\n",
    "        page = False"
   ]
  },
  {
   "cell_type": "code",
   "execution_count": 46,
   "metadata": {
    "ExecuteTime": {
     "end_time": "2020-05-27T22:33:09.330737Z",
     "start_time": "2020-05-27T22:32:53.201125Z"
    }
   },
   "outputs": [
    {
     "data": {
      "text/html": [
       "<div>\n",
       "<style scoped>\n",
       "    .dataframe tbody tr th:only-of-type {\n",
       "        vertical-align: middle;\n",
       "    }\n",
       "\n",
       "    .dataframe tbody tr th {\n",
       "        vertical-align: top;\n",
       "    }\n",
       "\n",
       "    .dataframe thead th {\n",
       "        text-align: right;\n",
       "    }\n",
       "</style>\n",
       "<table border=\"1\" class=\"dataframe\">\n",
       "  <thead>\n",
       "    <tr style=\"text-align: right;\">\n",
       "      <th></th>\n",
       "      <th>Type</th>\n",
       "      <th>Nb_chambre</th>\n",
       "      <th>Surface</th>\n",
       "      <th>Prix_m2</th>\n",
       "      <th>Prix</th>\n",
       "    </tr>\n",
       "  </thead>\n",
       "  <tbody>\n",
       "    <tr>\n",
       "      <th>0</th>\n",
       "      <td>Appartement</td>\n",
       "      <td>1 pièce</td>\n",
       "      <td>24m²</td>\n",
       "      <td>2 583 € / m²</td>\n",
       "      <td>62 000 €</td>\n",
       "    </tr>\n",
       "  </tbody>\n",
       "</table>\n",
       "</div>"
      ],
      "text/plain": [
       "          Type Nb_chambre Surface       Prix_m2      Prix\n",
       "0  Appartement    1 pièce    24m²  2 583 € / m²  62 000 €"
      ]
     },
     "execution_count": 46,
     "metadata": {},
     "output_type": "execute_result"
    }
   ],
   "source": [
    "browser = webdriver.Chrome()\n",
    "browser.get('https://www.seloger.com/annonces/achat/appartement/lyon-6eme-69/155884691.htm?projects=2&types=1,2&natures=1,2&places=[{ci:690386}]&sort=a_px&enterprise=0&qsVersion=1.0&bd=ListToDetail')\n",
    "\n",
    " \n",
    "\n",
    "id_style = browser.find_element_by_xpath('//*[@id=\"root\"]/div/main/div[3]/div[2]/div[1]/div[1]/div[3]/div[2]/div[1]/div[1]').text\n",
    "\n",
    " \n",
    "\n",
    "nb_piece = browser.find_element_by_xpath('//*[@id=\"root\"]/div/main/div[3]/div[2]/div[1]/div[1]/div[3]/div[2]/div[3]/div[1]/div[2]').text\n",
    "\n",
    " \n",
    "\n",
    "prix_m2 = browser.find_element_by_xpath('//*[@id=\"root\"]/div/main/div[3]/div[2]/div[1]/div[1]/div[3]/div[2]/div[3]/div[3]/div[2]').text\n",
    "\n",
    " \n",
    "\n",
    "surface = browser.find_element_by_xpath('//*[@id=\"root\"]/div/main/div[3]/div[2]/div[1]/div[1]/div[3]/div[2]/div[3]/div[2]/div[2]').text\n",
    "\n",
    " \n",
    "\n",
    "prix = browser.find_element_by_xpath('//*[@id=\"root\"]/div/main/div[3]/div[2]/div[1]/div[1]/div[3]/div[2]/div[2]/div/span/span').text\n",
    "\n",
    " \n",
    "\n",
    "\n",
    "data = pd.DataFrame(columns = [\"Type\", \"Nb_chambre\", \"Surface\", \"Prix_m2\", \"Prix\"])\n",
    "data.loc[len(data)] = [id_style, nb_piece, surface, prix_m2, prix] \n",
    "data"
   ]
  },
  {
   "cell_type": "code",
   "execution_count": 72,
   "metadata": {
    "ExecuteTime": {
     "end_time": "2020-05-28T07:04:27.759487Z",
     "start_time": "2020-05-28T07:04:13.099509Z"
    },
    "collapsed": true
   },
   "outputs": [
    {
     "name": "stdout",
     "output_type": "stream",
     "text": [
      "https://www.seloger.com/annonces/achat/hotel-particulier/paris-16eme-75/auteuil-sud/159326851.htm?projects=2,5&types=14&natures=1,2,4&places=ci=750116&enterprise=0&qsVersion=1.0&bd=ListToDetail\n",
      "https://www.bellesdemeures.com/annonces/vente/hotel-particulier-luxe/paris-16eme-75/158922355/#?cmp=INTSL_ListToDetail\n",
      "https://www.seloger.com/annonces/achat-de-prestige/hotel-particulier/paris-16eme-75/porte-dauphine/156681553.htm?projects=2,5&types=14&natures=1,2,4&places=ci=750116&enterprise=0&qsVersion=1.0&bd=ListToDetail\n",
      "https://www.seloger.com/annonces/achat-de-prestige/hotel-particulier/paris-16eme-75/muette-nord/151078729.htm?projects=2,5&types=14&natures=1,2,4&places=ci=750116&enterprise=0&qsVersion=1.0&bd=ListToDetail\n",
      "https://www.bellesdemeures.com/annonces/vente/hotel-particulier-luxe/paris-16eme-75/muette-sud/159207279/#?cmp=INTSL_ListToDetail\n",
      "https://www.bellesdemeures.com/annonces/vente/hotel-particulier-luxe/paris-16eme-75/auteuil-nord/134365729/#?cmp=INTSL_ListToDetail\n",
      "https://www.bellesdemeures.com/annonces/vente/hotel-particulier-luxe/paris-16eme-75/porte-dauphine/156341841/#?cmp=INTSL_ListToDetail\n",
      "https://www.bellesdemeures.com/annonces/vente/hotel-particulier-luxe/paris-16eme-75/bois-de-boulogne/142352023/#?cmp=INTSL_ListToDetail\n",
      "https://www.bellesdemeures.com/annonces/vente/hotel-particulier-luxe/paris-16eme-75/muette-nord/142661171/#?cmp=INTSL_ListToDetail\n",
      "https://www.bellesdemeures.com/annonces/vente/hotel-particulier-luxe/paris-16eme-75/porte-dauphine/151474195/#?cmp=INTSL_ListToDetail\n",
      "https://www.bellesdemeures.com/annonces/vente/hotel-particulier-luxe/paris-16eme-75/auteuil-nord/157582573/#?cmp=INTSL_ListToDetail\n",
      "https://www.bellesdemeures.com/annonces/vente/hotel-particulier-luxe/paris-16eme-75/bois-de-boulogne/152754451/#?cmp=INTSL_ListToDetail\n",
      "https://www.bellesdemeures.com/annonces/vente/hotel-particulier-luxe/paris-16eme-75/muette-nord/150348155/#?cmp=INTSL_ListToDetail\n",
      "https://www.seloger.com/annonces/achat-de-prestige/hotel-particulier/paris-16eme-75/porte-dauphine/155114125.htm?projects=2,5&types=14&natures=1,2,4&places=ci=750116&enterprise=0&qsVersion=1.0&bd=ListToDetail\n",
      "https://www.bellesdemeures.com/annonces/vente/hotel-particulier-luxe/paris-16eme-75/chaillot/147606525/#?cmp=INTSL_ListToDetail\n",
      "https://www.bellesdemeures.com/annonces/vente/hotel-particulier-luxe/paris-16eme-75/muette-nord/143447561/#?cmp=INTSL_ListToDetail\n",
      "https://www.bellesdemeures.com/annonces/vente/hotel-particulier-luxe/paris-16eme-75/bois-de-boulogne/147808501/#?cmp=INTSL_ListToDetail\n",
      "https://www.bellesdemeures.com/annonces/vente/hotel-particulier-luxe/paris-16eme-75/auteuil-sud/149010981/#?cmp=INTSL_ListToDetail\n",
      "https://www.bellesdemeures.com/annonces/vente/hotel-particulier-luxe/paris-16eme-75/porte-dauphine/152367067/#?cmp=INTSL_ListToDetail\n",
      "https://www.bellesdemeures.com/annonces/vente/hotel-particulier-luxe/paris-16eme-75/bois-de-boulogne/147419303/#?cmp=INTSL_ListToDetail\n",
      "https://www.bellesdemeures.com/annonces/vente/hotel-particulier-luxe/paris-16eme-75/muette-nord/157036597/#?cmp=INTSL_ListToDetail\n",
      "https://www.seloger.com/annonces/achat-de-prestige/hotel-particulier/paris-16eme-75/chaillot/153671049.htm?projects=2,5&types=14&natures=1,2,4&places=ci=750116&enterprise=0&qsVersion=1.0&bd=ListToDetail\n",
      "https://www.seloger.com/annonces/achat/hotel-particulier/paris-16eme-75/chaillot/156032949.htm?projects=2,5&types=14&natures=1,2,4&places=ci=750116&enterprise=0&qsVersion=1.0&bd=ListToDetail\n",
      "https://www.seloger.com/annonces/achat/hotel-particulier/paris-16eme-75/158254161.htm?projects=2,5&types=14&natures=1,2,4&places=ci=750116&enterprise=0&qsVersion=1.0&bd=ListToDetail\n",
      "https://www.bellesdemeures.com/annonces/vente/hotel-particulier-luxe/paris-16eme-75/159316283/#?cmp=INTSL_ListToDetail\n"
     ]
    }
   ],
   "source": [
    "browser = webdriver.Chrome()\n",
    "browser.get('https://www.seloger.com/list.htm?projects=2,5&types=14&natures=1,2,4&places=[{ci:750116}]&enterprise=0&qsVersion=1.0')\n",
    "browser.maximize_window()\n",
    "\n",
    "# Save the window opener (current window, do not mistaken with tab... not the same)\n",
    "main_window = browser.current_window_handle\n",
    "\n",
    "elems = browser.find_elements_by_name('classified-link')\n",
    "for elem in elems:\n",
    "    print(elem.get_attribute(\"href\"))"
   ]
  },
  {
   "cell_type": "code",
   "execution_count": 36,
   "metadata": {
    "ExecuteTime": {
     "end_time": "2020-05-28T18:06:33.295686Z",
     "start_time": "2020-05-28T18:06:13.584346Z"
    }
   },
   "outputs": [],
   "source": [
    "browser = webdriver.Chrome()\n",
    "browser.get('https://www.seloger.com/list.htm?projects=2,5&types=14&natures=1,2,4&places=[{ci:750116}]&enterprise=0&qsVersion=1.0')\n",
    "browser.maximize_window()\n",
    "\n",
    "# Save the window opener (current window, do not mistaken with tab... not the same)\n",
    "main_window = browser.current_window_handle\n",
    "\n",
    "elems = browser.find_elements_by_name('classified-link')\n",
    "links = [elem.get_attribute(\"href\") for elem in elems]"
   ]
  },
  {
   "cell_type": "code",
   "execution_count": 37,
   "metadata": {
    "ExecuteTime": {
     "end_time": "2020-05-28T18:06:40.245400Z",
     "start_time": "2020-05-28T18:06:40.236712Z"
    },
    "collapsed": true
   },
   "outputs": [
    {
     "name": "stdout",
     "output_type": "stream",
     "text": [
      "['https://www.seloger.com/annonces/achat/hotel-particulier/paris-16eme-75/auteuil-sud/159326851.htm?projects=2,5&types=14&natures=1,2,4&places=[{ci:750116}]&enterprise=0&qsVersion=1.0&bd=ListToDetail', 'https://www.bellesdemeures.com/annonces/vente/hotel-particulier-luxe/paris-16eme-75/158922355/#?cmp=INTSL_ListToDetail', 'https://www.seloger.com/annonces/achat-de-prestige/hotel-particulier/paris-16eme-75/porte-dauphine/156681553.htm?projects=2,5&types=14&natures=1,2,4&places=[{ci:750116}]&enterprise=0&qsVersion=1.0&bd=ListToDetail', 'https://www.seloger.com/annonces/achat-de-prestige/hotel-particulier/paris-16eme-75/muette-nord/151078729.htm?projects=2,5&types=14&natures=1,2,4&places=[{ci:750116}]&enterprise=0&qsVersion=1.0&bd=ListToDetail', 'https://www.bellesdemeures.com/annonces/vente/hotel-particulier-luxe/paris-16eme-75/muette-sud/159207279/#?cmp=INTSL_ListToDetail', 'https://www.bellesdemeures.com/annonces/vente/hotel-particulier-luxe/paris-16eme-75/porte-dauphine/156341841/#?cmp=INTSL_ListToDetail', 'https://www.seloger.com/annonces/achat-de-prestige/hotel-particulier/paris-16eme-75/auteuil-nord/134365729.htm?projects=2,5&types=14&natures=1,2,4&places=[{ci:750116}]&enterprise=0&qsVersion=1.0&bd=ListToDetail', 'https://www.bellesdemeures.com/annonces/vente/hotel-particulier-luxe/paris-16eme-75/muette-nord/150348155/#?cmp=INTSL_ListToDetail', 'https://www.bellesdemeures.com/annonces/vente/hotel-particulier-luxe/paris-16eme-75/bois-de-boulogne/142352023/#?cmp=INTSL_ListToDetail', 'https://www.bellesdemeures.com/annonces/vente/hotel-particulier-luxe/paris-16eme-75/muette-nord/142661171/#?cmp=INTSL_ListToDetail', 'https://www.bellesdemeures.com/annonces/vente/hotel-particulier-luxe/paris-16eme-75/porte-dauphine/151474195/#?cmp=INTSL_ListToDetail', 'https://www.bellesdemeures.com/annonces/vente/hotel-particulier-luxe/paris-16eme-75/bois-de-boulogne/152754451/#?cmp=INTSL_ListToDetail', 'https://www.bellesdemeures.com/annonces/vente/hotel-particulier-luxe/paris-16eme-75/auteuil-nord/157582573/#?cmp=INTSL_ListToDetail', 'https://www.seloger.com/annonces/achat-de-prestige/hotel-particulier/paris-16eme-75/porte-dauphine/155114125.htm?projects=2,5&types=14&natures=1,2,4&places=[{ci:750116}]&enterprise=0&qsVersion=1.0&bd=ListToDetail', 'https://www.bellesdemeures.com/annonces/vente/hotel-particulier-luxe/paris-16eme-75/chaillot/147606525/#?cmp=INTSL_ListToDetail', 'https://www.bellesdemeures.com/annonces/vente/hotel-particulier-luxe/paris-16eme-75/bois-de-boulogne/147808501/#?cmp=INTSL_ListToDetail', 'https://www.bellesdemeures.com/annonces/vente/hotel-particulier-luxe/paris-16eme-75/auteuil-sud/149010981/#?cmp=INTSL_ListToDetail', 'https://www.bellesdemeures.com/annonces/vente/hotel-particulier-luxe/paris-16eme-75/muette-nord/157036597/#?cmp=INTSL_ListToDetail', 'https://www.bellesdemeures.com/annonces/vente/hotel-particulier-luxe/paris-16eme-75/muette-nord/143447561/#?cmp=INTSL_ListToDetail', 'https://www.bellesdemeures.com/annonces/vente/hotel-particulier-luxe/paris-16eme-75/bois-de-boulogne/147419303/#?cmp=INTSL_ListToDetail', 'https://www.bellesdemeures.com/annonces/vente/hotel-particulier-luxe/paris-16eme-75/porte-dauphine/152367067/#?cmp=INTSL_ListToDetail', 'https://www.seloger.com/annonces/achat-de-prestige/hotel-particulier/paris-16eme-75/chaillot/153671049.htm?projects=2,5&types=14&natures=1,2,4&places=[{ci:750116}]&enterprise=0&qsVersion=1.0&bd=ListToDetail', 'https://www.seloger.com/annonces/achat/hotel-particulier/paris-16eme-75/chaillot/156032949.htm?projects=2,5&types=14&natures=1,2,4&places=[{ci:750116}]&enterprise=0&qsVersion=1.0&bd=ListToDetail', 'https://www.seloger.com/annonces/achat/hotel-particulier/paris-16eme-75/158254161.htm?projects=2,5&types=14&natures=1,2,4&places=[{ci:750116}]&enterprise=0&qsVersion=1.0&bd=ListToDetail', 'https://www.bellesdemeures.com/annonces/vente/hotel-particulier-luxe/paris-16eme-75/159316283/#?cmp=INTSL_ListToDetail']\n"
     ]
    }
   ],
   "source": [
    "print(links)"
   ]
  },
  {
   "cell_type": "code",
   "execution_count": 2,
   "metadata": {
    "ExecuteTime": {
     "end_time": "2020-05-28T09:21:25.750148Z",
     "start_time": "2020-05-28T09:20:33.884095Z"
    }
   },
   "outputs": [
    {
     "name": "stdout",
     "output_type": "stream",
     "text": [
      "Current Page Title is : 30 annonces de vente et viager d'hotels particuliers à Paris 16ème (75), Seloger.com\n",
      "Current Page Title is : Petites annonces immobilières | 1er site immobilier français | Portail immo - SeLoger\n",
      "https://www.seloger.com/annonces/achat/hotel-particulier/paris-16eme-75/auteuil-sud/159326851.htm?projects=2,5&types=14&natures=1,2,4&places=[{ci:750116}]&enterprise=0&qsVersion=1.0&bd=ListToDetail\n",
      "Hôtel particulier\n",
      "Current Page Title is : 30 annonces de vente et viager d'hotels particuliers à Paris 16ème (75), Seloger.com\n",
      "Current Page Title is : Hôtel particulier à vendre à Paris 16ème | 5 900 000 € | 14 Pièces | 384 m² - Belles Demeures\n",
      "https://www.bellesdemeures.com/annonces/vente/hotel-particulier-luxe/paris-16eme-75/158922355/#?cmp=INTSL_ListToDetail\n",
      "Hôtel Particulier\n",
      "Current Page Title is : 30 annonces de vente et viager d'hotels particuliers à Paris 16ème (75), Seloger.com\n",
      "Current Page Title is : Petites annonces immobilières | 1er site immobilier français | Portail immo - SeLoger\n",
      "https://www.seloger.com/annonces/achat-de-prestige/hotel-particulier/paris-16eme-75/porte-dauphine/156681553.htm?projects=2,5&types=14&natures=1,2,4&places=[{ci:750116}]&enterprise=0&qsVersion=1.0&bd=ListToDetail\n",
      "Hôtel particulier\n",
      "Current Page Title is : 30 annonces de vente et viager d'hotels particuliers à Paris 16ème (75), Seloger.com\n",
      "Current Page Title is : Petites annonces immobilières | 1er site immobilier français | Portail immo - SeLoger\n",
      "https://www.seloger.com/annonces/achat-de-prestige/hotel-particulier/paris-16eme-75/muette-nord/151078729.htm?projects=2,5&types=14&natures=1,2,4&places=[{ci:750116}]&enterprise=0&qsVersion=1.0&bd=ListToDetail\n"
     ]
    },
    {
     "ename": "NoSuchWindowException",
     "evalue": "Message: no such window: window was already closed\n  (Session info: chrome=83.0.4103.61)\n",
     "output_type": "error",
     "traceback": [
      "\u001b[0;31m---------------------------------------------------------------------------\u001b[0m",
      "\u001b[0;31mNoSuchWindowException\u001b[0m                     Traceback (most recent call last)",
      "\u001b[0;32m<ipython-input-2-3faa289db95d>\u001b[0m in \u001b[0;36m<module>\u001b[0;34m\u001b[0m\n\u001b[1;32m     27\u001b[0m \u001b[0;34m\u001b[0m\u001b[0m\n\u001b[1;32m     28\u001b[0m         \u001b[0;32mtry\u001b[0m\u001b[0;34m:\u001b[0m\u001b[0;34m\u001b[0m\u001b[0m\n\u001b[0;32m---> 29\u001b[0;31m             \u001b[0mstyle\u001b[0m \u001b[0;34m=\u001b[0m \u001b[0mbrowser\u001b[0m\u001b[0;34m.\u001b[0m\u001b[0mfind_element_by_xpath\u001b[0m\u001b[0;34m(\u001b[0m\u001b[0;34m'//*[@id=\"root\"]/div/main/div[3]/div[2]/div[1]/div[1]/div[3]/div[2]/div[1]/div[1]'\u001b[0m\u001b[0;34m)\u001b[0m\u001b[0;34m.\u001b[0m\u001b[0mtext\u001b[0m\u001b[0;34m\u001b[0m\u001b[0m\n\u001b[0m\u001b[1;32m     30\u001b[0m             \u001b[0mtime\u001b[0m\u001b[0;34m.\u001b[0m\u001b[0msleep\u001b[0m\u001b[0;34m(\u001b[0m\u001b[0;36m1\u001b[0m\u001b[0;34m)\u001b[0m \u001b[0;31m# Attention à la vitesse: sinon pop up de pub instantané\u001b[0m\u001b[0;34m\u001b[0m\u001b[0m\n\u001b[1;32m     31\u001b[0m             \u001b[0mprint\u001b[0m\u001b[0;34m(\u001b[0m\u001b[0mstyle\u001b[0m\u001b[0;34m)\u001b[0m\u001b[0;34m\u001b[0m\u001b[0m\n",
      "\u001b[0;32m/Library/Frameworks/Python.framework/Versions/3.6/lib/python3.6/site-packages/selenium/webdriver/remote/webdriver.py\u001b[0m in \u001b[0;36mfind_element_by_xpath\u001b[0;34m(self, xpath)\u001b[0m\n\u001b[1;32m    392\u001b[0m             \u001b[0melement\u001b[0m \u001b[0;34m=\u001b[0m \u001b[0mdriver\u001b[0m\u001b[0;34m.\u001b[0m\u001b[0mfind_element_by_xpath\u001b[0m\u001b[0;34m(\u001b[0m\u001b[0;34m'//div/td[1]'\u001b[0m\u001b[0;34m)\u001b[0m\u001b[0;34m\u001b[0m\u001b[0m\n\u001b[1;32m    393\u001b[0m         \"\"\"\n\u001b[0;32m--> 394\u001b[0;31m         \u001b[0;32mreturn\u001b[0m \u001b[0mself\u001b[0m\u001b[0;34m.\u001b[0m\u001b[0mfind_element\u001b[0m\u001b[0;34m(\u001b[0m\u001b[0mby\u001b[0m\u001b[0;34m=\u001b[0m\u001b[0mBy\u001b[0m\u001b[0;34m.\u001b[0m\u001b[0mXPATH\u001b[0m\u001b[0;34m,\u001b[0m \u001b[0mvalue\u001b[0m\u001b[0;34m=\u001b[0m\u001b[0mxpath\u001b[0m\u001b[0;34m)\u001b[0m\u001b[0;34m\u001b[0m\u001b[0m\n\u001b[0m\u001b[1;32m    395\u001b[0m \u001b[0;34m\u001b[0m\u001b[0m\n\u001b[1;32m    396\u001b[0m     \u001b[0;32mdef\u001b[0m \u001b[0mfind_elements_by_xpath\u001b[0m\u001b[0;34m(\u001b[0m\u001b[0mself\u001b[0m\u001b[0;34m,\u001b[0m \u001b[0mxpath\u001b[0m\u001b[0;34m)\u001b[0m\u001b[0;34m:\u001b[0m\u001b[0;34m\u001b[0m\u001b[0m\n",
      "\u001b[0;32m/Library/Frameworks/Python.framework/Versions/3.6/lib/python3.6/site-packages/selenium/webdriver/remote/webdriver.py\u001b[0m in \u001b[0;36mfind_element\u001b[0;34m(self, by, value)\u001b[0m\n\u001b[1;32m    976\u001b[0m         return self.execute(Command.FIND_ELEMENT, {\n\u001b[1;32m    977\u001b[0m             \u001b[0;34m'using'\u001b[0m\u001b[0;34m:\u001b[0m \u001b[0mby\u001b[0m\u001b[0;34m,\u001b[0m\u001b[0;34m\u001b[0m\u001b[0m\n\u001b[0;32m--> 978\u001b[0;31m             'value': value})['value']\n\u001b[0m\u001b[1;32m    979\u001b[0m \u001b[0;34m\u001b[0m\u001b[0m\n\u001b[1;32m    980\u001b[0m     \u001b[0;32mdef\u001b[0m \u001b[0mfind_elements\u001b[0m\u001b[0;34m(\u001b[0m\u001b[0mself\u001b[0m\u001b[0;34m,\u001b[0m \u001b[0mby\u001b[0m\u001b[0;34m=\u001b[0m\u001b[0mBy\u001b[0m\u001b[0;34m.\u001b[0m\u001b[0mID\u001b[0m\u001b[0;34m,\u001b[0m \u001b[0mvalue\u001b[0m\u001b[0;34m=\u001b[0m\u001b[0;32mNone\u001b[0m\u001b[0;34m)\u001b[0m\u001b[0;34m:\u001b[0m\u001b[0;34m\u001b[0m\u001b[0m\n",
      "\u001b[0;32m/Library/Frameworks/Python.framework/Versions/3.6/lib/python3.6/site-packages/selenium/webdriver/remote/webdriver.py\u001b[0m in \u001b[0;36mexecute\u001b[0;34m(self, driver_command, params)\u001b[0m\n\u001b[1;32m    319\u001b[0m         \u001b[0mresponse\u001b[0m \u001b[0;34m=\u001b[0m \u001b[0mself\u001b[0m\u001b[0;34m.\u001b[0m\u001b[0mcommand_executor\u001b[0m\u001b[0;34m.\u001b[0m\u001b[0mexecute\u001b[0m\u001b[0;34m(\u001b[0m\u001b[0mdriver_command\u001b[0m\u001b[0;34m,\u001b[0m \u001b[0mparams\u001b[0m\u001b[0;34m)\u001b[0m\u001b[0;34m\u001b[0m\u001b[0m\n\u001b[1;32m    320\u001b[0m         \u001b[0;32mif\u001b[0m \u001b[0mresponse\u001b[0m\u001b[0;34m:\u001b[0m\u001b[0;34m\u001b[0m\u001b[0m\n\u001b[0;32m--> 321\u001b[0;31m             \u001b[0mself\u001b[0m\u001b[0;34m.\u001b[0m\u001b[0merror_handler\u001b[0m\u001b[0;34m.\u001b[0m\u001b[0mcheck_response\u001b[0m\u001b[0;34m(\u001b[0m\u001b[0mresponse\u001b[0m\u001b[0;34m)\u001b[0m\u001b[0;34m\u001b[0m\u001b[0m\n\u001b[0m\u001b[1;32m    322\u001b[0m             response['value'] = self._unwrap_value(\n\u001b[1;32m    323\u001b[0m                 response.get('value', None))\n",
      "\u001b[0;32m/Library/Frameworks/Python.framework/Versions/3.6/lib/python3.6/site-packages/selenium/webdriver/remote/errorhandler.py\u001b[0m in \u001b[0;36mcheck_response\u001b[0;34m(self, response)\u001b[0m\n\u001b[1;32m    240\u001b[0m                 \u001b[0malert_text\u001b[0m \u001b[0;34m=\u001b[0m \u001b[0mvalue\u001b[0m\u001b[0;34m[\u001b[0m\u001b[0;34m'alert'\u001b[0m\u001b[0;34m]\u001b[0m\u001b[0;34m.\u001b[0m\u001b[0mget\u001b[0m\u001b[0;34m(\u001b[0m\u001b[0;34m'text'\u001b[0m\u001b[0;34m)\u001b[0m\u001b[0;34m\u001b[0m\u001b[0m\n\u001b[1;32m    241\u001b[0m             \u001b[0;32mraise\u001b[0m \u001b[0mexception_class\u001b[0m\u001b[0;34m(\u001b[0m\u001b[0mmessage\u001b[0m\u001b[0;34m,\u001b[0m \u001b[0mscreen\u001b[0m\u001b[0;34m,\u001b[0m \u001b[0mstacktrace\u001b[0m\u001b[0;34m,\u001b[0m \u001b[0malert_text\u001b[0m\u001b[0;34m)\u001b[0m\u001b[0;34m\u001b[0m\u001b[0m\n\u001b[0;32m--> 242\u001b[0;31m         \u001b[0;32mraise\u001b[0m \u001b[0mexception_class\u001b[0m\u001b[0;34m(\u001b[0m\u001b[0mmessage\u001b[0m\u001b[0;34m,\u001b[0m \u001b[0mscreen\u001b[0m\u001b[0;34m,\u001b[0m \u001b[0mstacktrace\u001b[0m\u001b[0;34m)\u001b[0m\u001b[0;34m\u001b[0m\u001b[0m\n\u001b[0m\u001b[1;32m    243\u001b[0m \u001b[0;34m\u001b[0m\u001b[0m\n\u001b[1;32m    244\u001b[0m     \u001b[0;32mdef\u001b[0m \u001b[0m_value_or_default\u001b[0m\u001b[0;34m(\u001b[0m\u001b[0mself\u001b[0m\u001b[0;34m,\u001b[0m \u001b[0mobj\u001b[0m\u001b[0;34m,\u001b[0m \u001b[0mkey\u001b[0m\u001b[0;34m,\u001b[0m \u001b[0mdefault\u001b[0m\u001b[0;34m)\u001b[0m\u001b[0;34m:\u001b[0m\u001b[0;34m\u001b[0m\u001b[0m\n",
      "\u001b[0;31mNoSuchWindowException\u001b[0m: Message: no such window: window was already closed\n  (Session info: chrome=83.0.4103.61)\n"
     ]
    }
   ],
   "source": [
    "# Aller sur les annonces et fermer la fenètre pour revenir sur la liste principale (tab to tab) + scrap titre\n",
    "\n",
    "from selenium import webdriver# Define the URL's we will open and a few other variables \n",
    "\n",
    "browser = webdriver.Chrome()\n",
    "browser.get('https://www.seloger.com/list.htm?projects=2,5&types=14&natures=1,2,4&places=[{ci:750116}]&enterprise=0&qsVersion=1.0')\n",
    "browser.maximize_window()\n",
    "\n",
    "# Save the window opener (current window, do not mistaken with tab... not the same)\n",
    "main_window = browser.current_window_handle\n",
    "print(\"Current Page Title is : %s\" %browser.title)# Open a new window\n",
    "\n",
    "elems = browser.find_elements_by_name('classified-link')\n",
    "tab_url = [elem.get_attribute(\"href\") for elem in elems]\n",
    "\n",
    "for i in range(len(elems)):\n",
    "    list_ad = browser.find_elements_by_name('classified-link')\n",
    "    tab_url = [elem.get_attribute(\"href\") for elem in elems]\n",
    "    if i <= len(tab_url):\n",
    "        browser.execute_script(\"window.open('');\")# Switch to the new window and open URL B\n",
    "        browser.switch_to.window(browser.window_handles[1])\n",
    "        browser.get(tab_url[i])# …Do something here\n",
    "        print(\"Current Page Title is : %s\" %browser.title)# Close the tab with URL B\n",
    "        print(tab_url[i])\n",
    "        time.sleep(5) # Attention à la vitesse: sinon pop up de pub instantané\n",
    "\n",
    "        \n",
    "        try:\n",
    "            style = browser.find_element_by_xpath('//*[@id=\"root\"]/div/main/div[3]/div[2]/div[1]/div[1]/div[3]/div[2]/div[1]/div[1]').text\n",
    "            time.sleep(1) # Attention à la vitesse: sinon pop up de pub instantané\n",
    "            print(style)\n",
    "            \n",
    "            \n",
    "            \n",
    "            browser.execute_script(\"window.scrollTo(0, 1000);\")\n",
    "            element = browser.find_element_by_xpath('//*[@id=\"showcase-description\"]/div[3]/div[2]')\n",
    "            browser.execute_script(\"arguments[0].click();\", element)\n",
    "            \n",
    "            \n",
    "        except NoSuchElementException:\n",
    "            style = browser.find_element_by_class_name('detailBannerInfosTypeBien').text\n",
    "            print(style)\n",
    "\n",
    "        # Close current tab\n",
    "        browser.close()# Switch back to the first tab with URL A\n",
    "        browser.switch_to.window(browser.window_handles[0])\n",
    "        print(\"Current Page Title is : %s\" %browser.title)"
   ]
  },
  {
   "cell_type": "code",
   "execution_count": 71,
   "metadata": {
    "ExecuteTime": {
     "end_time": "2020-05-28T07:01:26.696903Z",
     "start_time": "2020-05-28T07:01:18.303980Z"
    }
   },
   "outputs": [],
   "source": [
    "browser = webdriver.Chrome()\n",
    "browser.get('https://www.seloger.com/annonces/achat/appartement/lyon-6eme-69/155884691.htm?projects=2&types=1,2&natures=1,2&places=[{ci:690386}]&sort=a_px&enterprise=0&qsVersion=1.0&bd=ListToDetail')\n",
    "\n",
    "element = browser.find_element_by_xpath('//*[@id=\"root\"]/div/main/div[3]/div[2]/div[1]/div[1]/div[3]/div[2]/div[1]/div[1]').text\n",
    "browser.execute_script(\"window.scrollTo(0, 8287);\")\n",
    "\n",
    "#browser.execute_script(\"arguments[0].click();\", element)"
   ]
  },
  {
   "cell_type": "code",
   "execution_count": 93,
   "metadata": {
    "ExecuteTime": {
     "end_time": "2020-05-28T09:08:00.783683Z",
     "start_time": "2020-05-28T09:08:00.768809Z"
    },
    "scrolled": true
   },
   "outputs": [
    {
     "ename": "SyntaxError",
     "evalue": "EOL while scanning string literal (<ipython-input-93-6713740a096b>, line 3)",
     "output_type": "error",
     "traceback": [
      "\u001b[0;36m  File \u001b[0;32m\"<ipython-input-93-6713740a096b>\"\u001b[0;36m, line \u001b[0;32m3\u001b[0m\n\u001b[0;31m    element = browser.find_element_by_xpath('//*[@id=\"showcase-description\"]/div[3]/div[2]\u001b[0m\n\u001b[0m                                                                                          ^\u001b[0m\n\u001b[0;31mSyntaxError\u001b[0m\u001b[0;31m:\u001b[0m EOL while scanning string literal\n"
     ]
    }
   ],
   "source": [
    "#//*[@id=\"showcase-description\"]/div[3]/div[2]\n",
    "#//*[@id=\"showcase-description\"]/div[3]/div[2]\n",
    "element = browser.find_element_by_xpath('//*[@id=\"showcase-description\"]/div[3]/div[2]\n",
    "')"
   ]
  },
  {
   "cell_type": "code",
   "execution_count": 9,
   "metadata": {
    "ExecuteTime": {
     "end_time": "2020-05-28T12:36:54.246724Z",
     "start_time": "2020-05-28T12:36:54.169967Z"
    }
   },
   "outputs": [],
   "source": [
    "#page = browser.find_element_by_class_name(\"Title__Classified-f7wbzu-1 gfhaqb\").text\n",
    "#class=\"Status__StatusContainer-yh17cz-0 ckWPHD\"\n",
    "element = browser.find_element_by_xpath('//*[@id=\"root\"]/div/div/div[3]/div/div[1]/div[1]/h1/span')"
   ]
  },
  {
   "cell_type": "code",
   "execution_count": 11,
   "metadata": {
    "ExecuteTime": {
     "end_time": "2020-05-28T12:37:06.508760Z",
     "start_time": "2020-05-28T12:37:06.481368Z"
    }
   },
   "outputs": [
    {
     "data": {
      "text/plain": [
       "'30 annonces'"
      ]
     },
     "execution_count": 11,
     "metadata": {},
     "output_type": "execute_result"
    }
   ],
   "source": [
    "element.text"
   ]
  },
  {
   "cell_type": "code",
   "execution_count": 12,
   "metadata": {
    "ExecuteTime": {
     "end_time": "2020-05-28T12:38:30.595754Z",
     "start_time": "2020-05-28T12:38:30.440140Z"
    }
   },
   "outputs": [],
   "source": [
    "pagination = re.findall('\\d+',browser.find_element_by_xpath('//*[@id=\"root\"]/div/div/div[3]/div/div[1]/div[1]/h1/span').text)"
   ]
  },
  {
   "cell_type": "code",
   "execution_count": 13,
   "metadata": {
    "ExecuteTime": {
     "end_time": "2020-05-28T12:38:38.052383Z",
     "start_time": "2020-05-28T12:38:38.037491Z"
    }
   },
   "outputs": [
    {
     "data": {
      "text/plain": [
       "['30']"
      ]
     },
     "execution_count": 13,
     "metadata": {},
     "output_type": "execute_result"
    }
   ],
   "source": [
    "pagination"
   ]
  },
  {
   "cell_type": "code",
   "execution_count": 27,
   "metadata": {
    "ExecuteTime": {
     "end_time": "2020-05-28T13:28:38.571091Z",
     "start_time": "2020-05-28T13:27:46.906850Z"
    }
   },
   "outputs": [],
   "source": [
    "browser = webdriver.Chrome()\n",
    "browser.get('https://www.bellesdemeures.com/annonces/vente/tt-2-tb-14-pl-32596/158922355/#?cmp=INTSL_ListToDetail')\n",
    "browser.execute_script(\"window.scrollTo(0, 3300);\")\n",
    "aera = re.findall('(\\d+ m²)',browser.find_element_by_xpath('/html/body/nav/ol/li[5]/span').text)"
   ]
  },
  {
   "cell_type": "code",
   "execution_count": 32,
   "metadata": {
    "ExecuteTime": {
     "end_time": "2020-05-28T13:29:21.385163Z",
     "start_time": "2020-05-28T13:29:21.326982Z"
    }
   },
   "outputs": [
    {
     "data": {
      "text/plain": [
       "['384 M²']"
      ]
     },
     "execution_count": 32,
     "metadata": {},
     "output_type": "execute_result"
    }
   ],
   "source": [
    "aera = re.findall('\\d+ M²',browser.find_element_by_xpath('/html/body/nav/ol/li[5]/span').text)\n",
    "aera"
   ]
  },
  {
   "cell_type": "code",
   "execution_count": 31,
   "metadata": {
    "ExecuteTime": {
     "end_time": "2020-05-28T13:29:02.966319Z",
     "start_time": "2020-05-28T13:29:02.906870Z"
    }
   },
   "outputs": [
    {
     "data": {
      "text/plain": [
       "'VENTE HOTEL-PARTICULIER14 PIÈCES 384 M²'"
      ]
     },
     "execution_count": 31,
     "metadata": {},
     "output_type": "execute_result"
    }
   ],
   "source": [
    "browser.find_element_by_xpath('/html/body/nav/ol/li[5]/span').text"
   ]
  },
  {
   "cell_type": "code",
   "execution_count": 50,
   "metadata": {
    "ExecuteTime": {
     "end_time": "2020-05-28T18:15:28.615804Z",
     "start_time": "2020-05-28T18:15:28.599894Z"
    }
   },
   "outputs": [],
   "source": [
    "def find_the_website(links):\n",
    "    z = re.search('seloger.com', links)\n",
    "    if z != None:\n",
    "        return True\n",
    "    else:\n",
    "        return False "
   ]
  },
  {
   "cell_type": "code",
   "execution_count": 52,
   "metadata": {
    "ExecuteTime": {
     "end_time": "2020-05-28T18:15:56.471696Z",
     "start_time": "2020-05-28T18:15:56.459478Z"
    }
   },
   "outputs": [
    {
     "data": {
      "text/plain": [
       "True"
      ]
     },
     "execution_count": 52,
     "metadata": {},
     "output_type": "execute_result"
    }
   ],
   "source": [
    "find_the_website(links[0])"
   ]
  },
  {
   "cell_type": "code",
   "execution_count": 53,
   "metadata": {
    "ExecuteTime": {
     "end_time": "2020-05-28T21:29:41.412234Z",
     "start_time": "2020-05-28T21:29:41.303327Z"
    }
   },
   "outputs": [
    {
     "ename": "SyntaxError",
     "evalue": "unexpected EOF while parsing (<ipython-input-53-5af0c89ca3ed>, line 37)",
     "output_type": "error",
     "traceback": [
      "\u001b[0;36m  File \u001b[0;32m\"<ipython-input-53-5af0c89ca3ed>\"\u001b[0;36m, line \u001b[0;32m37\u001b[0m\n\u001b[0;31m    \u001b[0m\n\u001b[0m    ^\u001b[0m\n\u001b[0;31mSyntaxError\u001b[0m\u001b[0;31m:\u001b[0m unexpected EOF while parsing\n"
     ]
    }
   ],
   "source": [
    "from selenium import webdriver# Define the URL's we will open and a few other variables \n",
    "\n",
    "browser = webdriver.Chrome()\n",
    "browser.get('https://www.seloger.com/list.htm?projects=2%2C5&types=14&natures=1%2C2%2C4&places=%5B%7Bci%3A750116%7D%5D&enterprise=0&qsVersion=1.0&LISTING-LISTpg=1')\n",
    "browser.maximize_window()\n",
    "\n",
    "# Save the window opener (current window, do not mistaken with tab... not the same)\n",
    "main_window = browser.current_window_handle\n",
    "print(\"Current Page Title is : %s\" %browser.title)# Open a new window\n",
    "\n",
    "elems = browser.find_elements_by_name('classified-link')\n",
    "tab_url = [elem.get_attribute(\"href\") for elem in elems]\n",
    "\n",
    "for i in range(len(elems)):\n",
    "    list_ad = browser.find_elements_by_name('classified-link')\n",
    "    tab_url = [elem.get_attribute(\"href\") for elem in elems]\n",
    "    if i <= len(tab_url):\n",
    "        browser.execute_script(\"window.open('');\")# Switch to the new window and open URL B\n",
    "        browser.switch_to.window(browser.window_handles[1])\n",
    "        browser.get(tab_url[i])# …Do something here\n",
    "        print(\"Current Page Title is : %s\" %browser.title)# Close the tab with URL B\n",
    "        print(tab_url[i])\n",
    "        time.sleep(5) # Attention à la vitesse: sinon pop up de pub instantané\n",
    "\n",
    "        \n",
    "        try:\n",
    "            style = browser.find_element_by_xpath('//*[@id=\"root\"]/div/main/div[3]/div[2]/div[1]/div[1]/div[3]/div[2]/div[1]/div[1]').text\n",
    "            time.sleep(1) # Attention à la vitesse: sinon pop up de pub instantané\n",
    "            print(style)\n",
    "            \n",
    "            \n",
    "            \n",
    "            browser.execute_script(\"window.scrollTo(0, 1000);\")\n",
    "            element = browser.find_element_by_class_name('ShowMoreText__UIShowMoreContainer-sc-5ggbbc-1 gDEVQY')\n",
    "            browser.execute_script(\"arguments[0].click();\", element)            "
   ]
  },
  {
   "cell_type": "code",
   "execution_count": null,
   "metadata": {},
   "outputs": [],
   "source": []
  }
 ],
 "metadata": {
  "hide_input": false,
  "kernelspec": {
   "display_name": "Python 3",
   "language": "python",
   "name": "python3"
  },
  "language_info": {
   "codemirror_mode": {
    "name": "ipython",
    "version": 3
   },
   "file_extension": ".py",
   "mimetype": "text/x-python",
   "name": "python",
   "nbconvert_exporter": "python",
   "pygments_lexer": "ipython3",
   "version": "3.6.0"
  },
  "toc": {
   "base_numbering": 1,
   "nav_menu": {},
   "number_sections": true,
   "sideBar": true,
   "skip_h1_title": false,
   "title_cell": "Table of Contents",
   "title_sidebar": "Contents",
   "toc_cell": false,
   "toc_position": {},
   "toc_section_display": true,
   "toc_window_display": false
  },
  "varInspector": {
   "cols": {
    "lenName": 16,
    "lenType": 16,
    "lenVar": 40
   },
   "kernels_config": {
    "python": {
     "delete_cmd_postfix": "",
     "delete_cmd_prefix": "del ",
     "library": "var_list.py",
     "varRefreshCmd": "print(var_dic_list())"
    },
    "r": {
     "delete_cmd_postfix": ") ",
     "delete_cmd_prefix": "rm(",
     "library": "var_list.r",
     "varRefreshCmd": "cat(var_dic_list()) "
    }
   },
   "types_to_exclude": [
    "module",
    "function",
    "builtin_function_or_method",
    "instance",
    "_Feature"
   ],
   "window_display": false
  }
 },
 "nbformat": 4,
 "nbformat_minor": 2
}
