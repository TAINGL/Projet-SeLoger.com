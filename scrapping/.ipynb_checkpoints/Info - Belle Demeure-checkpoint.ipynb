{
 "cells": [
  {
   "cell_type": "code",
   "execution_count": 1,
   "metadata": {
    "ExecuteTime": {
     "end_time": "2020-05-27T07:54:38.174054Z",
     "start_time": "2020-05-27T07:54:36.324019Z"
    }
   },
   "outputs": [],
   "source": [
    "# import the required packages\n",
    "from selenium import webdriver\n",
    "from selenium.webdriver.common.keys import Keys\n",
    "from selenium.webdriver.common.action_chains import ActionChains\n",
    "from selenium.common.exceptions import NoSuchElementException\n",
    "import time\n",
    "import pandas as pd\n",
    "import os\n",
    "import time"
   ]
  },
  {
   "cell_type": "code",
   "execution_count": 29,
   "metadata": {
    "ExecuteTime": {
     "end_time": "2020-05-27T14:10:10.886212Z",
     "start_time": "2020-05-27T14:10:03.210298Z"
    }
   },
   "outputs": [],
   "source": [
    "# Connection à la page web\n",
    "browser = webdriver.Chrome()\n",
    "browser.get('https://www.bellesdemeures.com/annonces/vente/tt-2-tb-1-pl-48514/158579797/#?cmp=INTSL_ListToDetail')\n",
    "browser.maximize_window()"
   ]
  },
  {
   "cell_type": "code",
   "execution_count": 31,
   "metadata": {
    "ExecuteTime": {
     "end_time": "2020-05-27T14:10:27.356342Z",
     "start_time": "2020-05-27T14:10:27.275336Z"
    }
   },
   "outputs": [
    {
     "data": {
      "text/plain": [
       "'Appartement'"
      ]
     },
     "execution_count": 31,
     "metadata": {},
     "output_type": "execute_result"
    }
   ],
   "source": [
    "# Collecter les informations d'une annonce (Belle Demeure)\n",
    "\n",
    "# Type de logement\n",
    "type_log = browser.find_element_by_class_name('detailBannerInfosTypeBien').text\n",
    "type_log"
   ]
  },
  {
   "cell_type": "code",
   "execution_count": 42,
   "metadata": {
    "ExecuteTime": {
     "end_time": "2020-05-27T14:22:29.737871Z",
     "start_time": "2020-05-27T14:22:29.644325Z"
    }
   },
   "outputs": [
    {
     "data": {
      "text/plain": [
       "'Appartement'"
      ]
     },
     "execution_count": 42,
     "metadata": {},
     "output_type": "execute_result"
    }
   ],
   "source": [
    "# Nombre de pièce\n",
    "type_log = browser.find_element_by_xpath('//*[@id=\"158579797\"]/div[3]/div/h1/span[1]')\n",
    "type_log.text"
   ]
  },
  {
   "cell_type": "code",
   "execution_count": 23,
   "metadata": {
    "ExecuteTime": {
     "end_time": "2020-05-27T08:30:11.264649Z",
     "start_time": "2020-05-27T08:30:11.171724Z"
    }
   },
   "outputs": [
    {
     "data": {
      "text/plain": [
       "'• 1 Chambre'"
      ]
     },
     "execution_count": 23,
     "metadata": {},
     "output_type": "execute_result"
    }
   ],
   "source": [
    "# Nombre de chambre\n",
    "nb_bedroom = browser.find_element_by_xpath('/html/body/div[1]/div[1]/div/div[1]/div[3]/div/h1/div[1]/ul/li[2]').text\n",
    "nb_bedroom"
   ]
  },
  {
   "cell_type": "code",
   "execution_count": 24,
   "metadata": {
    "ExecuteTime": {
     "end_time": "2020-05-27T08:31:32.622852Z",
     "start_time": "2020-05-27T08:31:32.552404Z"
    }
   },
   "outputs": [
    {
     "data": {
      "text/plain": [
       "'• 46 M²'"
      ]
     },
     "execution_count": 24,
     "metadata": {},
     "output_type": "execute_result"
    }
   ],
   "source": [
    "# Mètre carré\n",
    "aera = browser.find_element_by_xpath('/html/body/div[1]/div[1]/div/div[1]/div[3]/div/h1/div[1]/ul/li[3]').text\n",
    "aera"
   ]
  },
  {
   "cell_type": "code",
   "execution_count": 25,
   "metadata": {
    "ExecuteTime": {
     "end_time": "2020-05-27T08:33:20.614941Z",
     "start_time": "2020-05-27T08:33:20.543918Z"
    }
   },
   "outputs": [
    {
     "data": {
      "text/plain": [
       "'Paris 16ème'"
      ]
     },
     "execution_count": 25,
     "metadata": {},
     "output_type": "execute_result"
    }
   ],
   "source": [
    "# Localisation\n",
    "local = browser.find_element_by_xpath('/html/body/div[1]/div[1]/div/div[1]/div[3]/div/h1/div[2]/span').text\n",
    "local"
   ]
  },
  {
   "cell_type": "code",
   "execution_count": 26,
   "metadata": {
    "ExecuteTime": {
     "end_time": "2020-05-27T08:34:19.580255Z",
     "start_time": "2020-05-27T08:34:19.460877Z"
    }
   },
   "outputs": [
    {
     "data": {
      "text/plain": [
       "'785 000 €'"
      ]
     },
     "execution_count": 26,
     "metadata": {},
     "output_type": "execute_result"
    }
   ],
   "source": [
    "# Prix\n",
    "price = browser.find_element_by_xpath('/html/body/div[1]/div[1]/div/div[1]/div[3]/div/h1/span[2]').text\n",
    "price"
   ]
  },
  {
   "cell_type": "code",
   "execution_count": 27,
   "metadata": {
    "ExecuteTime": {
     "end_time": "2020-05-27T08:35:39.555741Z",
     "start_time": "2020-05-27T08:35:39.487675Z"
    }
   },
   "outputs": [
    {
     "data": {
      "text/plain": [
       "\"Mairie du 16ème- Avenue HENRI MARTIN / Efficity l'agence qui estime votre bien vous propose un très beau 2 pièces situé au premier étage dans un magnifique immeuble de grand standing, Il se compose d'une entrée, d'un séjour donnant sur une terrasse exposé plein sud de 9 m², d'une cuisine séparée, d'une chambre avec rangements, et d'une belle salle de bain avec toilettes. Une cave complète ce bien. En parfait état et à proximité de la Mairie du 16ème et du TROCADERO ce bien vous séduira aussi par sa localisation et son plan optimisé. Sectorisation Janson de Sailly. Coup de coeur à SAISIR. Efficity Société par Actions Simplifiée, au capital de 116 847 euros - Carte professionnelle CPI 7501 2015 000 002 025 délivrée par la Préfecture de police de Paris - Siège: 48 avenue de Villiers 75017 Paris - Garantie Financière CEGC pour un montant de 650000,00 euros - RCS: Paris 497617746 - Brigitte Zana, agent commercial du réseau immobilier effiCity est inscrit au RSAC de Paris n°444334064 Réf annonce: 64552.\""
      ]
     },
     "execution_count": 27,
     "metadata": {},
     "output_type": "execute_result"
    }
   ],
   "source": [
    "#paragraphe\n",
    "paragraphe = browser.find_element_by_xpath('/html/body/div[1]/div[1]/div/div[2]/div[3]/p[1]').text\n",
    "paragraphe"
   ]
  },
  {
   "cell_type": "code",
   "execution_count": 17,
   "metadata": {
    "ExecuteTime": {
     "end_time": "2020-05-27T08:27:35.418618Z",
     "start_time": "2020-05-27T08:27:35.373207Z"
    }
   },
   "outputs": [],
   "source": [
    "terrasse = browser.find_element_by_xpath('/html/body/div[1]/div[1]/div/div[2]/div[4]/div[1]/ul/li[1]/span').text"
   ]
  },
  {
   "cell_type": "code",
   "execution_count": null,
   "metadata": {},
   "outputs": [],
   "source": []
  }
 ],
 "metadata": {
  "hide_input": false,
  "kernelspec": {
   "display_name": "Python 3",
   "language": "python",
   "name": "python3"
  },
  "language_info": {
   "codemirror_mode": {
    "name": "ipython",
    "version": 3
   },
   "file_extension": ".py",
   "mimetype": "text/x-python",
   "name": "python",
   "nbconvert_exporter": "python",
   "pygments_lexer": "ipython3",
   "version": "3.6.0"
  },
  "toc": {
   "base_numbering": 1,
   "nav_menu": {},
   "number_sections": true,
   "sideBar": true,
   "skip_h1_title": false,
   "title_cell": "Table of Contents",
   "title_sidebar": "Contents",
   "toc_cell": false,
   "toc_position": {},
   "toc_section_display": true,
   "toc_window_display": false
  },
  "varInspector": {
   "cols": {
    "lenName": 16,
    "lenType": 16,
    "lenVar": 40
   },
   "kernels_config": {
    "python": {
     "delete_cmd_postfix": "",
     "delete_cmd_prefix": "del ",
     "library": "var_list.py",
     "varRefreshCmd": "print(var_dic_list())"
    },
    "r": {
     "delete_cmd_postfix": ") ",
     "delete_cmd_prefix": "rm(",
     "library": "var_list.r",
     "varRefreshCmd": "cat(var_dic_list()) "
    }
   },
   "types_to_exclude": [
    "module",
    "function",
    "builtin_function_or_method",
    "instance",
    "_Feature"
   ],
   "window_display": false
  }
 },
 "nbformat": 4,
 "nbformat_minor": 2
}
