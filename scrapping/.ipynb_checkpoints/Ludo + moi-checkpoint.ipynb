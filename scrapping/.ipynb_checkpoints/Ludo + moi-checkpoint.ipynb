{
 "cells": [
  {
   "cell_type": "code",
   "execution_count": 9,
   "metadata": {},
   "outputs": [],
   "source": [
    "from selenium import webdriver\n",
    "from selenium.webdriver.common.keys import Keys\n",
    "from selenium.webdriver.common.action_chains import ActionChains\n",
    "from selenium.common.exceptions import NoSuchElementException\n",
    "import time\n",
    "import numpy as np\n",
    "import pandas as pd\n",
    "import re"
   ]
  },
  {
   "cell_type": "code",
   "execution_count": 10,
   "metadata": {},
   "outputs": [],
   "source": [
    "browser = webdriver.Chrome()\n",
    "browser.get('https://www.seloger.com/annonces/achat/appartement/paris-16eme-75/auteuil-sud/155544855.htm?projects=2,5&types=1&natures=1,2,4&places=[{ci:750116}]&sort=d_relevance&cellar=1&enterprise=0&qsVersion=1.0&bd=ListToDetail')"
   ]
  },
  {
   "cell_type": "code",
   "execution_count": null,
   "metadata": {},
   "outputs": [],
   "source": [
    "# En gros la faudra un if on va sur se loger\n",
    "try:\n",
    "    style = browser.find_element_by_xpath('//*[@id=\"root\"]/div/main/div[3]/div[2]/div[1]/div[1]/div[3]/div[2]/div[1]/div[1]').text\n",
    "except NoSuchElementException:\n",
    "    style = 'Non reference'\n",
    "    \n",
    "try:\n",
    "    nb_chambre = browser.find_element_by_xpath('//*[@id=\"root\"]/div/main/div[3]/div[2]/div[1]/div[1]/div[3]/div[2]/div[3]/div[2]/div[2]').text\n",
    "except NoSuchElementException:\n",
    "    nb_chambre = 'Non reference'\n",
    "    \n",
    "try:\n",
    "    taille = browser.find_element_by_xpath('//*[@id=\"root\"]/div/main/div[3]/div[2]/div[1]/div[1]/div[3]/div[2]/div[3]/div[3]/div[2]').text\n",
    "except NoSuchElementException:\n",
    "    taille = 'Non reference'\n",
    "    \n",
    "try:\n",
    "    prix_m2 = browser.find_element_by_xpath('//*[@id=\"root\"]/div/main/div[3]/div[2]/div[1]/div[1]/div[3]/div[2]/div[3]/div[4]/div[2]').text\n",
    "except NoSuchElementException:\n",
    "    prix_m2 = 'Non reference'\n",
    "    \n",
    "try:\n",
    "    prix = browser.find_element_by_xpath('//*[@id=\"root\"]/div/main/div[3]/div[2]/div[1]/div[1]/div[3]/div[2]/div[2]/div/span/span').text\n",
    "except NoSuchElementException:\n",
    "    prix = 'Non reference'\n",
    "\n",
    "try:\n",
    "    paragraphe = browser.find_element_by_xpath('//*[@id=\"showcase-description\"]/div[1]/div/div/div[1]/p').text\n",
    "    jardin = bool(re.search('jardin',paragraphe))\n",
    "    cave = bool(re.search('cave',paragraphe))\n",
    "    parking = bool(re.search('parking',paragraphe))\n",
    "except NoSuchElementException:\n",
    "    paragraphe = 'Non reference'"
   ]
  },
  {
   "cell_type": "code",
   "execution_count": 31,
   "metadata": {},
   "outputs": [],
   "source": [
    "browser = webdriver.Chrome()\n",
    "browser.get('https://www.bellesdemeures.com/annonces/vente/tt-2-tb-1-pl-48174/140321175/#?cmp=INTSL_ListToDetail')"
   ]
  },
  {
   "cell_type": "code",
   "execution_count": 36,
   "metadata": {},
   "outputs": [],
   "source": [
    "try:\n",
    "    #style = browser.find_element_by_xpath('//*[@id=\"151355805\"]/div[3]/div/h1/span[1]').text\n",
    "    style = browser.find_element_by_class_name('detailBannerInfosTypeBien').text\n",
    "except NoSuchElementException:\n",
    "    style = 'Non reference'\n",
    "    \n",
    "# try:\n",
    "#     #nb_piece = browser.find_element_by_xpath('//*[@id=\"151355805\"]/div[3]/div/h1/div[1]/ul/li[1]').text\n",
    "#     nb_piece = browser.find_element_by_class_name('annonceSpecsListItem js_nbRooms').text\n",
    "# except NoSuchElementException:\n",
    "#     nb_piece = 'Non reference'\n",
    "    \n",
    "# try:\n",
    "#     nb_chambre = browser.find_element_by_xpath('//*[@id=\"151355805\"]/div[3]/div/h1/div[1]/ul/li[2]').text\n",
    "# except NoSuchElementException:\n",
    "#     nb_chambre = 'Non reference'\n",
    "    \n",
    "# try:\n",
    "#     taille = browser.find_element_by_xpath('//*[@id=\"151355805\"]/div[3]/div/h1/div[1]/ul/li[3]').text\n",
    "# except NoSuchElementException:\n",
    "#     taille = 'Non reference'\n",
    "    \n",
    "try:\n",
    "    prix = browser.find_element_by_xpath('//*[@id=\"151355805\"]/div[3]/div/h1/span[2]').text\n",
    "except NoSuchElementException:\n",
    "    prix = 'Non reference'\n",
    "\n",
    "try:\n",
    "    paragraphe = browser.find_element_by_xpath('//*[@id=\"wrapper\"]/div[1]/div/div[2]/div[3]/p[1]').text\n",
    "    jardin = bool(re.search('jardin',paragraphe))\n",
    "    cave = bool(re.search('cave',paragraphe))\n",
    "    parking = bool(re.search('parking',paragraphe))\n",
    "    bureau = bool(re.search('bureau',paragraphe))\n",
    "except NoSuchElementException:\n",
    "    paragraphe = 'Non reference'"
   ]
  },
  {
   "cell_type": "code",
   "execution_count": 37,
   "metadata": {},
   "outputs": [
    {
     "name": "stdout",
     "output_type": "stream",
     "text": [
      "Appartement\n",
      "Non reference\n",
      "Non reference\n",
      "Non reference\n",
      "Non reference\n",
      "False\n",
      "False\n",
      "False\n",
      "True\n"
     ]
    }
   ],
   "source": [
    "print(style)\n",
    "print(nb_piece)\n",
    "print(nb_chambre)\n",
    "print(taille)\n",
    "print(prix)\n",
    "print(jardin)\n",
    "print(cave)\n",
    "print(parking)\n",
    "print(bureau)"
   ]
  },
  {
   "cell_type": "code",
   "execution_count": null,
   "metadata": {},
   "outputs": [],
   "source": []
  }
 ],
 "metadata": {
  "hide_input": false,
  "kernelspec": {
   "display_name": "Python 3",
   "language": "python",
   "name": "python3"
  },
  "language_info": {
   "codemirror_mode": {
    "name": "ipython",
    "version": 3
   },
   "file_extension": ".py",
   "mimetype": "text/x-python",
   "name": "python",
   "nbconvert_exporter": "python",
   "pygments_lexer": "ipython3",
   "version": "3.6.0"
  },
  "toc": {
   "base_numbering": 1,
   "nav_menu": {},
   "number_sections": true,
   "sideBar": true,
   "skip_h1_title": false,
   "title_cell": "Table of Contents",
   "title_sidebar": "Contents",
   "toc_cell": false,
   "toc_position": {},
   "toc_section_display": true,
   "toc_window_display": false
  },
  "varInspector": {
   "cols": {
    "lenName": 16,
    "lenType": 16,
    "lenVar": 40
   },
   "kernels_config": {
    "python": {
     "delete_cmd_postfix": "",
     "delete_cmd_prefix": "del ",
     "library": "var_list.py",
     "varRefreshCmd": "print(var_dic_list())"
    },
    "r": {
     "delete_cmd_postfix": ") ",
     "delete_cmd_prefix": "rm(",
     "library": "var_list.r",
     "varRefreshCmd": "cat(var_dic_list()) "
    }
   },
   "types_to_exclude": [
    "module",
    "function",
    "builtin_function_or_method",
    "instance",
    "_Feature"
   ],
   "window_display": false
  }
 },
 "nbformat": 4,
 "nbformat_minor": 4
}
