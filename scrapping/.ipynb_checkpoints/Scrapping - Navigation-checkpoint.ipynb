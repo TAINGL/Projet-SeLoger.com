{
 "cells": [
  {
   "cell_type": "markdown",
   "metadata": {},
   "source": [
    "### Navigation - Liaison entre les différentes pages"
   ]
  },
  {
   "cell_type": "markdown",
   "metadata": {
    "ExecuteTime": {
     "end_time": "2020-05-26T11:44:10.926320Z",
     "start_time": "2020-05-26T11:44:10.909057Z"
    }
   },
   "source": [
    "- page de départ:https://www.seloger.com/recherche-avancee.html?tri=initial&enterprise=0&idtypebien=2,1&div=2238&idtt=2,5&naturebien=1,2,4\n",
    "- page de la liste de recherche: https://www.seloger.com/list.html?projects=2,5&types=1,2&natures=1,2,4&places=[{div:2238}]&enterprise=0&qsVersion=1.0\n",
    "- page de l'annonce: https://www.seloger.com/annonces/achat/maison/montmorency-95/centre-montmorency-centre/152819871.htm?projects=2,5&types=1,2&natures=1,2,4&places=[{div:2238}]&enterprise=0&qsVersion=1.0&bd=ListToDetail"
   ]
  },
  {
   "cell_type": "code",
   "execution_count": null,
   "metadata": {},
   "outputs": [],
   "source": [
    "\"\"\"\n",
    "MBP-de-Johanna:~ Johanna$ cd Documents\n",
    "MBP-de-Johanna:Documents Johanna$ cd SIMPLON\\ DATA\\ IA\n",
    "MBP-de-Johanna:SIMPLON DATA IA Johanna$ cd IA\n",
    "MBP-de-Johanna:IA Johanna$ cd ML\\ PROJET/\n",
    "MBP-de-Johanna:ML PROJET Johanna$ cd PROJET\\ SELOGER/\n",
    "\"\"\""
   ]
  },
  {
   "cell_type": "code",
   "execution_count": 1,
   "metadata": {
    "ExecuteTime": {
     "end_time": "2020-05-27T11:01:49.908368Z",
     "start_time": "2020-05-27T11:01:48.967673Z"
    }
   },
   "outputs": [],
   "source": [
    "# import the required packages\n",
    "from selenium import webdriver\n",
    "from selenium.webdriver.common.keys import Keys\n",
    "from selenium.webdriver.common.action_chains import ActionChains\n",
    "from selenium.common.exceptions import NoSuchElementException\n",
    "import selenium.webdriver.support.ui as ui\n",
    "import time\n",
    "import pandas as pd\n",
    "import os\n",
    "import time\n",
    "from time import sleep    "
   ]
  },
  {
   "cell_type": "code",
   "execution_count": null,
   "metadata": {},
   "outputs": [],
   "source": [
    "#SCROLLING\n",
    "\n",
    "# Get scroll height\n",
    "#last_height = browser.execute_script(\"return document.body.scrollHeight\")\n",
    "# Scroll down to bottom\n",
    "#browser.execute_script(\"window.scrollTo(0, document.body.scrollHeight);\")\n",
    "#element = browser.find_element_by_class_name(\"Summarystyled__Title-tzuaot-3 bQVvuG\")\n",
    "#browser.execute_script(\"arguments[0].click();\", element)\n",
    "\n",
    "#browser.execute_script(\"window.scrollTo(0, 8287);\")\n",
    "#time.sleep(1) # Attention à la vitesse: sinon pop up de pub instantané\n",
    "#print(last_height)\n",
    "\n",
    "#browser.execute_script(\"window.scrollBy(0,document.body.scrollHeight);\")\n",
    "#browser.execute_script(\"arguments[0].scrollIntoView(true);\", style)"
   ]
  },
  {
   "cell_type": "markdown",
   "metadata": {},
   "source": [
    "https://selenium-python.readthedocs.io/locating-elements.html"
   ]
  },
  {
   "cell_type": "code",
   "execution_count": null,
   "metadata": {
    "ExecuteTime": {
     "end_time": "2020-05-27T08:15:30.493916Z",
     "start_time": "2020-05-27T08:15:21.938459Z"
    }
   },
   "outputs": [],
   "source": [
    "# Connection à la page web\n",
    "browser = webdriver.Chrome()\n",
    "browser.get('https://www.seloger.com/recherche-avancee.html?tri=initial&enterprise=0&idtypebien=2,1&div=2238&idtt=2,5&naturebien=1,2,4')\n",
    "browser.maximize_window()\n",
    "\n",
    "# Validation des critères de recherches\n",
    "button = browser.find_element_by_xpath('/html/body/div[2]/div/div/div[1]/div[3]/div[2]/div[2]/button/span[2]')\n",
    "button.click()"
   ]
  },
  {
   "cell_type": "code",
   "execution_count": null,
   "metadata": {
    "ExecuteTime": {
     "end_time": "2020-05-26T20:10:40.805940Z",
     "start_time": "2020-05-26T20:10:36.088206Z"
    }
   },
   "outputs": [],
   "source": [
    "# Aller sur la 1ère annonce\n",
    "list_ad = browser.find_element_by_name('classified-link')\n",
    "actions = ActionChains(browser)\n",
    "actions.move_to_element(list_ad).perform()\n",
    "list_ad.click()\n",
    "browser.back()"
   ]
  },
  {
   "cell_type": "code",
   "execution_count": null,
   "metadata": {
    "ExecuteTime": {
     "end_time": "2020-05-27T08:47:02.592808Z",
     "start_time": "2020-05-27T08:46:10.585869Z"
    }
   },
   "outputs": [],
   "source": [
    "# Aller d'annonce à annonce (go and back)\n",
    "list_ad = browser.find_elements_by_name('classified-link')\n",
    "\n",
    "for i in range(len(list_ad)):\n",
    "    list_ad = browser.find_elements_by_name('classified-link')\n",
    "    if i <= len(list_ad):\n",
    "        actions = ActionChains(browser)\n",
    "        actions.move_to_element(list_ad[i])\n",
    "        time.sleep(10) # Attention à la vitesse: sinon pop up de pub instantané\n",
    "        actions.perform()\n",
    "        list_ad[i].click()\n",
    "        time.sleep(10)\n",
    "        browser.back()"
   ]
  },
  {
   "cell_type": "code",
   "execution_count": null,
   "metadata": {
    "ExecuteTime": {
     "end_time": "2020-05-27T10:01:15.479567Z",
     "start_time": "2020-05-27T10:01:09.528603Z"
    }
   },
   "outputs": [],
   "source": [
    "\"\"\"\n",
    "from selenium import webdriver# Define the URL's we will open and a few other variables \n",
    "main_url = 'https://www.linkedin.com' # URL A\n",
    "tab_url = 'https://www.google.com' # URL B\n",
    "browser = webdriver.Chrome()\n",
    "browser.get('https://www.linkedin.com')\n",
    "print(\"Current Page Title is : %s\" %browser.title)# Open a new window\n",
    "browser.execute_script(\"window.open('');\")# Switch to the new window and open URL B\n",
    "browser.switch_to.window(browser.window_handles[1])\n",
    "browser.get('https://www.google.com')# …Do something here\n",
    "\n",
    "print(\"Current Page Title is : %s\" %browser.title)# Close the tab with URL B\n",
    "browser.close()# Switch back to the first tab with URL A\n",
    "browser.switch_to.window(browser.window_handles[0])\n",
    "print(\"Current Page Title is : %s\" %browser.title)\n",
    "\"\"\""
   ]
  },
  {
   "cell_type": "code",
   "execution_count": null,
   "metadata": {
    "ExecuteTime": {
     "end_time": "2020-05-27T10:12:25.558435Z",
     "start_time": "2020-05-27T10:12:08.188635Z"
    }
   },
   "outputs": [],
   "source": [
    "# https://gist.github.com/lrhache/7686903\n",
    "# https://medium.com/@pavel.tashev/python-and-selenium-open-focus-and-close-a-new-tab-4cc606b73388\n",
    "# Aller sur la 1ère annonce et fermer la fenètre pour revenir sur la liste principale (tab to tab)\n",
    "\n",
    "# Connection à la page web\n",
    "browser = webdriver.Chrome()\n",
    "browser.get('https://www.seloger.com/list.htm?projects=2,5&types=10&natures=1,2,4&places=[{div:2238}]&enterprise=0&qsVersion=1.0')\n",
    "browser.maximize_window()\n",
    "print(\"Current Page Title is : %s\" %browser.title)# Open a new window\n",
    "\n",
    "# Save the window opener (current window, do not mistaken with tab... not the same)\n",
    "main_window = browser.current_window_handle\n",
    "\n",
    "list_ad = browser.find_element_by_name('classified-link')\n",
    "actions = ActionChains(browser)\n",
    "actions.move_to_element(list_ad).perform()\n",
    "\n",
    "# Open the link in a new tab by sending key strokes on the element\n",
    "# Use: Keys.CONTROL + Keys.SHIFT + Keys.RETURN to open tab on top of the stack \n",
    "list_ad.send_keys(Keys.CONTROL + Keys.RETURN)\n",
    "\n",
    "# Switch tab to the new tab, which we will assume is the next one on the right\n",
    "#browser.find_element_by_tag_name('body').send_keys(Keys.COMMAND + Keys.NUMPAD2)\n",
    "browser.find_element_by_tag_name('body').send_keys(Keys.CONTROL + Keys.TAB)\n",
    "\n",
    "# do whatever you have to do on this page, we will just got to sleep for now\n",
    "sleep(2)\n",
    "\n",
    "# Close current tab\n",
    "#browser.find_element_by_tag_name('body').send_keys(Keys.COMMAND+ 't')\n",
    "print(\"Current Page Title is : %s\" %browser.title)# Close the tab with URL B\n",
    "browser.switch_to.window(browser.window_handles[1])\n",
    "browser.close()# Switch back to the first tab with URL A\n",
    "\n",
    "\n",
    "# Close current tab\n",
    "browser.switch_to_window(main_window)\n"
   ]
  },
  {
   "cell_type": "code",
   "execution_count": null,
   "metadata": {
    "ExecuteTime": {
     "end_time": "2020-05-27T10:26:20.698907Z",
     "start_time": "2020-05-27T10:22:51.974236Z"
    }
   },
   "outputs": [],
   "source": [
    "# https://gist.github.com/lrhache/7686903\n",
    "# Aller d'annonce à annonce (tab to tab)\n",
    "\n",
    "# https://gist.github.com/lrhache/7686903\n",
    "# https://medium.com/@pavel.tashev/python-and-selenium-open-focus-and-close-a-new-tab-4cc606b73388\n",
    "# Aller sur les annonces et fermer la fenètre pour revenir sur la liste principale (tab to tab)\n",
    "\n",
    "# Connection à la page web\n",
    "browser = webdriver.Chrome()\n",
    "browser.get('https://www.seloger.com/list.htm?projects=2,5&types=10&natures=1,2,4&places=[{div:2238}]&enterprise=0&qsVersion=1.0')\n",
    "browser.maximize_window()\n",
    "print(\"Current Page Title is : %s\" %browser.title)# Open a new window\n",
    "\n",
    "# Save the window opener (current window, do not mistaken with tab... not the same)\n",
    "main_window = browser.current_window_handle\n",
    "\n",
    "list_ad = browser.find_elements_by_name('classified-link')\n",
    "\n",
    "for i in range(len(list_ad)):\n",
    "    list_ad = browser.find_elements_by_name('classified-link')\n",
    "    if i <= len(list_ad):\n",
    "        actions = ActionChains(browser)\n",
    "        actions.move_to_element(list_ad[i])\n",
    "        time.sleep(10) # Attention à la vitesse: sinon pop up de pub instantané\n",
    "        actions.perform()\n",
    "        \n",
    "        # Open the link in a new tab by sending key strokes on the element\n",
    "        # Use: Keys.CONTROL + Keys.SHIFT + Keys.RETURN to open tab on top of the stack \n",
    "        list_ad[i].send_keys(Keys.CONTROL + Keys.RETURN)\n",
    "        \n",
    "        # Switch tab to the new tab, which we will assume is the next one on the right\n",
    "        browser.find_element_by_tag_name('body').send_keys(Keys.CONTROL + Keys.TAB)\n",
    "        time.sleep(10)\n",
    "\n",
    "        # Close current tab\n",
    "        #browser.find_element_by_tag_name('body').send_keys(Keys.COMMAND+ 't')\n",
    "        print(\"Current Page Title is : %s\" %browser.title)# Close the tab with URL B\n",
    "        browser.switch_to.window(browser.window_handles[1])\n",
    "        browser.close()# Switch back to the first tab with URL A\n",
    "\n",
    "        # Close current tab\n",
    "        browser.switch_to_window(main_window)\n"
   ]
  },
  {
   "cell_type": "code",
   "execution_count": null,
   "metadata": {
    "ExecuteTime": {
     "end_time": "2020-05-26T20:49:35.631797Z",
     "start_time": "2020-05-26T20:49:14.644415Z"
    }
   },
   "outputs": [],
   "source": [
    "# Aller à la page suivante\n",
    "next_page = browser.find_element_by_link_text('Suivant')\n",
    "actions = ActionChains(browser)\n",
    "actions.move_to_element(next_page)\n",
    "time.sleep(10)\n",
    "actions.perform()\n",
    "next_page.click()\n",
    "time.sleep(10)"
   ]
  },
  {
   "cell_type": "code",
   "execution_count": null,
   "metadata": {
    "ExecuteTime": {
     "end_time": "2020-05-27T08:49:54.612969Z",
     "start_time": "2020-05-27T08:48:51.680089Z"
    }
   },
   "outputs": [],
   "source": [
    "# Aller de page en page\n",
    "# Test sur :\n",
    "# https://www.seloger.com/list.htm?projects=2,5&types=10&natures=1,2,4&places=[{div:2238}]&enterprise=0&qsVersion=1.0\n",
    "\n",
    "page = True\n",
    "\n",
    "while page: \n",
    "    try:\n",
    "        next_page = browser.find_element_by_link_text('Suivant')\n",
    "        actions = ActionChains(browser)\n",
    "        actions.move_to_element(next_page)\n",
    "        time.sleep(10)\n",
    "        actions.perform()\n",
    "        next_page.click()\n",
    "        time.sleep(10)\n",
    "        browser.back()\n",
    "        \n",
    "    except:\n",
    "        page = False\n"
   ]
  },
  {
   "cell_type": "code",
   "execution_count": null,
   "metadata": {
    "ExecuteTime": {
     "end_time": "2020-05-27T08:42:07.512189Z",
     "start_time": "2020-05-27T08:41:24.723680Z"
    }
   },
   "outputs": [],
   "source": [
    "# Aller d'annonce à annonce (go back) et page en page\n",
    "# Test sur :\n",
    "# https://www.seloger.com/list.htm?projects=2,5&types=10&natures=1,2,4&places=[{div:2238}]&enterprise=0&qsVersion=1.0\n",
    "browser = webdriver.Chrome()\n",
    "browser.get('https://www.seloger.com/list.htm?projects=2,5&types=10&natures=1,2,4&places=[{div:2238}]&enterprise=0&qsVersion=1.0')\n",
    "browser.maximize_window()\n",
    "\n",
    "page = True\n",
    "\n",
    "while page: \n",
    "    list_ad = browser.find_elements_by_name('classified-link')\n",
    "    for i in range(len(list_ad)):\n",
    "        list_ad = browser.find_elements_by_name('classified-link')\n",
    "        if i <= len(list_ad):\n",
    "            actions = ActionChains(browser)\n",
    "            actions.move_to_element(list_ad[i])\n",
    "            time.sleep(10) # Attention à la vitesse: sinon pop up de pub instantané\n",
    "            actions.perform()\n",
    "            list_ad[i].click()\n",
    "            time.sleep(10)\n",
    "            browser.back()\n",
    "\n",
    "    try:\n",
    "        next_page = browser.find_element_by_link_text('Suivant')\n",
    "        actions = ActionChains(browser)\n",
    "        actions.move_to_element(next_page)\n",
    "        time.sleep(10)\n",
    "        actions.perform()\n",
    "        next_page.click()\n",
    "        time.sleep(10)\n",
    "        browser.back()\n",
    "        \n",
    "    except:\n",
    "        page = False"
   ]
  },
  {
   "cell_type": "code",
   "execution_count": 2,
   "metadata": {
    "ExecuteTime": {
     "end_time": "2020-05-27T12:08:35.605652Z",
     "start_time": "2020-05-27T11:32:33.491922Z"
    }
   },
   "outputs": [
    {
     "name": "stdout",
     "output_type": "stream",
     "text": [
      "Current Page Title is : 99 annonces de vente et viager divers en Île-de-France, Seloger.com\n",
      "Current Page Title is : 99 annonces de vente et viager divers en Île-de-France, Seloger.com\n"
     ]
    },
    {
     "name": "stderr",
     "output_type": "stream",
     "text": [
      "/Library/Frameworks/Python.framework/Versions/3.6/lib/python3.6/site-packages/ipykernel_launcher.py:40: DeprecationWarning: use driver.switch_to.window instead\n"
     ]
    },
    {
     "name": "stdout",
     "output_type": "stream",
     "text": [
      "Current Page Title is : 99 annonces de vente et viager divers en Île-de-France, Seloger.com\n",
      "Current Page Title is : 99 annonces de vente et viager divers en Île-de-France, Seloger.com\n",
      "Current Page Title is : 99 annonces de vente et viager divers en Île-de-France, Seloger.com\n",
      "Current Page Title is : 99 annonces de vente et viager divers en Île-de-France, Seloger.com\n",
      "Current Page Title is : 99 annonces de vente et viager divers en Île-de-France, Seloger.com\n",
      "Current Page Title is : 99 annonces de vente et viager divers en Île-de-France, Seloger.com\n",
      "Current Page Title is : 99 annonces de vente et viager divers en Île-de-France, Seloger.com\n",
      "Current Page Title is : 99 annonces de vente et viager divers en Île-de-France, Seloger.com\n",
      "Current Page Title is : 99 annonces de vente et viager divers en Île-de-France, Seloger.com\n",
      "Current Page Title is : 99 annonces de vente et viager divers en Île-de-France, Seloger.com\n",
      "Current Page Title is : 99 annonces de vente et viager divers en Île-de-France, Seloger.com\n",
      "Current Page Title is : 99 annonces de vente et viager divers en Île-de-France, Seloger.com\n",
      "Current Page Title is : 99 annonces de vente et viager divers en Île-de-France, Seloger.com\n",
      "Current Page Title is : 99 annonces de vente et viager divers en Île-de-France, Seloger.com\n",
      "Current Page Title is : 99 annonces de vente et viager divers en Île-de-France, Seloger.com\n",
      "Current Page Title is : 99 annonces de vente et viager divers en Île-de-France, Seloger.com\n",
      "Current Page Title is : 99 annonces de vente et viager divers en Île-de-France, Seloger.com\n",
      "Current Page Title is : 99 annonces de vente et viager divers en Île-de-France, Seloger.com\n",
      "Current Page Title is : 99 annonces de vente et viager divers en Île-de-France, Seloger.com\n",
      "Current Page Title is : 99 annonces de vente et viager divers en Île-de-France, Seloger.com\n",
      "Current Page Title is : 99 annonces de vente et viager divers en Île-de-France, Seloger.com\n",
      "Current Page Title is : 99 annonces de vente et viager divers en Île-de-France, Seloger.com\n",
      "Current Page Title is : 99 annonces de vente et viager divers en Île-de-France, Seloger.com\n",
      "Current Page Title is : 99 annonces de vente et viager divers en Île-de-France, Seloger.com\n",
      "Current Page Title is : 99 annonces de vente et viager divers en Île-de-France, Seloger.com\n",
      "Current Page Title is : 99 annonces de vente et viager divers en Île-de-France, Seloger.com\n",
      "Current Page Title is : 99 annonces de vente et viager divers en Île-de-France, Seloger.com\n",
      "Current Page Title is : 99 annonces de vente et viager divers en Île-de-France, Seloger.com\n",
      "Current Page Title is : 99 annonces de vente et viager divers en Île-de-France, Seloger.com\n",
      "Current Page Title is : 99 annonces de vente et viager divers en Île-de-France, Seloger.com\n",
      "Current Page Title is : 99 annonces de vente et viager divers en Île-de-France, Seloger.com\n",
      "Current Page Title is : 99 annonces de vente et viager divers en Île-de-France, Seloger.com\n",
      "Current Page Title is : 99 annonces de vente et viager divers en Île-de-France, Seloger.com\n",
      "Current Page Title is : 99 annonces de vente et viager divers en Île-de-France, Seloger.com\n",
      "Current Page Title is : 99 annonces de vente et viager divers en Île-de-France, Seloger.com\n",
      "Current Page Title is : 99 annonces de vente et viager divers en Île-de-France, Seloger.com\n",
      "Current Page Title is : 99 annonces de vente et viager divers en Île-de-France, Seloger.com\n",
      "Current Page Title is : 99 annonces de vente et viager divers en Île-de-France, Seloger.com\n",
      "Current Page Title is : 99 annonces de vente et viager divers en Île-de-France, Seloger.com\n",
      "Current Page Title is : 99 annonces de vente et viager divers en Île-de-France, Seloger.com\n",
      "Current Page Title is : 99 annonces de vente et viager divers en Île-de-France, Seloger.com\n",
      "Current Page Title is : 99 annonces de vente et viager divers en Île-de-France, Seloger.com\n",
      "Current Page Title is : 99 annonces de vente et viager divers en Île-de-France, Seloger.com\n",
      "Current Page Title is : 99 annonces de vente et viager divers en Île-de-France, Seloger.com\n",
      "Current Page Title is : 99 annonces de vente et viager divers en Île-de-France, Seloger.com\n",
      "Current Page Title is : 99 annonces de vente et viager divers en Île-de-France, Seloger.com\n",
      "Current Page Title is : 99 annonces de vente et viager divers en Île-de-France, Seloger.com\n",
      "Current Page Title is : 99 annonces de vente et viager divers en Île-de-France, Seloger.com\n",
      "Current Page Title is : 99 annonces de vente et viager divers en Île-de-France, Seloger.com\n",
      "Current Page Title is : 99 annonces de vente et viager divers en Île-de-France, Seloger.com\n",
      "Current Page Title is : 99 annonces de vente et viager divers en Île-de-France, Seloger.com\n",
      "Current Page Title is : 99 annonces de vente et viager divers en Île-de-France, Seloger.com\n",
      "Current Page Title is : 99 annonces de vente et viager divers en Île-de-France, Seloger.com\n",
      "Current Page Title is : 99 annonces de vente et viager divers en Île-de-France, Seloger.com\n",
      "Current Page Title is : 99 annonces de vente et viager divers en Île-de-France, Seloger.com\n",
      "Current Page Title is : 99 annonces de vente et viager divers en Île-de-France, Seloger.com\n",
      "Current Page Title is : 99 annonces de vente et viager divers en Île-de-France, Seloger.com\n",
      "Current Page Title is : 99 annonces de vente et viager divers en Île-de-France, Seloger.com\n",
      "Current Page Title is : 99 annonces de vente et viager divers en Île-de-France, Seloger.com\n",
      "Current Page Title is : 99 annonces de vente et viager divers en Île-de-France, Seloger.com\n",
      "Current Page Title is : 99 annonces de vente et viager divers en Île-de-France, Seloger.com\n",
      "Current Page Title is : 99 annonces de vente et viager divers en Île-de-France, Seloger.com\n",
      "Current Page Title is : 99 annonces de vente et viager divers en Île-de-France, Seloger.com\n",
      "Current Page Title is : 99 annonces de vente et viager divers en Île-de-France, Seloger.com\n",
      "Current Page Title is : 99 annonces de vente et viager divers en Île-de-France, Seloger.com\n",
      "Current Page Title is : 99 annonces de vente et viager divers en Île-de-France, Seloger.com\n",
      "Current Page Title is : 99 annonces de vente et viager divers en Île-de-France, Seloger.com\n",
      "Current Page Title is : 99 annonces de vente et viager divers en Île-de-France, Seloger.com\n",
      "Current Page Title is : 99 annonces de vente et viager divers en Île-de-France, Seloger.com\n",
      "Current Page Title is : 99 annonces de vente et viager divers en Île-de-France, Seloger.com\n",
      "Current Page Title is : 99 annonces de vente et viager divers en Île-de-France, Seloger.com\n",
      "Current Page Title is : 99 annonces de vente et viager divers en Île-de-France, Seloger.com\n",
      "Current Page Title is : 99 annonces de vente et viager divers en Île-de-France, Seloger.com\n",
      "Current Page Title is : 99 annonces de vente et viager divers en Île-de-France, Seloger.com\n",
      "Current Page Title is : 99 annonces de vente et viager divers en Île-de-France, Seloger.com\n",
      "Current Page Title is : 99 annonces de vente et viager divers en Île-de-France, Seloger.com\n",
      "Current Page Title is : 99 annonces de vente et viager divers en Île-de-France, Seloger.com\n",
      "Current Page Title is : 99 annonces de vente et viager divers en Île-de-France, Seloger.com\n",
      "Current Page Title is : 99 annonces de vente et viager divers en Île-de-France, Seloger.com\n",
      "Current Page Title is : 99 annonces de vente et viager divers en Île-de-France, Seloger.com\n",
      "Current Page Title is : 99 annonces de vente et viager divers en Île-de-France, Seloger.com\n",
      "Current Page Title is : 99 annonces de vente et viager divers en Île-de-France, Seloger.com\n",
      "Current Page Title is : 99 annonces de vente et viager divers en Île-de-France, Seloger.com\n",
      "Current Page Title is : 99 annonces de vente et viager divers en Île-de-France, Seloger.com\n",
      "Current Page Title is : 99 annonces de vente et viager divers en Île-de-France, Seloger.com\n",
      "Current Page Title is : 99 annonces de vente et viager divers en Île-de-France, Seloger.com\n",
      "Current Page Title is : 99 annonces de vente et viager divers en Île-de-France, Seloger.com\n",
      "Current Page Title is : 99 annonces de vente et viager divers en Île-de-France, Seloger.com\n",
      "Current Page Title is : 99 annonces de vente et viager divers en Île-de-France, Seloger.com\n",
      "Current Page Title is : 99 annonces de vente et viager divers en Île-de-France, Seloger.com\n"
     ]
    },
    {
     "name": "stdout",
     "output_type": "stream",
     "text": [
      "Current Page Title is : 99 annonces de vente et viager divers en Île-de-France, Seloger.com\n",
      "Current Page Title is : 99 annonces de vente et viager divers en Île-de-France, Seloger.com\n",
      "Current Page Title is : 99 annonces de vente et viager divers en Île-de-France, Seloger.com\n",
      "Current Page Title is : 99 annonces de vente et viager divers en Île-de-France, Seloger.com\n",
      "Current Page Title is : 99 annonces de vente et viager divers en Île-de-France, Seloger.com\n",
      "Current Page Title is : 99 annonces de vente et viager divers en Île-de-France, Seloger.com\n",
      "Current Page Title is : 99 annonces de vente et viager divers en Île-de-France, Seloger.com\n",
      "Current Page Title is : 99 annonces de vente et viager divers en Île-de-France, Seloger.com\n"
     ]
    }
   ],
   "source": [
    "# Aller d'annonce à annonce (tab to tab) et page en page\n",
    "# Aller sur la 1ère annonce et fermer la fenètre pour revenir sur la liste principale (tab to tab)\n",
    "\n",
    "# Connection à la page web\n",
    "browser = webdriver.Chrome()\n",
    "browser.get('https://www.seloger.com/list.htm?projects=2,5&types=10&natures=1,2,4&places=[{div:2238}]&enterprise=0&qsVersion=1.0')\n",
    "browser.maximize_window()\n",
    "print(\"Current Page Title is : %s\" %browser.title)# Open a new window\n",
    "\n",
    "# Save the window opener (current window, do not mistaken with tab... not the same)\n",
    "main_window = browser.current_window_handle\n",
    "\n",
    "page = True\n",
    "\n",
    "while page: \n",
    "    list_ad = browser.find_elements_by_name('classified-link')\n",
    "    for i in range(len(list_ad)):\n",
    "        list_ad = browser.find_elements_by_name('classified-link')\n",
    "        if i <= len(list_ad):\n",
    "            actions = ActionChains(browser)\n",
    "            actions.move_to_element(list_ad[i])\n",
    "            time.sleep(10) # Attention à la vitesse: sinon pop up de pub instantané\n",
    "            actions.perform()\n",
    "\n",
    "            # Open the link in a new tab by sending key strokes on the element\n",
    "            # Use: Keys.CONTROL + Keys.SHIFT + Keys.RETURN to open tab on top of the stack \n",
    "            list_ad[i].send_keys(Keys.CONTROL + Keys.RETURN)\n",
    "\n",
    "            # Switch tab to the new tab, which we will assume is the next one on the right\n",
    "            browser.find_element_by_tag_name('body').send_keys(Keys.CONTROL + Keys.TAB)\n",
    "            time.sleep(10)\n",
    "\n",
    "            # Close current tab\n",
    "            #browser.find_element_by_tag_name('body').send_keys(Keys.COMMAND+ 't')\n",
    "            print(\"Current Page Title is : %s\" %browser.title)# Close the tab with URL B\n",
    "            browser.switch_to.window(browser.window_handles[1])\n",
    "            browser.close()# Switch back to the first tab with URL A\n",
    "\n",
    "            # Close current tab\n",
    "            browser.switch_to_window(main_window)\n",
    "            \n",
    "    try:\n",
    "        next_page = browser.find_element_by_link_text('Suivant')\n",
    "        actions = ActionChains(browser)\n",
    "        actions.move_to_element(next_page)\n",
    "        time.sleep(10)\n",
    "        actions.perform()\n",
    "        next_page.click()\n",
    "        time.sleep(10)\n",
    "        browser.back()\n",
    "        \n",
    "    except:\n",
    "        page = False"
   ]
  },
  {
   "cell_type": "code",
   "execution_count": null,
   "metadata": {
    "ExecuteTime": {
     "end_time": "2020-05-27T07:24:31.217054Z",
     "start_time": "2020-05-27T07:24:19.281630Z"
    }
   },
   "outputs": [],
   "source": [
    "# Selection des critères de recherches\n",
    "\n",
    "# Connection à la page web\n",
    "browser = webdriver.Chrome()\n",
    "browser.get('https://www.seloger.com/recherche-avancee.html?tri=initial&enterprise=0&idtypebien=2,1&div=2238&idtt=2,5&naturebien=1,2,4')\n",
    "browser.maximize_window()\n",
    "\n",
    "#geoloc = browser.find_element_by_class_name('containerList')\n",
    "#browser.execute_script(\"arguments[0].scrollIntoView(true);\",geoloc )\n",
    "#geoloc.click()\n",
    "#delete_info = browser.find_element_by_link_text('Île-de-France')\n",
    "#delete_info.click()\n",
    "#geoloc.click()\n",
    "#geoloc.get('Paris 16')\n",
    "#geoloc.get('Lyon 6')\n",
    "#apply = browser.find_element_by_link_text('Appliquer')\n",
    "#apply\n",
    "\n",
    "\n",
    "# Validation des critères de recherches\n",
    "#button = browser.find_element_by_xpath('/html/body/div[2]/div/div/div[1]/div[3]/div[2]/div[2]/button/span[2]')\n",
    "#button.click()\n"
   ]
  },
  {
   "cell_type": "code",
   "execution_count": null,
   "metadata": {
    "ExecuteTime": {
     "end_time": "2020-05-27T07:28:59.688399Z",
     "start_time": "2020-05-27T07:28:59.592830Z"
    }
   },
   "outputs": [],
   "source": [
    "geoloc =browser.find_element_by_class_name('containerList')\n",
    "geoloc.click()"
   ]
  },
  {
   "cell_type": "code",
   "execution_count": null,
   "metadata": {
    "ExecuteTime": {
     "end_time": "2020-05-27T07:29:01.037437Z",
     "start_time": "2020-05-27T07:29:01.032597Z"
    }
   },
   "outputs": [],
   "source": [
    "# https://github.com/edouardmulliez/scraper-seloger/blob/master/seloger_scraper.py\n",
    "# https://medium.com/france-school-of-ai/web-scraping-avec-python-apprenez-%C3%A0-utiliser-beautifulsoup-proxies-et-un-faux-user-agent-d7bfb66b6556"
   ]
  },
  {
   "cell_type": "code",
   "execution_count": null,
   "metadata": {},
   "outputs": [],
   "source": [
    "browser = webdriver.Chrome()\n",
    "browser.get('https://www.seloger.com/list.htm?projects=2,5&types=14&natures=1,2,4&places=[{ci:750116}]&enterprise=0&qsVersion=1.0')\n",
    "browser.maximize_window()\n",
    "\n",
    "# Save the window opener (current window, do not mistaken with tab... not the same)\n",
    "main_window = browser.current_window_handle\n",
    "\n",
    "elems = browser.find_elements_by_name('classified-link')\n",
    "links = [elem.get_attribute(\"href\") for elem in elems]\n",
    "print(links)"
   ]
  },
  {
   "cell_type": "code",
   "execution_count": null,
   "metadata": {},
   "outputs": [],
   "source": [
    "# Aller sur les annonces et fermer la fenètre pour revenir sur la liste principale (tab to tab) + scrap titre\n",
    "\n",
    "from selenium import webdriver# Define the URL's we will open and a few other variables \n",
    "\n",
    "browser = webdriver.Chrome()\n",
    "browser.get('https://www.seloger.com/list.htm?projects=2,5&types=14&natures=1,2,4&places=[{ci:750116}]&enterprise=0&qsVersion=1.0')\n",
    "browser.maximize_window()\n",
    "\n",
    "# Save the window opener (current window, do not mistaken with tab... not the same)\n",
    "main_window = browser.current_window_handle\n",
    "print(\"Current Page Title is : %s\" %browser.title)# Open a new window\n",
    "\n",
    "elems = browser.find_elements_by_name('classified-link')\n",
    "tab_url = [elem.get_attribute(\"href\") for elem in elems]\n",
    "\n",
    "for i in range(len(elems)):\n",
    "    list_ad = browser.find_elements_by_name('classified-link')\n",
    "    tab_url = [elem.get_attribute(\"href\") for elem in elems]\n",
    "    if i <= len(tab_url):\n",
    "        browser.execute_script(\"window.open('');\")# Switch to the new window and open URL B\n",
    "        browser.switch_to.window(browser.window_handles[1])\n",
    "        browser.get(tab_url[i])# …Do something here\n",
    "        print(\"Current Page Title is : %s\" %browser.title)# Close the tab with URL B\n",
    "        print(tab_url[i])\n",
    "        time.sleep(5) # Attention à la vitesse: sinon pop up de pub instantané\n",
    "\n",
    "        \n",
    "        try:\n",
    "            style = browser.find_element_by_xpath('//*[@id=\"root\"]/div/main/div[3]/div[2]/div[1]/div[1]/div[3]/div[2]/div[1]/div[1]').text\n",
    "            time.sleep(1) # Attention à la vitesse: sinon pop up de pub instantané\n",
    "            print(style)\n",
    "            \n",
    "            \n",
    "            \n",
    "            browser.execute_script(\"window.scrollTo(0, 1000);\")\n",
    "            element = browser.find_element_by_xpath('//*[@id=\"showcase-description\"]/div[3]/div[2]')\n",
    "            browser.execute_script(\"arguments[0].click();\", element)\n",
    "            \n",
    "            \n",
    "        except NoSuchElementException:\n",
    "            style = browser.find_element_by_class_name('detailBannerInfosTypeBien').text\n",
    "            print(style)\n",
    "\n",
    "        # Close current tab\n",
    "        browser.close()# Switch back to the first tab with URL A\n",
    "        browser.switch_to.window(browser.window_handles[0])\n",
    "        print(\"Current Page Title is : %s\" %browser.title)"
   ]
  }
 ],
 "metadata": {
  "hide_input": false,
  "kernelspec": {
   "display_name": "Python 3",
   "language": "python",
   "name": "python3"
  },
  "language_info": {
   "codemirror_mode": {
    "name": "ipython",
    "version": 3
   },
   "file_extension": ".py",
   "mimetype": "text/x-python",
   "name": "python",
   "nbconvert_exporter": "python",
   "pygments_lexer": "ipython3",
   "version": "3.6.0"
  },
  "toc": {
   "base_numbering": 1,
   "nav_menu": {},
   "number_sections": true,
   "sideBar": true,
   "skip_h1_title": false,
   "title_cell": "Table of Contents",
   "title_sidebar": "Contents",
   "toc_cell": false,
   "toc_position": {},
   "toc_section_display": true,
   "toc_window_display": false
  },
  "varInspector": {
   "cols": {
    "lenName": 16,
    "lenType": 16,
    "lenVar": 40
   },
   "kernels_config": {
    "python": {
     "delete_cmd_postfix": "",
     "delete_cmd_prefix": "del ",
     "library": "var_list.py",
     "varRefreshCmd": "print(var_dic_list())"
    },
    "r": {
     "delete_cmd_postfix": ") ",
     "delete_cmd_prefix": "rm(",
     "library": "var_list.r",
     "varRefreshCmd": "cat(var_dic_list()) "
    }
   },
   "types_to_exclude": [
    "module",
    "function",
    "builtin_function_or_method",
    "instance",
    "_Feature"
   ],
   "window_display": false
  }
 },
 "nbformat": 4,
 "nbformat_minor": 2
}
