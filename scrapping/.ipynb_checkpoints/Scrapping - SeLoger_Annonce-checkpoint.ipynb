{
 "cells": [
  {
   "cell_type": "markdown",
   "metadata": {},
   "source": [
    "## Projet"
   ]
  },
  {
   "cell_type": "code",
   "execution_count": 72,
   "metadata": {},
   "outputs": [],
   "source": [
    "from selenium import webdriver\n",
    "from selenium.webdriver.common.keys import Keys\n",
    "from selenium.webdriver.common.action_chains import ActionChains\n",
    "from selenium.common.exceptions import NoSuchElementException\n",
    "import time\n",
    "import numpy as np\n",
    "import pandas as pd\n",
    "import re"
   ]
  },
  {
   "cell_type": "markdown",
   "metadata": {},
   "source": [
    "## Site"
   ]
  },
  {
   "cell_type": "code",
   "execution_count": 16,
   "metadata": {},
   "outputs": [],
   "source": [
    "browser = webdriver.Chrome()\n",
    "# browser = webdriver.Firefox(executable_path='C:/path/to/geckodriver.exe') au cas où geckdriver.exe n'est pas dans le path ni au même endroit)\n"
   ]
  },
  {
   "cell_type": "code",
   "execution_count": null,
   "metadata": {},
   "outputs": [],
   "source": [
    "#test 1\n",
    "#browser.get('https://www.seloger.com/annonces/achat/appartement/paris-16eme-75/auteuil-sud/155544855.htm?projects=2,5&types=1&natures=1,2,4&places=[{ci:750116}]&sort=d_relevance&cellar=1&enterprise=0&qsVersion=1.0&bd=ListToDetail')"
   ]
  },
  {
   "cell_type": "code",
   "execution_count": null,
   "metadata": {},
   "outputs": [],
   "source": [
    "#test 2\n",
    "browser.get('')"
   ]
  },
  {
   "cell_type": "code",
   "execution_count": null,
   "metadata": {},
   "outputs": [],
   "source": [
    "browser.maximize_window()\n"
   ]
  },
  {
   "cell_type": "markdown",
   "metadata": {},
   "source": [
    "### Style"
   ]
  },
  {
   "cell_type": "code",
   "execution_count": 64,
   "metadata": {},
   "outputs": [],
   "source": [
    "#style\n",
    "try:\n",
    "    style = browser.find_element_by_xpath('//*[@id=\"root\"]/div/main/div[3]/div[2]/div[1]/div[1]/div[3]/div[2]/div[1]/div[1]')\n",
    "except NoSuchElementException:\n",
    "    print('Non reference')"
   ]
  },
  {
   "cell_type": "code",
   "execution_count": 65,
   "metadata": {},
   "outputs": [
    {
     "data": {
      "text/plain": [
       "'Appartement'"
      ]
     },
     "execution_count": 65,
     "metadata": {},
     "output_type": "execute_result"
    }
   ],
   "source": [
    "style.text"
   ]
  },
  {
   "cell_type": "markdown",
   "metadata": {},
   "source": [
    "### Nb de piece"
   ]
  },
  {
   "cell_type": "code",
   "execution_count": 17,
   "metadata": {},
   "outputs": [
    {
     "name": "stdout",
     "output_type": "stream",
     "text": [
      "Non reference\n"
     ]
    }
   ],
   "source": [
    "#nb de piece\n",
    "try:\n",
    "    piece = browser.find_element_by_class_name('global-styles__TextNoWrap-sc-1aeotog-6 dVzJN')\n",
    "except NoSuchElementException:\n",
    "    print('Non reference')\n",
    "    "
   ]
  },
  {
   "cell_type": "code",
   "execution_count": 18,
   "metadata": {},
   "outputs": [],
   "source": [
    "#nb de piece\n",
    "try:\n",
    "    nb_piece = browser.find_element_by_xpath('//*[@id=\"root\"]/div/main/div[3]/div[2]/div[1]/div[1]/div[3]/div[2]/div[3]/div[1]/div[2]')\n",
    "except NoSuchElementException:\n",
    "    print('Non reference')"
   ]
  },
  {
   "cell_type": "code",
   "execution_count": 20,
   "metadata": {},
   "outputs": [
    {
     "data": {
      "text/plain": [
       "'4 pièces'"
      ]
     },
     "execution_count": 20,
     "metadata": {},
     "output_type": "execute_result"
    }
   ],
   "source": [
    "piece.text"
   ]
  },
  {
   "cell_type": "markdown",
   "metadata": {},
   "source": [
    "### Nb de chambre"
   ]
  },
  {
   "cell_type": "code",
   "execution_count": 21,
   "metadata": {},
   "outputs": [],
   "source": [
    "#nb de chambre\n",
    "try:\n",
    "    nb_chambre = browser.find_element_by_xpath('//*[@id=\"root\"]/div/main/div[3]/div[2]/div[1]/div[1]/div[3]/div[2]/div[3]/div[2]/div[2]')\n",
    "except NoSuchElementException:\n",
    "    print('Non reference')"
   ]
  },
  {
   "cell_type": "code",
   "execution_count": 22,
   "metadata": {},
   "outputs": [
    {
     "data": {
      "text/plain": [
       "'2 chambres'"
      ]
     },
     "execution_count": 22,
     "metadata": {},
     "output_type": "execute_result"
    }
   ],
   "source": [
    "nb_chambre.text"
   ]
  },
  {
   "cell_type": "markdown",
   "metadata": {},
   "source": [
    "### Taille en m2"
   ]
  },
  {
   "cell_type": "code",
   "execution_count": 52,
   "metadata": {},
   "outputs": [],
   "source": [
    "#taille en m2\n",
    "try:\n",
    "    taille = browser.find_element_by_xpath('//*[@id=\"root\"]/div/main/div[3]/div[2]/div[1]/div[1]/div[3]/div[2]/div[3]/div[3]/div[2]')\n",
    "except NoSuchElementException:\n",
    "    taille = 'Non reference'"
   ]
  },
  {
   "cell_type": "code",
   "execution_count": 53,
   "metadata": {},
   "outputs": [
    {
     "data": {
      "text/plain": [
       "'80m²'"
      ]
     },
     "execution_count": 53,
     "metadata": {},
     "output_type": "execute_result"
    }
   ],
   "source": [
    "taille.text"
   ]
  },
  {
   "cell_type": "code",
   "execution_count": 54,
   "metadata": {},
   "outputs": [],
   "source": [
    "try:\n",
    "    taille_test = browser.find_element_by_css_selector('.TagsWithIcon__TagContainer-j1x9om-1 eohXcO div')\n",
    "except NoSuchElementException:\n",
    "    taille_test = 'Non reference'"
   ]
  },
  {
   "cell_type": "code",
   "execution_count": 55,
   "metadata": {},
   "outputs": [
    {
     "data": {
      "text/plain": [
       "'Non reference'"
      ]
     },
     "execution_count": 55,
     "metadata": {},
     "output_type": "execute_result"
    }
   ],
   "source": [
    "taille_test"
   ]
  },
  {
   "cell_type": "markdown",
   "metadata": {},
   "source": [
    "### Prix par m2"
   ]
  },
  {
   "cell_type": "code",
   "execution_count": 56,
   "metadata": {},
   "outputs": [],
   "source": [
    "#prix par m2\n",
    "try:\n",
    "    prix_m2 = browser.find_element_by_xpath('//*[@id=\"root\"]/div/main/div[3]/div[2]/div[1]/div[1]/div[3]/div[2]/div[3]/div[4]/div[2]')\n",
    "except NoSuchElementException:\n",
    "    prix_m2 = 'Non reference'\n",
    "    "
   ]
  },
  {
   "cell_type": "code",
   "execution_count": 57,
   "metadata": {},
   "outputs": [
    {
     "data": {
      "text/plain": [
       "'11 862 € / m²'"
      ]
     },
     "execution_count": 57,
     "metadata": {},
     "output_type": "execute_result"
    }
   ],
   "source": [
    "prix_m2.text"
   ]
  },
  {
   "cell_type": "markdown",
   "metadata": {},
   "source": [
    "### Prix"
   ]
  },
  {
   "cell_type": "code",
   "execution_count": 58,
   "metadata": {},
   "outputs": [],
   "source": [
    "#prix\n",
    "try:\n",
    "    prix = browser.find_element_by_xpath('//*[@id=\"root\"]/div/main/div[3]/div[2]/div[1]/div[1]/div[3]/div[2]/div[2]/div/span/span')\n",
    "except NoSuchElementException:\n",
    "    prix = 'Non reference'"
   ]
  },
  {
   "cell_type": "code",
   "execution_count": 63,
   "metadata": {},
   "outputs": [
    {
     "data": {
      "text/plain": [
       "'Non reference'"
      ]
     },
     "execution_count": 63,
     "metadata": {},
     "output_type": "execute_result"
    }
   ],
   "source": [
    "prix"
   ]
  },
  {
   "cell_type": "code",
   "execution_count": 70,
   "metadata": {},
   "outputs": [],
   "source": [
    "#prix\n",
    "try:\n",
    "    prix = browser.find_element_by_css_selector('span.global-styles__TextNoWrap-sc-1aeotog-6 dVzJN')\n",
    "except NoSuchElementException:\n",
    "    prix = 'Non reference'"
   ]
  },
  {
   "cell_type": "code",
   "execution_count": 71,
   "metadata": {},
   "outputs": [
    {
     "data": {
      "text/plain": [
       "'Non reference'"
      ]
     },
     "execution_count": 71,
     "metadata": {},
     "output_type": "execute_result"
    }
   ],
   "source": [
    "prix"
   ]
  },
  {
   "cell_type": "markdown",
   "metadata": {},
   "source": [
    "### Detail"
   ]
  },
  {
   "cell_type": "code",
   "execution_count": 66,
   "metadata": {},
   "outputs": [],
   "source": [
    "#paragraphe\n",
    "try:\n",
    "    paragraphe = browser.find_element_by_xpath('//*[@id=\"showcase-description\"]/div[1]/div/div/div[1]/p')\n",
    "except NoSuchElementException:\n",
    "    paragraphe = 'Non reference'"
   ]
  },
  {
   "cell_type": "code",
   "execution_count": 67,
   "metadata": {},
   "outputs": [
    {
     "data": {
      "text/plain": [
       "\"Avenue de Versailles, proche métro. Dans une résidence de standing de 1991 avec gardien au 8ème étage avec grand ascenseur. Un appartement familial de 3/4 pièces avec plan en étoile d'une surface de 80m² au sol dont 79,17m² Carrez, Très LUMINEUX, plein SUD et sans vis-à-vis avec BALCON. Il se compose d'une entrée avec placards donnant sur un spacieux double-séjour, 1 chambre avec sa propre salle d'eau et placards, 1 suite parentale avec une vue magique sur la Tour Eiffel, avec dressing, salle d'eau avec WC et fenêtre, cuisine séparée toute équipée pouvant être ouverte sur le séjour, WC séparé, beau parquet au sol, double vitrage. Une cave complète ce bien. 1 place de parking possible en location. Avenue de Versailles, proche des commerces et au pied du métro Porte de Saint-Cloud. Classe d'énergie D Copropriété: 277 lots dont 107 lots principaux. Quote-part budget prévisionnel annuel: 2412 €. Prix affiché honoraires inclus à 3,04% TTC.\""
      ]
     },
     "execution_count": 67,
     "metadata": {},
     "output_type": "execute_result"
    }
   ],
   "source": [
    "paragraphe.text"
   ]
  },
  {
   "cell_type": "code",
   "execution_count": 95,
   "metadata": {},
   "outputs": [
    {
     "data": {
      "text/plain": [
       "True"
      ]
     },
     "execution_count": 95,
     "metadata": {},
     "output_type": "execute_result"
    }
   ],
   "source": [
    "appartement = bool(re.search('appartement',paragraphe.text))\n",
    "appartement"
   ]
  },
  {
   "cell_type": "code",
   "execution_count": 90,
   "metadata": {},
   "outputs": [
    {
     "data": {
      "text/plain": [
       "False"
      ]
     },
     "execution_count": 90,
     "metadata": {},
     "output_type": "execute_result"
    }
   ],
   "source": [
    "jardin = bool(re.search('jardin',paragraphe.text))\n",
    "jardin"
   ]
  },
  {
   "cell_type": "code",
   "execution_count": 92,
   "metadata": {},
   "outputs": [
    {
     "data": {
      "text/plain": [
       "True"
      ]
     },
     "execution_count": 92,
     "metadata": {},
     "output_type": "execute_result"
    }
   ],
   "source": [
    "cave = bool(re.search('cave',paragraphe.text))\n",
    "cave"
   ]
  },
  {
   "cell_type": "code",
   "execution_count": 93,
   "metadata": {},
   "outputs": [
    {
     "data": {
      "text/plain": [
       "True"
      ]
     },
     "execution_count": 93,
     "metadata": {},
     "output_type": "execute_result"
    }
   ],
   "source": [
    "parking = bool(re.search('parking',paragraphe.text))\n",
    "parking"
   ]
  },
  {
   "cell_type": "code",
   "execution_count": null,
   "metadata": {},
   "outputs": [],
   "source": []
  }
 ],
 "metadata": {
  "hide_input": false,
  "kernelspec": {
   "display_name": "Python 3",
   "language": "python",
   "name": "python3"
  },
  "language_info": {
   "codemirror_mode": {
    "name": "ipython",
    "version": 3
   },
   "file_extension": ".py",
   "mimetype": "text/x-python",
   "name": "python",
   "nbconvert_exporter": "python",
   "pygments_lexer": "ipython3",
   "version": "3.6.0"
  },
  "toc": {
   "base_numbering": 1,
   "nav_menu": {},
   "number_sections": true,
   "sideBar": true,
   "skip_h1_title": false,
   "title_cell": "Table of Contents",
   "title_sidebar": "Contents",
   "toc_cell": false,
   "toc_position": {},
   "toc_section_display": true,
   "toc_window_display": false
  },
  "varInspector": {
   "cols": {
    "lenName": 16,
    "lenType": 16,
    "lenVar": 40
   },
   "kernels_config": {
    "python": {
     "delete_cmd_postfix": "",
     "delete_cmd_prefix": "del ",
     "library": "var_list.py",
     "varRefreshCmd": "print(var_dic_list())"
    },
    "r": {
     "delete_cmd_postfix": ") ",
     "delete_cmd_prefix": "rm(",
     "library": "var_list.r",
     "varRefreshCmd": "cat(var_dic_list()) "
    }
   },
   "types_to_exclude": [
    "module",
    "function",
    "builtin_function_or_method",
    "instance",
    "_Feature"
   ],
   "window_display": false
  }
 },
 "nbformat": 4,
 "nbformat_minor": 4
}
